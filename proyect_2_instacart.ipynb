{
 "cells": [
  {
   "cell_type": "markdown",
   "id": "3Xg_RQfnafXz",
   "metadata": {
    "id": "3Xg_RQfnafXz"
   },
   "source": [
    "# ¡Llena ese carrito!"
   ]
  },
  {
   "cell_type": "markdown",
   "id": "mhIvmmkW414q",
   "metadata": {
    "id": "mhIvmmkW414q"
   },
   "source": [
    "# Introducción\n",
    "\n",
    "Instacart es una plataforma de entregas de comestibles donde la clientela puede registrar un pedido y hacer que se lo entreguen, similar a Uber Eats y Door Dash.\n",
    "El conjunto de datos que se proporciona tiene modificaciones del original. Se redujo el tamaño del conjunto para que los cálculos se hicieran más rápido e introduje valores ausentes y duplicados. Se tuvo cuidado de conservar las distribuciones de los datos originales cuando se hizo los cambios.\n"
   ]
  },
  {
   "cell_type": "markdown",
   "id": "3MbyzpOQZ5Or",
   "metadata": {
    "id": "3MbyzpOQZ5Or"
   },
   "source": [
    "## Diccionario de datos\n",
    "\n",
    "Hay cinco tablas en el conjunto de datos, y se usaran todas para hacer el preprocesamiento de datos y el análisis exploratorio de datos. A continuación se muestra un diccionario de datos que enumera las columnas de cada tabla y describe los datos que contienen.\n",
    "\n",
    "- `instacart_orders.csv`: cada fila corresponde a un pedido en la aplicación Instacart.\n",
    "    - `'order_id'`: número de ID que identifica de manera única cada pedido.\n",
    "    - `'user_id'`: número de ID que identifica de manera única la cuenta de cada cliente.\n",
    "    - `'order_number'`: el número de veces que este cliente ha hecho un pedido.\n",
    "    - `'order_dow'`: día de la semana en que se hizo el pedido (0 si es domingo).\n",
    "    - `'order_hour_of_day'`: hora del día en que se hizo el pedido.\n",
    "    - `'days_since_prior_order'`: número de días transcurridos desde que este cliente hizo su pedido anterior.\n",
    "- `products.csv`: cada fila corresponde a un producto único que pueden comprar los clientes.\n",
    "    - `'product_id'`: número ID que identifica de manera única cada producto.\n",
    "    - `'product_name'`: nombre del producto.\n",
    "    - `'aisle_id'`: número ID que identifica de manera única cada categoría de pasillo de víveres.\n",
    "    - `'department_id'`: número ID que identifica de manera única cada departamento de víveres.\n",
    "- `order_products.csv`: cada fila corresponde a un artículo pedido en un pedido.\n",
    "    - `'order_id'`: número de ID que identifica de manera única cada pedido.\n",
    "    - `'product_id'`: número ID que identifica de manera única cada producto.\n",
    "    - `'add_to_cart_order'`: el orden secuencial en el que se añadió cada artículo en el carrito.\n",
    "    - `'reordered'`: 0 si el cliente nunca ha pedido este producto antes, 1 si lo ha pedido.\n",
    "- `aisles.csv`\n",
    "    - `'aisle_id'`: número ID que identifica de manera única cada categoría de pasillo de víveres.\n",
    "    - `'aisle'`: nombre del pasillo.\n",
    "- `departments.csv`\n",
    "    - `'department_id'`: número ID que identifica de manera única cada departamento de víveres.\n",
    "    - `'department'`: nombre del departamento."
   ]
  },
  {
   "cell_type": "markdown",
   "id": "n3Ha_cNSZ8lK",
   "metadata": {
    "id": "n3Ha_cNSZ8lK"
   },
   "source": [
    "# Paso 1. Descripción de los datos\n",
    "\n",
    "Se lee los archivos (`/datasets/instacart_orders.csv`, `/datasets/products.csv`, `/datasets/aisles.csv`, `/datasets/departments.csv` y `/datasets/order_products.csv`) con `pd.read_csv()` usando los parámetros adecuados para leer los datos correctamente. \n"
   ]
  },
  {
   "cell_type": "code",
   "execution_count": 35,
   "id": "fbf1adab",
   "metadata": {
    "id": "fbf1adab"
   },
   "outputs": [],
   "source": [
    "# importacion de librerías\n",
    "import pandas as pd #libreria para acceder a los dataframes\n",
    "import numpy as np #libreria para el usoo de arrays\n",
    "import matplotlib.pyplot as plt #libreria para visualizar informacion"
   ]
  },
  {
   "cell_type": "code",
   "execution_count": 36,
   "id": "ad36396d",
   "metadata": {
    "id": "ad36396d"
   },
   "outputs": [],
   "source": [
    "#Se lee todo el conjunto de datos y se configura para que el separador sea una coma.\n",
    "df_instacart=pd.read_csv('C:/Users/andre/Documents/TRIPLETEN ANALISIS DE DATOS/Proyectos/Proyecto_2/instacart_orders.csv',sep=';')\n",
    "df_products=pd.read_csv('C:/Users/andre/Documents/TRIPLETEN ANALISIS DE DATOS/Proyectos/Proyecto_2/products.csv',sep=';')\n",
    "df_aisles=pd.read_csv('C:/Users/andre/Documents/TRIPLETEN ANALISIS DE DATOS/Proyectos/Proyecto_2/aisles.csv',sep=';')\n",
    "df_departments=pd.read_csv('C:/Users/andre/Documents/TRIPLETEN ANALISIS DE DATOS/Proyectos/Proyecto_2/departments.csv',sep=';')\n",
    "df_order_products=pd.read_csv('C:/Users/andre/Documents/TRIPLETEN ANALISIS DE DATOS/Proyectos/Proyecto_2/order_products.csv',sep=';')"
   ]
  },
  {
   "cell_type": "code",
   "execution_count": 37,
   "id": "ad6a1efa",
   "metadata": {
    "id": "ad6a1efa"
   },
   "outputs": [
    {
     "name": "stdout",
     "output_type": "stream",
     "text": [
      "<class 'pandas.core.frame.DataFrame'>\n",
      "RangeIndex: 478967 entries, 0 to 478966\n",
      "Data columns (total 6 columns):\n",
      " #   Column                  Non-Null Count   Dtype  \n",
      "---  ------                  --------------   -----  \n",
      " 0   order_id                478967 non-null  int64  \n",
      " 1   user_id                 478967 non-null  int64  \n",
      " 2   order_number            478967 non-null  int64  \n",
      " 3   order_day               478967 non-null  int64  \n",
      " 4   order_hour_of_day       478967 non-null  int64  \n",
      " 5   days_since_prior_order  450148 non-null  float64\n",
      "dtypes: float64(1), int64(5)\n",
      "memory usage: 21.9 MB\n"
     ]
    }
   ],
   "source": [
    "# mostrar información del DataFrame\n",
    "#La primera ves que se llamo a info se observo que order_dow deberia ser day por lo que se realiza el cambio.\n",
    "new_name={'order_dow':'order_day'}\n",
    "df_instacart.rename(columns=new_name, inplace=True)\n",
    "df_instacart.info()"
   ]
  },
  {
   "cell_type": "code",
   "execution_count": 38,
   "id": "5130e05e",
   "metadata": {
    "id": "5130e05e"
   },
   "outputs": [
    {
     "name": "stdout",
     "output_type": "stream",
     "text": [
      "<class 'pandas.core.frame.DataFrame'>\n",
      "RangeIndex: 49694 entries, 0 to 49693\n",
      "Data columns (total 4 columns):\n",
      " #   Column         Non-Null Count  Dtype \n",
      "---  ------         --------------  ----- \n",
      " 0   product_id     49694 non-null  int64 \n",
      " 1   product_name   48436 non-null  object\n",
      " 2   aisle_id       49694 non-null  int64 \n",
      " 3   department_id  49694 non-null  int64 \n",
      "dtypes: int64(3), object(1)\n",
      "memory usage: 1.5+ MB\n"
     ]
    }
   ],
   "source": [
    "# mostrar información del DataFrame\n",
    "#se usa el parametro de show counts dentro de info para poder mostrar los valores nulos. \n",
    "df_products.info(show_counts=True)"
   ]
  },
  {
   "cell_type": "code",
   "execution_count": 39,
   "id": "d8370c05",
   "metadata": {
    "id": "d8370c05"
   },
   "outputs": [
    {
     "name": "stdout",
     "output_type": "stream",
     "text": [
      "<class 'pandas.core.frame.DataFrame'>\n",
      "RangeIndex: 134 entries, 0 to 133\n",
      "Data columns (total 2 columns):\n",
      " #   Column    Non-Null Count  Dtype \n",
      "---  ------    --------------  ----- \n",
      " 0   aisle_id  134 non-null    int64 \n",
      " 1   aisle     134 non-null    object\n",
      "dtypes: int64(1), object(1)\n",
      "memory usage: 2.2+ KB\n"
     ]
    }
   ],
   "source": [
    "# mostrar información del DataFrame\n",
    "df_aisles.info()"
   ]
  },
  {
   "cell_type": "code",
   "execution_count": 40,
   "id": "59e2090f",
   "metadata": {
    "id": "59e2090f"
   },
   "outputs": [
    {
     "name": "stdout",
     "output_type": "stream",
     "text": [
      "<class 'pandas.core.frame.DataFrame'>\n",
      "RangeIndex: 21 entries, 0 to 20\n",
      "Data columns (total 2 columns):\n",
      " #   Column         Non-Null Count  Dtype \n",
      "---  ------         --------------  ----- \n",
      " 0   department_id  21 non-null     int64 \n",
      " 1   department     21 non-null     object\n",
      "dtypes: int64(1), object(1)\n",
      "memory usage: 468.0+ bytes\n"
     ]
    }
   ],
   "source": [
    "# mostrar información del DataFrame\n",
    "df_departments.info()"
   ]
  },
  {
   "cell_type": "code",
   "execution_count": 41,
   "id": "6fc81694",
   "metadata": {
    "id": "6fc81694"
   },
   "outputs": [
    {
     "name": "stdout",
     "output_type": "stream",
     "text": [
      "<class 'pandas.core.frame.DataFrame'>\n",
      "RangeIndex: 4545007 entries, 0 to 4545006\n",
      "Data columns (total 4 columns):\n",
      " #   Column             Non-Null Count    Dtype  \n",
      "---  ------             --------------    -----  \n",
      " 0   order_id           4545007 non-null  int64  \n",
      " 1   product_id         4545007 non-null  int64  \n",
      " 2   add_to_cart_order  4544171 non-null  float64\n",
      " 3   reordered          4545007 non-null  int64  \n",
      "dtypes: float64(1), int64(3)\n",
      "memory usage: 138.7 MB\n"
     ]
    }
   ],
   "source": [
    "# mostrar información del DataFrame\n",
    "df_order_products.info(show_counts=True)"
   ]
  },
  {
   "cell_type": "markdown",
   "id": "t75BD19oaR5f",
   "metadata": {
    "id": "t75BD19oaR5f"
   },
   "source": [
    "## Conclusiones\n",
    "\n",
    "Escribe aquí tus conclusiones intermedias sobre el Paso 1. Descripción de los datos.\n",
    "\n",
    "1)En primer lugar se puede ver que los datos vienen en un formato CSV el cual la coma no es el principal elemento separador , por lo que previamente a la visualizacion de la informacion los datos , se procedio a cambiar el separador para mostrar los datos de forma correcta.\n",
    "\n",
    "2) Explorando los datos de instacar solo la columna de days_since_prior_order tiene valores faltantes por lo que hay que corroborar esa informacion para el avance. Con respecto a la columna products la columna de add_to car tiene valores faltantes por lo que de igual manera hay que corroborar. \n",
    "\n",
    "3) Para la tabla de order_products se tiene que en reordered existen valores faltantes. Se puede mencionar tambien que contamos con datos en su mayoria de tipo entero , asi mismo se tiene flotantes y de tipo object es decir string. De iugal manera se puede observar que la columna dow corresponde a la columna day."
   ]
  },
  {
   "cell_type": "markdown",
   "id": "8RJHqxVmaVsF",
   "metadata": {
    "id": "8RJHqxVmaVsF"
   },
   "source": [
    "# Paso 2. Preprocesamiento de los datos\n",
    "\n",
    "Preprocesa los datos de la siguiente manera:\n",
    "\n",
    "- Se verifica y corrige los tipos de datos \n",
    "- Se identifica y completa los valores ausentes.\n",
    "- Se identifica y elimina los valores duplicados.\n",
    "\n"
   ]
  },
  {
   "cell_type": "markdown",
   "id": "07357848-dc64-4156-9cc3-01ff4365226d",
   "metadata": {
    "id": "07357848-dc64-4156-9cc3-01ff4365226d"
   },
   "source": [
    "## Se procede a verificar si existen valores duplicados en cada una de las tablas por usar."
   ]
  },
  {
   "cell_type": "markdown",
   "id": "f179f0a9",
   "metadata": {
    "id": "f179f0a9"
   },
   "source": [
    "### `instacart_orders` data frame"
   ]
  },
  {
   "cell_type": "code",
   "execution_count": 42,
   "id": "b99297a5-405a-463d-8535-9adc3da4ad74",
   "metadata": {
    "id": "b99297a5-405a-463d-8535-9adc3da4ad74"
   },
   "outputs": [
    {
     "data": {
      "text/plain": [
       "np.int64(15)"
      ]
     },
     "execution_count": 42,
     "metadata": {},
     "output_type": "execute_result"
    }
   ],
   "source": [
    "# Revisa si hay pedidos duplicados\n",
    "df_instacart['order_id'].duplicated().sum()"
   ]
  },
  {
   "cell_type": "markdown",
   "id": "PEkwUX_gvt5A",
   "metadata": {
    "id": "PEkwUX_gvt5A"
   },
   "source": [
    "Existen 15 valores duplicados en instacart "
   ]
  },
  {
   "cell_type": "code",
   "execution_count": 43,
   "id": "0d44de5d",
   "metadata": {
    "id": "0d44de5d"
   },
   "outputs": [
    {
     "name": "stdout",
     "output_type": "stream",
     "text": [
      "        order_id  user_id  order_number  order_day  order_hour_of_day  \\\n",
      "4838     2766110   162084            41          3                  2   \n",
      "5156     2190225   138285            18          3                  2   \n",
      "15506     553049    58599            13          3                  2   \n",
      "18420     382357   120200            19          3                  2   \n",
      "24691     690242    77357             2          3                  2   \n",
      "...          ...      ...           ...        ...                ...   \n",
      "457013   3384021    14881             6          3                  2   \n",
      "458816    910166   164782            18          3                  2   \n",
      "459635   1680532   106435             6          3                  2   \n",
      "468324    222962    54979            59          3                  2   \n",
      "477526   2592344    46860            38          3                  2   \n",
      "\n",
      "        days_since_prior_order  \n",
      "4838                      16.0  \n",
      "5156                      11.0  \n",
      "15506                      7.0  \n",
      "18420                     11.0  \n",
      "24691                      9.0  \n",
      "...                        ...  \n",
      "457013                    30.0  \n",
      "458816                     4.0  \n",
      "459635                    21.0  \n",
      "468324                     3.0  \n",
      "477526                     3.0  \n",
      "\n",
      "[121 rows x 6 columns]\n",
      "Los pedidos duplicados son: \n",
      "15\n"
     ]
    }
   ],
   "source": [
    "#Se va a verificar todos los pedidos que se hicieron el miercoles a las 2:00 am \n",
    "\n",
    "#Para esto se usa el metodo query el cual el dia miercoles equivale a Tres, y el horario de 2am equivale al entero 2.\n",
    "order_wednesday=df_instacart.query(\"order_day==3 and order_hour_of_day==2\")\n",
    "print(order_wednesday) #muestra el dataframe filtrado \n",
    "print('Los pedidos duplicados son: ')\n",
    "print(order_wednesday['order_id'].duplicated().sum()) #del dataframe filtrado , se busca los pedidos duplicados.\n"
   ]
  },
  {
   "cell_type": "markdown",
   "id": "vu2OWyoqwOx5",
   "metadata": {
    "id": "vu2OWyoqwOx5"
   },
   "source": [
    "\n",
    "El dia miercoles a las 2 am , se produjeron todos los duplicados que en este caso son 15, por lo que primero se consulta o se analiza que paso para luego proceder con la eliminacion."
   ]
  },
  {
   "cell_type": "code",
   "execution_count": 44,
   "id": "480563c7",
   "metadata": {
    "id": "480563c7"
   },
   "outputs": [
    {
     "name": "stdout",
     "output_type": "stream",
     "text": [
      "0\n"
     ]
    }
   ],
   "source": [
    "# Se elimina los pedidos duplicados\n",
    "df_instacart.drop_duplicates(inplace=True) \n",
    "# Vuelve a verificar si hay filas duplicadas\n",
    "print(df_instacart.duplicated().sum())"
   ]
  },
  {
   "cell_type": "code",
   "execution_count": 45,
   "id": "f6113ef1",
   "metadata": {
    "id": "f6113ef1"
   },
   "outputs": [
    {
     "data": {
      "text/plain": [
       "np.int64(0)"
      ]
     },
     "execution_count": 45,
     "metadata": {},
     "output_type": "execute_result"
    }
   ],
   "source": [
    "# Vuelve a verificar si hay IDs duplicados de pedidos\n",
    "df_instacart['order_id'].duplicated().sum()"
   ]
  },
  {
   "cell_type": "markdown",
   "id": "5e8905ae",
   "metadata": {
    "id": "5e8905ae"
   },
   "source": [
    "\n",
    "En esta primera parte se procedio a analizar los elementos duplicados, donde nos guiamos en base al id del producto , se pudo encontrar que existian 15 elementos duplcicados ,el cual los eliminamos con exito. Se comprobo que estos duplicados estaban presentes los dias miercoles a las 2am. "
   ]
  },
  {
   "cell_type": "markdown",
   "id": "45e6bc46",
   "metadata": {
    "id": "45e6bc46"
   },
   "source": [
    "### `products` data frame"
   ]
  },
  {
   "cell_type": "code",
   "execution_count": 46,
   "id": "5f526b5b-8175-46fa-a0fd-441767d50e64",
   "metadata": {
    "id": "5f526b5b-8175-46fa-a0fd-441767d50e64"
   },
   "outputs": [
    {
     "data": {
      "text/plain": [
       "np.int64(0)"
      ]
     },
     "execution_count": 46,
     "metadata": {},
     "output_type": "execute_result"
    }
   ],
   "source": [
    "#Se verifica si hay filas totalmente duplicadas\n",
    "df_products.duplicated().sum()"
   ]
  },
  {
   "cell_type": "code",
   "execution_count": 47,
   "id": "88daa4f4",
   "metadata": {
    "id": "88daa4f4"
   },
   "outputs": [
    {
     "data": {
      "text/plain": [
       "np.int64(0)"
      ]
     },
     "execution_count": 47,
     "metadata": {},
     "output_type": "execute_result"
    }
   ],
   "source": [
    "# Verifica si hay IDs duplicadas de productos\n",
    "df_products['product_id'].duplicated().sum()"
   ]
  },
  {
   "cell_type": "code",
   "execution_count": 48,
   "id": "c773f0bf",
   "metadata": {
    "id": "c773f0bf"
   },
   "outputs": [
    {
     "data": {
      "text/plain": [
       "np.int64(1361)"
      ]
     },
     "execution_count": 48,
     "metadata": {},
     "output_type": "execute_result"
    }
   ],
   "source": [
    "# Se revisa si hay nombres duplicados de productos (convierte los nombres a letras mayúsculas para compararlos mejor)\n",
    "df_products['product_name']=df_products['product_name'].str.upper() #Se convirtio todos los valores de la columna product name en mayuscula\n",
    "df_products['product_name'].duplicated().sum()"
   ]
  },
  {
   "cell_type": "code",
   "execution_count": 49,
   "id": "01efd02e",
   "metadata": {
    "id": "01efd02e"
   },
   "outputs": [
    {
     "name": "stdout",
     "output_type": "stream",
     "text": [
      "0\n"
     ]
    }
   ],
   "source": [
    "# Se revisa si hay nombres duplicados de productos no faltantes\n",
    "nan_product_name=df_products.dropna(subset=['product_name'],inplace=False) #elimino los valores faltantes correspondientes a la fila product_name\n",
    "print(nan_product_name.duplicated().sum())\n",
    "\n",
    "\n"
   ]
  },
  {
   "cell_type": "markdown",
   "id": "9da8d293",
   "metadata": {
    "id": "9da8d293"
   },
   "source": [
    "\n",
    "En primer lugar se comprobo si en filas completas del dataframes de products existian duplicados , el cual no contiene. Luego en el producto id se comprobo si existian duplicados y tampoco contienen , y luego en la columna de product name se convirtieron todos los valores a mayusculas y se comprobo que existen 1361 valores duplicados , en los cuales con el ultimo procedimiento al momento de eliminar los valores nulos , se pudo captar que realmente estos valores duplicados , eran valores ausentes."
   ]
  },
  {
   "cell_type": "markdown",
   "id": "60f30db1",
   "metadata": {
    "id": "60f30db1"
   },
   "source": [
    "### `departments` data frame"
   ]
  },
  {
   "cell_type": "code",
   "execution_count": 50,
   "id": "fb410ad4-0fbf-4b80-bb09-23fdea79afe3",
   "metadata": {
    "id": "fb410ad4-0fbf-4b80-bb09-23fdea79afe3"
   },
   "outputs": [
    {
     "data": {
      "text/plain": [
       "np.int64(0)"
      ]
     },
     "execution_count": 50,
     "metadata": {},
     "output_type": "execute_result"
    }
   ],
   "source": [
    "# Se revisa si hay filas totalmente duplicadas\n",
    "df_departments.duplicated().sum()\n"
   ]
  },
  {
   "cell_type": "code",
   "execution_count": 51,
   "id": "332b12bb",
   "metadata": {
    "id": "332b12bb"
   },
   "outputs": [
    {
     "data": {
      "text/plain": [
       "np.int64(0)"
      ]
     },
     "execution_count": 51,
     "metadata": {},
     "output_type": "execute_result"
    }
   ],
   "source": [
    "# Se revisa si hay IDs duplicadas de productos\n",
    "df_departments['department_id'].duplicated().sum()"
   ]
  },
  {
   "cell_type": "markdown",
   "id": "bd30d78e",
   "metadata": {
    "id": "bd30d78e"
   },
   "source": [
    "\n",
    "No se encontraron valores duplicados."
   ]
  },
  {
   "cell_type": "markdown",
   "id": "889349c1",
   "metadata": {
    "id": "889349c1"
   },
   "source": [
    "### `aisles` data frame"
   ]
  },
  {
   "cell_type": "code",
   "execution_count": 52,
   "id": "9da89fb9-4679-40f5-ad0d-c34df753a3f8",
   "metadata": {
    "id": "9da89fb9-4679-40f5-ad0d-c34df753a3f8"
   },
   "outputs": [
    {
     "data": {
      "text/plain": [
       "np.int64(0)"
      ]
     },
     "execution_count": 52,
     "metadata": {},
     "output_type": "execute_result"
    }
   ],
   "source": [
    "# Se revisa si hay filas totalmente duplicadas\n",
    "df_aisles.duplicated().sum()\n"
   ]
  },
  {
   "cell_type": "code",
   "execution_count": 53,
   "id": "da7c2822",
   "metadata": {
    "id": "da7c2822"
   },
   "outputs": [
    {
     "data": {
      "text/plain": [
       "np.int64(0)"
      ]
     },
     "execution_count": 53,
     "metadata": {},
     "output_type": "execute_result"
    }
   ],
   "source": [
    "# Se revisa si hay IDs duplicadas de productos\n",
    "df_aisles['aisle_id'].duplicated().sum()"
   ]
  },
  {
   "cell_type": "markdown",
   "id": "ac63826f",
   "metadata": {
    "id": "ac63826f"
   },
   "source": [
    "\n",
    "No se encontraron valores duplicados ni en filas completas ni en aisle_id"
   ]
  },
  {
   "cell_type": "markdown",
   "id": "274cd06a",
   "metadata": {
    "id": "274cd06a"
   },
   "source": [
    "### `order_products` data frame"
   ]
  },
  {
   "cell_type": "code",
   "execution_count": 54,
   "id": "52326689-84a8-4b8f-a881-7c68780f62c9",
   "metadata": {
    "id": "52326689-84a8-4b8f-a881-7c68780f62c9"
   },
   "outputs": [
    {
     "data": {
      "text/plain": [
       "np.int64(0)"
      ]
     },
     "execution_count": 54,
     "metadata": {},
     "output_type": "execute_result"
    }
   ],
   "source": [
    "# Se revisa si hay filas totalmente duplicadas\n",
    "df_order_products.duplicated().sum()"
   ]
  },
  {
   "cell_type": "markdown",
   "id": "0b890492",
   "metadata": {
    "id": "0b890492"
   },
   "source": [
    "\n",
    "No se encontraron valores duplicados \n"
   ]
  },
  {
   "cell_type": "markdown",
   "id": "1e46de76",
   "metadata": {
    "id": "1e46de76"
   },
   "source": [
    "## Encuentra y elimina los valores ausentes\n",
    "\n",
    "Al trabajar con valores duplicados, pudimos observar que también nos falta investigar valores ausentes:\n",
    "\n",
    "* La columna `'product_name'` de la tabla products.\n",
    "* La columna `'days_since_prior_order'` de la tabla orders.\n",
    "* La columna `'add_to_cart_order'` de la tabla order_productos."
   ]
  },
  {
   "cell_type": "markdown",
   "id": "c0aebd78",
   "metadata": {
    "id": "c0aebd78"
   },
   "source": [
    "### `products` data frame"
   ]
  },
  {
   "cell_type": "code",
   "execution_count": 55,
   "id": "fe4a8b0f",
   "metadata": {
    "id": "fe4a8b0f"
   },
   "outputs": [
    {
     "data": {
      "text/html": [
       "<div>\n",
       "<style scoped>\n",
       "    .dataframe tbody tr th:only-of-type {\n",
       "        vertical-align: middle;\n",
       "    }\n",
       "\n",
       "    .dataframe tbody tr th {\n",
       "        vertical-align: top;\n",
       "    }\n",
       "\n",
       "    .dataframe thead th {\n",
       "        text-align: right;\n",
       "    }\n",
       "</style>\n",
       "<table border=\"1\" class=\"dataframe\">\n",
       "  <thead>\n",
       "    <tr style=\"text-align: right;\">\n",
       "      <th></th>\n",
       "      <th>product_id</th>\n",
       "      <th>product_name</th>\n",
       "      <th>aisle_id</th>\n",
       "      <th>department_id</th>\n",
       "    </tr>\n",
       "  </thead>\n",
       "  <tbody>\n",
       "    <tr>\n",
       "      <th>37</th>\n",
       "      <td>38</td>\n",
       "      <td>NaN</td>\n",
       "      <td>100</td>\n",
       "      <td>21</td>\n",
       "    </tr>\n",
       "    <tr>\n",
       "      <th>71</th>\n",
       "      <td>72</td>\n",
       "      <td>NaN</td>\n",
       "      <td>100</td>\n",
       "      <td>21</td>\n",
       "    </tr>\n",
       "    <tr>\n",
       "      <th>109</th>\n",
       "      <td>110</td>\n",
       "      <td>NaN</td>\n",
       "      <td>100</td>\n",
       "      <td>21</td>\n",
       "    </tr>\n",
       "    <tr>\n",
       "      <th>296</th>\n",
       "      <td>297</td>\n",
       "      <td>NaN</td>\n",
       "      <td>100</td>\n",
       "      <td>21</td>\n",
       "    </tr>\n",
       "    <tr>\n",
       "      <th>416</th>\n",
       "      <td>417</td>\n",
       "      <td>NaN</td>\n",
       "      <td>100</td>\n",
       "      <td>21</td>\n",
       "    </tr>\n",
       "    <tr>\n",
       "      <th>...</th>\n",
       "      <td>...</td>\n",
       "      <td>...</td>\n",
       "      <td>...</td>\n",
       "      <td>...</td>\n",
       "    </tr>\n",
       "    <tr>\n",
       "      <th>49552</th>\n",
       "      <td>49553</td>\n",
       "      <td>NaN</td>\n",
       "      <td>100</td>\n",
       "      <td>21</td>\n",
       "    </tr>\n",
       "    <tr>\n",
       "      <th>49574</th>\n",
       "      <td>49575</td>\n",
       "      <td>NaN</td>\n",
       "      <td>100</td>\n",
       "      <td>21</td>\n",
       "    </tr>\n",
       "    <tr>\n",
       "      <th>49640</th>\n",
       "      <td>49641</td>\n",
       "      <td>NaN</td>\n",
       "      <td>100</td>\n",
       "      <td>21</td>\n",
       "    </tr>\n",
       "    <tr>\n",
       "      <th>49663</th>\n",
       "      <td>49664</td>\n",
       "      <td>NaN</td>\n",
       "      <td>100</td>\n",
       "      <td>21</td>\n",
       "    </tr>\n",
       "    <tr>\n",
       "      <th>49668</th>\n",
       "      <td>49669</td>\n",
       "      <td>NaN</td>\n",
       "      <td>100</td>\n",
       "      <td>21</td>\n",
       "    </tr>\n",
       "  </tbody>\n",
       "</table>\n",
       "<p>1258 rows × 4 columns</p>\n",
       "</div>"
      ],
      "text/plain": [
       "       product_id product_name  aisle_id  department_id\n",
       "37             38          NaN       100             21\n",
       "71             72          NaN       100             21\n",
       "109           110          NaN       100             21\n",
       "296           297          NaN       100             21\n",
       "416           417          NaN       100             21\n",
       "...           ...          ...       ...            ...\n",
       "49552       49553          NaN       100             21\n",
       "49574       49575          NaN       100             21\n",
       "49640       49641          NaN       100             21\n",
       "49663       49664          NaN       100             21\n",
       "49668       49669          NaN       100             21\n",
       "\n",
       "[1258 rows x 4 columns]"
      ]
     },
     "execution_count": 55,
     "metadata": {},
     "output_type": "execute_result"
    }
   ],
   "source": [
    "# Se encuentra los valores ausentes en la columna 'product_name'\n",
    "val_nan_products=df_products[df_products['product_name'].isna()]\n",
    "val_nan_products"
   ]
  },
  {
   "cell_type": "markdown",
   "id": "-A6x1AbJhjkp",
   "metadata": {
    "id": "-A6x1AbJhjkp"
   },
   "source": [
    "\n",
    "Se puede observar que existen 1258 en la columna product_name valores ausentes , y se puede ver a primera vista que en gran medida que es en la isla 100 y el departamento 21"
   ]
  },
  {
   "cell_type": "code",
   "execution_count": 83,
   "id": "e96167bc",
   "metadata": {
    "id": "e96167bc"
   },
   "outputs": [
    {
     "name": "stdout",
     "output_type": "stream",
     "text": [
      "1258\n"
     ]
    }
   ],
   "source": [
    "#  ¿Todos los nombres de productos ausentes están relacionados con el pasillo con ID 100?\n",
    "#para realizar esta comparacion se procedera a acceder a la columna aisle id y verificar cuantos valores en la isla son 100\n",
    "nan_aisle=val_nan_products[val_nan_products['aisle_id']==100]['aisle_id'].count()\n",
    "print(nan_aisle)"
   ]
  },
  {
   "cell_type": "markdown",
   "id": "WRpIfXRphpSL",
   "metadata": {
    "id": "WRpIfXRphpSL"
   },
   "source": [
    "\n",
    "Se puede ver que efecivamente todos los valores ausentes estan en la isla con ID100."
   ]
  },
  {
   "cell_type": "code",
   "execution_count": 57,
   "id": "8fd0a541",
   "metadata": {
    "id": "8fd0a541"
   },
   "outputs": [
    {
     "data": {
      "text/plain": [
       "np.int64(1258)"
      ]
     },
     "execution_count": 57,
     "metadata": {},
     "output_type": "execute_result"
    }
   ],
   "source": [
    "# ¿Todos los nombres de productos ausentes están relacionados con el departamento con ID 21?\n",
    "#se procede a realizar la misma ejercucion que el apartado anterior pero ahora para verificar en el id_department\n",
    "nan_department=val_nan_products[val_nan_products['department_id']==21]['department_id'].count()\n",
    "nan_department"
   ]
  },
  {
   "cell_type": "markdown",
   "id": "qDpdYn1Fht_I",
   "metadata": {
    "id": "qDpdYn1Fht_I"
   },
   "source": [
    "\n",
    "Efectivamente  todos los valores ausentes corresponden con la columna de ID21."
   ]
  },
  {
   "cell_type": "markdown",
   "id": "nqhSTUPhhvEJ",
   "metadata": {
    "id": "nqhSTUPhhvEJ"
   },
   "source": [
    "Describe brevemente cuáles son tus hallazgos."
   ]
  },
  {
   "cell_type": "code",
   "execution_count": 81,
   "id": "6b295120",
   "metadata": {
    "id": "6b295120"
   },
   "outputs": [
    {
     "name": "stderr",
     "output_type": "stream",
     "text": [
      "C:\\Users\\andre\\AppData\\Local\\Temp\\ipykernel_22876\\1169141154.py:3: FutureWarning: A value is trying to be set on a copy of a DataFrame or Series through chained assignment using an inplace method.\n",
      "The behavior will change in pandas 3.0. This inplace method will never work because the intermediate object on which we are setting values always behaves as a copy.\n",
      "\n",
      "For example, when doing 'df[col].method(value, inplace=True)', try using 'df.method({col: value}, inplace=True)' or df[col] = df[col].method(value) instead, to perform the operation inplace on the original object.\n",
      "\n",
      "\n",
      "  df_products['product_name'].fillna('Unknown',inplace=True)\n"
     ]
    }
   ],
   "source": [
    "# Completa los nombres de productos ausentes con 'Unknown'\n",
    "#PREGUNTA EN QUE TABLA TENGO QUE COMPLETAR LOS VALOES AUSENTES?\n",
    "df_products['product_name'].fillna('Unknown',inplace=True)\n"
   ]
  },
  {
   "cell_type": "markdown",
   "id": "fc70e5ad",
   "metadata": {
    "id": "fc70e5ad"
   },
   "source": [
    "\n",
    "\n",
    "Se completron los valores ausentes con la palabra 'Unknown'."
   ]
  },
  {
   "cell_type": "markdown",
   "id": "7eb45c86",
   "metadata": {
    "id": "7eb45c86"
   },
   "source": [
    "### `orders` data frame"
   ]
  },
  {
   "cell_type": "code",
   "execution_count": 59,
   "id": "93e41d96",
   "metadata": {
    "id": "93e41d96"
   },
   "outputs": [
    {
     "data": {
      "text/plain": [
       "order_id                      0\n",
       "user_id                       0\n",
       "order_number                  0\n",
       "order_day                     0\n",
       "order_hour_of_day             0\n",
       "days_since_prior_order    28817\n",
       "dtype: int64"
      ]
     },
     "execution_count": 59,
     "metadata": {},
     "output_type": "execute_result"
    }
   ],
   "source": [
    "# Encuentra los valores ausentes\n",
    "df_instacart.isna().sum()"
   ]
  },
  {
   "cell_type": "code",
   "execution_count": 60,
   "id": "166e5a86",
   "metadata": {
    "id": "166e5a86"
   },
   "outputs": [
    {
     "name": "stdout",
     "output_type": "stream",
     "text": [
      "order_id                  0\n",
      "user_id                   0\n",
      "order_number              0\n",
      "order_day                 0\n",
      "order_hour_of_day         0\n",
      "days_since_prior_order    0\n",
      "dtype: int64\n"
     ]
    }
   ],
   "source": [
    "# ¿Hay algún valor ausente que no sea el primer pedido del cliente?\n",
    "\n",
    "# Se realiza una condicion para filtrar las ordenes mayores a uno y se evalua los valores vacios.\n",
    "non_first_order=df_instacart[df_instacart['order_number']  > 1]\n",
    "print(non_first_order.isna().sum())"
   ]
  },
  {
   "cell_type": "markdown",
   "id": "4e23d089",
   "metadata": {
    "id": "4e23d089"
   },
   "source": [
    "\n",
    "\n",
    "Se observa como las ordenes mayores a 1 no tiene valores ausentes , por lo cual se puede confirmar que los valores ausentes corresponden al primer pedido del cliente."
   ]
  },
  {
   "cell_type": "markdown",
   "id": "69dc9ca4",
   "metadata": {
    "id": "69dc9ca4"
   },
   "source": [
    "### `order_products` data frame"
   ]
  },
  {
   "cell_type": "code",
   "execution_count": 61,
   "id": "b8240253",
   "metadata": {
    "id": "b8240253"
   },
   "outputs": [
    {
     "data": {
      "text/plain": [
       "order_id               0\n",
       "product_id             0\n",
       "add_to_cart_order    836\n",
       "reordered              0\n",
       "dtype: int64"
      ]
     },
     "execution_count": 61,
     "metadata": {},
     "output_type": "execute_result"
    }
   ],
   "source": [
    "# Encuentra los valores ausentes\n",
    "df_order_products.isna().sum()"
   ]
  },
  {
   "cell_type": "code",
   "execution_count": 62,
   "id": "9a78e5ee",
   "metadata": {
    "id": "9a78e5ee"
   },
   "outputs": [
    {
     "name": "stdout",
     "output_type": "stream",
     "text": [
      "1.0\n",
      "64.0\n"
     ]
    }
   ],
   "source": [
    "# ¿Cuáles son los valores mínimos y máximos en esta columna?\n",
    "print(df_order_products['add_to_cart_order'].min())\n",
    "print(df_order_products['add_to_cart_order'].max())"
   ]
  },
  {
   "cell_type": "markdown",
   "id": "-Z2Ja215jW78",
   "metadata": {
    "id": "-Z2Ja215jW78"
   },
   "source": [
    "\n",
    "Con esta informacion se puede ver que el valor minimo es 1 y el valo rmaximo es 64."
   ]
  },
  {
   "cell_type": "code",
   "execution_count": 63,
   "id": "ab9d0c2b",
   "metadata": {
    "id": "ab9d0c2b"
   },
   "outputs": [],
   "source": [
    "# Guarda todas las IDs de pedidos que tengan un valor ausente en 'add_to_cart_order'\n",
    "id_nan_add_order=df_order_products[df_order_products['add_to_cart_order'].isna()]['order_id']\n"
   ]
  },
  {
   "cell_type": "code",
   "execution_count": 82,
   "id": "42ee5492",
   "metadata": {},
   "outputs": [
    {
     "name": "stdout",
     "output_type": "stream",
     "text": [
      "65\n"
     ]
    }
   ],
   "source": [
    "# ¿Todos los pedidos con valores ausentes tienen más de 64 productos? valores ausentes de pedidos o de add to cart order?\n",
    "all_nan_order_64=df_order_products[df_order_products['order_id'].isin(id_nan_add_order)]\n",
    "# Agrupa todos los pedidos con datos ausentes por su ID de pedido.\n",
    "all_nan_order_group=all_nan_order_64.groupby('order_id')['product_id'].count()\n",
    "print(all_nan_order_group.min())\n",
    "# Cuenta el número de 'product_id' en cada pedido y revisa el valor mínimo del conteo."
   ]
  },
  {
   "cell_type": "markdown",
   "id": "p9V6pddtjglj",
   "metadata": {
    "id": "p9V6pddtjglj"
   },
   "source": [
    "\n",
    "En esta parte del enunciado se guardaron todos los IDS de pedidos con valores ausentes en un nuevo dataframe para luego agregar esta columna con solo valores ausentes a una nueva variable para que esta la podamos usar , para agrupar los datos con su order_id y podamos contar los product_id para verificar el valor minimo , y entender que todos los valores ausentes tienen minimo 65 productos."
   ]
  },
  {
   "cell_type": "code",
   "execution_count": 65,
   "id": "7a987d08",
   "metadata": {
    "id": "7a987d08"
   },
   "outputs": [
    {
     "name": "stdout",
     "output_type": "stream",
     "text": [
      "<class 'pandas.core.frame.DataFrame'>\n",
      "RangeIndex: 4545007 entries, 0 to 4545006\n",
      "Data columns (total 4 columns):\n",
      " #   Column             Dtype\n",
      "---  ------             -----\n",
      " 0   order_id           int64\n",
      " 1   product_id         int64\n",
      " 2   add_to_cart_order  int64\n",
      " 3   reordered          int64\n",
      "dtypes: int64(4)\n",
      "memory usage: 138.7 MB\n",
      "None\n"
     ]
    }
   ],
   "source": [
    "# Remplaza los valores ausentes en la columna 'add_to_cart con el valor de  999 y convierte la columna al tipo entero.\n",
    "df_order_products['add_to_cart_order'] = df_order_products['add_to_cart_order'].fillna(999)\n",
    "df_order_products['add_to_cart_order'] = df_order_products['add_to_cart_order'].astype('int')\n",
    "print(df_order_products.info())"
   ]
  },
  {
   "cell_type": "markdown",
   "id": "fea4bcc7",
   "metadata": {
    "id": "fea4bcc7"
   },
   "source": [
    "\n",
    "En la opcion del carrito se pudo encontrar que existian valores ausentes , aun asi se procedio a clasificarlos segun su numero de pedido , de igual manera una ves que se encontraron con todos los valores ausentes , se los cambio con el valor de 999. "
   ]
  },
  {
   "cell_type": "markdown",
   "id": "RnplPFY1gSrb",
   "metadata": {
    "id": "RnplPFY1gSrb"
   },
   "source": [
    "## Conclusiones\n",
    "\n",
    "Escribe aquí tus conclusiones intermedias sobre el Paso 2. Preprocesamiento de los datos\n",
    "\n",
    "Este primer preprocesamiento de datos , ayudo a familiarizarse en primer lugar con los datos , de igual manera con los tipos de datos que tenemos y como vamos a trabajar con ellos. Se encontraron algunos duplicados los cuales se procesio a limpiarlos de igual manera con valores ausentes , que se procedio a reemplazarlos respetando si eran categoricos o numericos. A continuacion se mostrara el resultado para que gracias a la visualizacion se sepa mas a fondo que pasa con los datos.\n"
   ]
  },
  {
   "cell_type": "markdown",
   "id": "UjrOIwTcz3ri",
   "metadata": {
    "id": "UjrOIwTcz3ri"
   },
   "source": [
    "# Paso 3. Análisis de los datos\n",
    "\n",
    "Una vez los datos estén procesados y listos, se hace el siguiente análisis:"
   ]
  },
  {
   "cell_type": "markdown",
   "id": "turkish-kidney",
   "metadata": {
    "id": "turkish-kidney"
   },
   "source": [
    "\n",
    "\n",
    "1. Se verifica que los valores en las columnas `'order_hour_of_day'` y `'order_day'` en la tabla orders sean razonables (es decir, `'order_hour_of_day'` oscile entre 0 y 23 y `'order_dow'` oscile entre 0 y 6).\n",
    "2. Se crea un gráfico que muestre el número de personas que hacen pedidos dependiendo de la hora del día.\n",
    "3. Se crea un gráfico que muestre qué día de la semana la gente hace sus compras.\n",
    "4. Se crea un gráfico que muestre el tiempo que la gente espera hasta hacer su siguiente pedido, y comenta sobre los valores mínimos y máximos."
   ]
  },
  {
   "cell_type": "markdown",
   "id": "short-capability",
   "metadata": {
    "id": "short-capability"
   },
   "source": [
    "### [A1] Verifica que los valores sean sensibles"
   ]
  },
  {
   "cell_type": "code",
   "execution_count": 89,
   "id": "581a6561",
   "metadata": {},
   "outputs": [
    {
     "data": {
      "text/plain": [
       "array([13, 12, 19, 20, 11,  8, 18, 15, 16,  9, 22, 10,  0, 14, 17,  1,  7,\n",
       "        6,  2, 21,  3, 23,  5,  4])"
      ]
     },
     "execution_count": 89,
     "metadata": {},
     "output_type": "execute_result"
    }
   ],
   "source": [
    "df_instacart['order_hour_of_day'].unique()"
   ]
  },
  {
   "cell_type": "code",
   "execution_count": 90,
   "id": "accessory-malaysia",
   "metadata": {
    "id": "accessory-malaysia"
   },
   "outputs": [
    {
     "data": {
      "text/plain": [
       "array([6, 5, 0, 4, 3, 1, 2])"
      ]
     },
     "execution_count": 90,
     "metadata": {},
     "output_type": "execute_result"
    }
   ],
   "source": [
    "df_instacart['order_day'].unique()\n"
   ]
  },
  {
   "cell_type": "markdown",
   "id": "hmR2GNQ6lCsX",
   "metadata": {
    "id": "hmR2GNQ6lCsX"
   },
   "source": [
    "Se puede ver con los valores unicos que los rangos son los deseados las cuales las columnas lo tienen."
   ]
  },
  {
   "cell_type": "markdown",
   "id": "a6743a70",
   "metadata": {
    "id": "a6743a70"
   },
   "source": [
    "### [A2] Para cada hora del día, ¿cuántas personas hacen órdenes?"
   ]
  },
  {
   "cell_type": "code",
   "execution_count": 68,
   "id": "a36cca27",
   "metadata": {
    "id": "a36cca27"
   },
   "outputs": [
    {
     "data": {
      "text/plain": [
       "<Axes: title={'center': 'Ordenes por hora del dia'}, xlabel='Horas del dia', ylabel='Numero de pedidos'>"
      ]
     },
     "execution_count": 68,
     "metadata": {},
     "output_type": "execute_result"
    },
    {
     "data": {
      "image/png": "[encoded data removed]",
      "text/plain": [
       "<Figure size 640x480 with 1 Axes>"
      ]
     },
     "metadata": {},
     "output_type": "display_data"
    }
   ],
   "source": [
    "#se agruparon los datos en las horas del dia y el numero de identificador de cada usuario para poder contar cuantos usuarios\n",
    "#logran hacer pedidos en el transcurso del dia , y para esto se uso la funcion nunique que cuenta el numero de valores unicos.\n",
    "df_instacart_grupo1=df_instacart.groupby('order_hour_of_day')['user_id'].nunique() \n",
    "#se procedio a imprimir el resultad.\n",
    "df_instacart_grupo1.plot(title='Ordenes por hora del dia',kind='bar',xlabel='Horas del dia',\n",
    "                        ylabel='Numero de pedidos',\n",
    "                        grid=True,\n",
    "                        )"
   ]
  },
  {
   "cell_type": "markdown",
   "id": "11270eed",
   "metadata": {
    "id": "11270eed"
   },
   "source": [
    "En el análisis de la distribución de pedidos por hora, se observa un claro pico de actividad a las 3 p.m., lo que indica que es el horario de mayor demanda. Además, el periodo comprendido entre las 10 a.m. y las 4 p.m. representa el intervalo con mayor volumen de pedidos, sugiriendo que la mayoría de los clientes realizan sus compras en este rango horario. Por otro lado, las horas de la madrugada muestran una actividad significativamente reducida, lo que refleja una baja propensión a realizar pedidos durante ese tiempo."
   ]
  },
  {
   "cell_type": "markdown",
   "id": "documented-command",
   "metadata": {
    "id": "documented-command"
   },
   "source": [
    "### [A3] ¿Qué día de la semana compran víveres las personas?"
   ]
  },
  {
   "cell_type": "code",
   "execution_count": 69,
   "id": "chief-digit",
   "metadata": {
    "id": "chief-digit"
   },
   "outputs": [
    {
     "data": {
      "text/plain": [
       "<Axes: title={'center': 'COMPRA DE VIVERES POR SEMANA'}, xlabel='Dia de la semana', ylabel='Numero de compras'>"
      ]
     },
     "execution_count": 69,
     "metadata": {},
     "output_type": "execute_result"
    },
    {
     "data": {
      "image/png": "[encoded data removed]",
      "text/plain": [
       "<Figure size 640x480 with 1 Axes>"
      ]
     },
     "metadata": {},
     "output_type": "display_data"
    }
   ],
   "source": [
    "#para este ejercicio se usa la comparacion entre order day y user day y se usa count porque en este caso una persona puede hacer\n",
    "#varios pedidos y tambien hay que contabilizar eso.\n",
    "df_instacart_grupo2=df_instacart.groupby('order_day')['user_id'].count()\n",
    "#se muestra la grafica \n",
    "df_instacart_grupo2.plot(title='COMPRA DE VIVERES POR SEMANA',xlabel='Dia de la semana',ylabel='Numero de compras',kind='bar')"
   ]
  },
  {
   "cell_type": "markdown",
   "id": "dominant-lightning",
   "metadata": {
    "id": "dominant-lightning"
   },
   "source": [
    "\n",
    "El análisis muestra que el domingo es el día con mayor volumen de pedidos de víveres en la semana, seguido de cerca por el lunes. El martes también registra un número considerable de pedidos, posicionándose inmediatamente después del lunes en términos de actividad. "
   ]
  },
  {
   "cell_type": "markdown",
   "id": "cutting-concert",
   "metadata": {
    "id": "cutting-concert"
   },
   "source": [
    "### [A4] ¿Cuánto tiempo esperan las personas hasta hacer otro pedido? Comenta sobre los valores mínimos y máximos."
   ]
  },
  {
   "cell_type": "code",
   "execution_count": 70,
   "id": "c231f523",
   "metadata": {
    "id": "c231f523"
   },
   "outputs": [
    {
     "data": {
      "text/plain": [
       "<Axes: title={'center': 'LOS NUEVOS PEDIDOS'}, xlabel='Dias transcurridos', ylabel='Numero de usuarios '>"
      ]
     },
     "execution_count": 70,
     "metadata": {},
     "output_type": "execute_result"
    },
    {
     "data": {
      "image/png": "[encoded data removed]",
      "text/plain": [
       "<Figure size 640x480 with 1 Axes>"
      ]
     },
     "metadata": {},
     "output_type": "display_data"
    }
   ],
   "source": [
    "df_instacart_grupo3=df_instacart.groupby('days_since_prior_order')['user_id'].count()\n",
    "df_instacart_grupo3.plot(title='LOS NUEVOS PEDIDOS',xlabel='Dias transcurridos',ylabel='Numero de usuarios ',kind='bar')\n"
   ]
  },
  {
   "cell_type": "markdown",
   "id": "discrete-vertex",
   "metadata": {
    "id": "discrete-vertex"
   },
   "source": [
    "El análisis revela que la mayoría de los usuarios esperan 30 días antes de realizar un nuevo pedido, mientras que un número significativo de usuarios opta por hacer su pedido semanalmente. Esta información es valiosa, ya que proporciona una comprensión más profunda del comportamiento de los clientes y puede ser utilizada estratégicamente para mejorar la experiencia del usuario y optimizar las operaciones."
   ]
  },
  {
   "cell_type": "markdown",
   "id": "tight-staff",
   "metadata": {
    "id": "tight-staff"
   },
   "source": [
    "# SE PROCEDE CON DEMAS PREGUNTAS PARA ANALIZAR LOS DATOS\n",
    "\n",
    "1. ¿Existe alguna diferencia entre las distribuciones `'order_hour_of_day'` de los miércoles y los sábados? sE Traza gráficos de barra de `'order_hour_of_day'` para ambos días en la misma figura y describe las diferencias que observes.\n",
    "2. Se grafica la distribución para el número de órdenes que hacen los clientes (es decir, cuántos clientes hicieron solo 1 pedido, cuántos hicieron 2, cuántos 3, y así sucesivamente...).\n",
    "3. ¿Cuáles son los 20 principales productos que se piden con más frecuencia (muestra su identificación y nombre)?"
   ]
  },
  {
   "cell_type": "markdown",
   "id": "packed-classic",
   "metadata": {
    "id": "packed-classic"
   },
   "source": [
    "### [B1] Diferencia entre miércoles y sábados para  `'order_hour_of_day'`. Traza gráficos de barra para los dos días y describe las diferencias que veas."
   ]
  },
  {
   "cell_type": "code",
   "execution_count": 91,
   "id": "94e54e8a",
   "metadata": {
    "id": "94e54e8a"
   },
   "outputs": [
    {
     "data": {
      "image/png": "[encoded data removed]",
      "text/plain": [
       "<Figure size 640x480 with 1 Axes>"
      ]
     },
     "metadata": {},
     "output_type": "display_data"
    }
   ],
   "source": [
    "\n",
    "# Filtrar los DataFrames para los días miércoles y sábado\n",
    "df_filtrado_we = df_instacart[df_instacart['order_day'] == 3]\n",
    "df_filtrado_sa = df_instacart[df_instacart['order_day'] == 6]\n",
    "\n",
    "# Contar cuántos valores únicos hay en cada hora del día miércoles y sábado, y ordenarlos por índice\n",
    "df_filtrado_we_sor = df_filtrado_we['order_hour_of_day'].value_counts().sort_index()\n",
    "df_filtrado_sa_sor = df_filtrado_sa['order_hour_of_day'].value_counts().sort_index()\n",
    "\n",
    "# Crear un DataFrame con los datos ordenados\n",
    "filtrado = pd.concat([df_filtrado_we_sor, df_filtrado_sa_sor], axis=1)\n",
    "\n",
    "# Renombrar las columnas para claridad\n",
    "filtrado.columns = ['Wednesday', 'Saturday']\n",
    "\n",
    "# Graficar los datos\n",
    "filtrado.plot(kind='bar')\n",
    "plt.xlabel('Hour of Day')\n",
    "plt.ylabel('Count')\n",
    "plt.title('Order Counts by Hour of Day for Wednesday and Saturday')\n",
    "plt.show()\n",
    "\n"
   ]
  },
  {
   "cell_type": "markdown",
   "id": "charitable-congo",
   "metadata": {
    "id": "charitable-congo"
   },
   "source": [
    "\n",
    "Ambos días muestran una tendencia similar en cuanto al número de pedidos por hora. Sin embargo, se observa que, en general, los sábados tienden a registrar un mayor volumen de pedidos en comparación con los miércoles. Además, se destaca que el rango horario entre las 10 a.m. y las 4 p.m. es el periodo con la mayor concentración de pedidos en ambos días."
   ]
  },
  {
   "cell_type": "markdown",
   "id": "e3891143",
   "metadata": {
    "id": "e3891143"
   },
   "source": [
    "### [B2] ¿Cuál es la distribución para el número de pedidos por cliente?"
   ]
  },
  {
   "cell_type": "code",
   "execution_count": 73,
   "id": "d8c26c23",
   "metadata": {
    "id": "d8c26c23"
   },
   "outputs": [
    {
     "name": "stdout",
     "output_type": "stream",
     "text": [
      "Axes(0.125,0.11;0.775x0.77)\n"
     ]
    },
    {
     "data": {
      "text/plain": [
       "Text(0.5, 1.0, 'Histograma del Número Total de Pedidos por Cliente')"
      ]
     },
     "execution_count": 73,
     "metadata": {},
     "output_type": "execute_result"
    },
    {
     "data": {
      "image/png": "[encoded data removed]",
      "text/plain": [
       "<Figure size 640x480 with 1 Axes>"
      ]
     },
     "metadata": {},
     "output_type": "display_data"
    }
   ],
   "source": [
    "#agrupe la columna user_ id qeu es id del cliente y sume todos sus pedidos para luego mostrarlo en el Histograma\n",
    "df_instacart_clients=df_instacart.groupby('user_id')['order_number'].sum()\n",
    "print(df_instacart_clients.plot(kind='hist',xlim=[0,600],bins=30))\n",
    "plt.xlabel('Número total de pedidos')\n",
    "plt.ylabel('Frecuencia')\n",
    "plt.title('Histograma del Número Total de Pedidos por Cliente')"
   ]
  },
  {
   "cell_type": "markdown",
   "id": "d2eff7d5",
   "metadata": {
    "id": "d2eff7d5"
   },
   "source": [
    "\n",
    "Aqui se puede ver la distribucion del numero total de pedidos por cliente, y con que frecuencia lo hacen."
   ]
  },
  {
   "cell_type": "markdown",
   "id": "54a0319c",
   "metadata": {
    "id": "54a0319c"
   },
   "source": [
    "### [B3] ¿Cuáles son los 20 productos más populares (muestra su ID y nombre)?"
   ]
  },
  {
   "cell_type": "code",
   "execution_count": 94,
   "id": "exterior-arizona",
   "metadata": {
    "id": "exterior-arizona",
    "scrolled": true
   },
   "outputs": [
    {
     "data": {
      "text/plain": [
       "product_id  product_name            \n",
       "24852       BANANA                      66050\n",
       "13176       BAG OF ORGANIC BANANAS      53297\n",
       "21137       ORGANIC STRAWBERRIES        37039\n",
       "21903       ORGANIC BABY SPINACH        33971\n",
       "47209       ORGANIC HASS AVOCADO        29773\n",
       "47766       ORGANIC AVOCADO             24689\n",
       "47626       LARGE LEMON                 21495\n",
       "16797       STRAWBERRIES                20018\n",
       "26209       LIMES                       19690\n",
       "27845       ORGANIC WHOLE MILK          19600\n",
       "27966       ORGANIC RASPBERRIES         19197\n",
       "22935       ORGANIC YELLOW ONION        15898\n",
       "24964       ORGANIC GARLIC              15292\n",
       "45007       ORGANIC ZUCCHINI            14584\n",
       "39275       ORGANIC BLUEBERRIES         13879\n",
       "49683       CUCUMBER KIRBY              13675\n",
       "28204       ORGANIC FUJI APPLE          12544\n",
       "5876        ORGANIC LEMON               12232\n",
       "8277        APPLE HONEYCRISP ORGANIC    11993\n",
       "40706       ORGANIC GRAPE TOMATOES      11781\n",
       "Name: order_id, dtype: int64"
      ]
     },
     "execution_count": 94,
     "metadata": {},
     "output_type": "execute_result"
    }
   ],
   "source": [
    "#para esto hay que unir dos dataframes , se usara el dataframe df_products y df_order_products ya que el primero tiene informacion\n",
    "# de los productos y el segundo tiene informacion de los pedidos relacionados con los productos\n",
    "#Primero que todo \n",
    "order_products_mer_products=df_order_products.merge(df_products,on='product_id') #unimos los dos dataframes para tener los valores correctos\n",
    "#luego de la tabla unida , agrupamos el product id y el product name para luego contar cuantas ordenes se han hecho cada una\n",
    "#y de ahi se ordena los datos de mayor a menor \n",
    "order_products_mer_products_pop=order_products_mer_products.groupby(['product_id','product_name'])['order_id'].count().sort_values(ascending=False)\n",
    "#por ultimo se muestra los primeros 20.\n",
    "order_products_mer_products_pop.head(20)"
   ]
  },
  {
   "cell_type": "markdown",
   "id": "7df00f47",
   "metadata": {
    "id": "7df00f47"
   },
   "source": [
    "\n",
    "Después de revisar toda la información y analizar los gráficos, se pueden identificar varios factores clave: los pedidos están influenciados tanto por la hora del día como por el día de la semana. Además, es posible observar el comportamiento de los clientes, incluyendo la frecuencia con la que realizan sus compras y cuáles son los productos más solicitados, como se muestra en la última figura.\n",
    "\n",
    "En esta última parte, se destaca que la banana es el producto más demandado. Al analizar el resto de los artículos, se observa que predominan productos de primera necesidad, como frutas, tales como bananas, fresas, aguacates, limones, entre otros."
   ]
  },
  {
   "cell_type": "markdown",
   "id": "gross-theme",
   "metadata": {
    "id": "gross-theme"
   },
   "source": [
    "# Los ultimos analisis para llegar a las conclusiones.\n",
    "\n",
    "1. ¿Cuántos artículos suelen comprar las personas en un pedido? ¿Cómo es la distribución?\n",
    "2. ¿Cuáles son los 20 principales artículos que vuelven a pedirse con mayor frecuencia (muestra sus nombres e IDs de los productos)?\n",
    "3. Para cada producto, ¿cuál es la tasa de repetición del pedido (número de repeticiones de pedido/total de pedidos?\n",
    "4. Para cada cliente, ¿qué proporción de los productos que pidió ya los había pedido? Calcula la tasa de repetición de pedido para cada usuario en lugar de para cada producto.\n",
    "5. ¿Cuáles son los 20 principales artículos que la gente pone primero en sus carritos (muestra las IDs de los productos, sus nombres, y el número de veces en que fueron el primer artículo en añadirse al carrito)?"
   ]
  },
  {
   "cell_type": "markdown",
   "id": "romantic-deposit",
   "metadata": {
    "id": "romantic-deposit"
   },
   "source": [
    "### [C1] ¿Cuántos artículos compran normalmente las personas en un pedido? ¿Cómo es la distribución?"
   ]
  },
  {
   "cell_type": "code",
   "execution_count": 75,
   "id": "virtual-punch",
   "metadata": {
    "id": "virtual-punch"
   },
   "outputs": [
    {
     "name": "stdout",
     "output_type": "stream",
     "text": [
      "Las personas compran normalemente\n",
      "10 articulos en un pedido y una mediana de 8\n"
     ]
    },
    {
     "data": {
      "text/plain": [
       "<Axes: xlabel='numero de ordenes', ylabel='frecuencia'>"
      ]
     },
     "execution_count": 75,
     "metadata": {},
     "output_type": "execute_result"
    },
    {
     "data": {
      "image/png": "[encoded data removed]",
      "text/plain": [
       "<Figure size 640x480 with 1 Axes>"
      ]
     },
     "metadata": {},
     "output_type": "display_data"
    }
   ],
   "source": [
    "#se hace una agrupacion de order id , donde se contara la cantidad de productos que hay en cada orden \n",
    "or_pro_mean=df_order_products.groupby('order_id')['product_id'].count()\n",
    "print('Las personas compran normalemente')\n",
    "#se muestra el promedio y la mediana \n",
    "print(f'{or_pro_mean.mean():.0f} articulos en un pedido y una mediana de {or_pro_mean.median():.0f}')\n",
    "#se grafica el histograma \n",
    "or_pro_mean.plot(kind='hist',xlabel='numero de ordenes',ylabel='frecuencia',bins=30,alpha=0.8)\n",
    "\n",
    "\n"
   ]
  },
  {
   "cell_type": "markdown",
   "id": "designed-mortality",
   "metadata": {
    "id": "designed-mortality"
   },
   "source": [
    "\n",
    "Se puede ver como la mayoria de articulos que existen en un pedido es de 10 unidades , de igual manera la mediana de estos pedidos es de 8. En su grafica se puede ver los errores."
   ]
  },
  {
   "cell_type": "markdown",
   "id": "5e6b5537",
   "metadata": {
    "id": "5e6b5537"
   },
   "source": [
    "### [C2] ¿Cuáles son los 20 principales artículos que vuelven a pedirse con mayor frecuencia (muestra sus nombres e IDs de los productos)?"
   ]
  },
  {
   "cell_type": "code",
   "execution_count": 76,
   "id": "possible-change",
   "metadata": {
    "id": "possible-change",
    "scrolled": true
   },
   "outputs": [
    {
     "data": {
      "text/plain": [
       "product_id  product_name            \n",
       "24852       BANANA                      55763\n",
       "13176       BAG OF ORGANIC BANANAS      44450\n",
       "21137       ORGANIC STRAWBERRIES        28639\n",
       "21903       ORGANIC BABY SPINACH        26233\n",
       "47209       ORGANIC HASS AVOCADO        23629\n",
       "47766       ORGANIC AVOCADO             18743\n",
       "27845       ORGANIC WHOLE MILK          16251\n",
       "47626       LARGE LEMON                 15044\n",
       "27966       ORGANIC RASPBERRIES         14748\n",
       "16797       STRAWBERRIES                13945\n",
       "26209       LIMES                       13327\n",
       "22935       ORGANIC YELLOW ONION        11145\n",
       "24964       ORGANIC GARLIC              10411\n",
       "45007       ORGANIC ZUCCHINI            10076\n",
       "49683       CUCUMBER KIRBY               9538\n",
       "28204       ORGANIC FUJI APPLE           8989\n",
       "8277        APPLE HONEYCRISP ORGANIC     8836\n",
       "39275       ORGANIC BLUEBERRIES          8799\n",
       "5876        ORGANIC LEMON                8412\n",
       "49235       ORGANIC HALF & HALF          8389\n",
       "Name: order_id, dtype: int64"
      ]
     },
     "execution_count": 76,
     "metadata": {},
     "output_type": "execute_result"
    }
   ],
   "source": [
    "#el dataframe order_products_mer_products ya tenia ambos ambas tablas unidas por lo que se filtro en reordered ==1 \n",
    "reordered_products=order_products_mer_products[order_products_mer_products['reordered']==1]\n",
    "#se agrupo las columnas de product_id y product name y con esto se conto el numero de pedidos que han estado presente\n",
    "fre_reordered_products=reordered_products.groupby(['product_id','product_name'])['order_id'].count()\n",
    "#luego se mostro el resultado \n",
    "fre_reordered_products.sort_values(ascending=False).head(20)"
   ]
  },
  {
   "cell_type": "markdown",
   "id": "9d312b14",
   "metadata": {
    "id": "9d312b14"
   },
   "source": [
    "### [C3] Para cada producto, ¿cuál es la proporción de las veces que se pide y que se vuelve a pedir?"
   ]
  },
  {
   "cell_type": "code",
   "execution_count": 77,
   "id": "8ae9f4b1",
   "metadata": {
    "id": "8ae9f4b1"
   },
   "outputs": [
    {
     "data": {
      "text/plain": [
       "product_id  product_name                                                     \n",
       "1           CHOCOLATE SANDWICH COOKIES                                           0.564286\n",
       "2           ALL-SEASONS SALT                                                          NaN\n",
       "3           ROBUST GOLDEN UNSWEETENED OOLONG TEA                                 0.738095\n",
       "4           SMART ONES CLASSIC FAVORITES MINI RIGATONI WITH VODKA CREAM SAUCE    0.510204\n",
       "7           PURE COCONUT WATER WITH ORANGE                                       0.500000\n",
       "                                                                                   ...   \n",
       "49690       HIGH PERFORMANCE ENERGY DRINK                                        0.800000\n",
       "49691       ORIGINAL PANCAKE & WAFFLE MIX                                        0.430556\n",
       "49692       ORGANIC INSTANT OATMEAL LIGHT MAPLE BROWN SUGAR                      0.416667\n",
       "49693       SPRING WATER BODY WASH                                               0.440000\n",
       "49694       BURRITO- STEAK & CHEESE                                              0.333333\n",
       "Name: order_id, Length: 45573, dtype: float64"
      ]
     },
     "execution_count": 77,
     "metadata": {},
     "output_type": "execute_result"
    }
   ],
   "source": [
    "# contiene el total de pedidos \n",
    "order_products_total=order_products_mer_products.groupby(['product_id','product_name'])['order_id'].count() \n",
    "#contiene el numero de repeticiones de los pedidos \n",
    "fre_reordered_products\n",
    "\n",
    "#se realiza una division para tener la tasa de repeticion del pedido \n",
    "tasa_repeticion_ordenes= fre_reordered_products.div(order_products_total)\n",
    "tasa_repeticion_ordenes\n"
   ]
  },
  {
   "cell_type": "markdown",
   "id": "I10dEIAyldcO",
   "metadata": {
    "id": "I10dEIAyldcO"
   },
   "source": [
    "Este filtro revela que la mayoría de los productos presentan una alta tasa de repetición. Además, permite identificar productos específicos, facilitando el análisis detallado de su tasa de repetición para obtener resultados más precisos.\n"
   ]
  },
  {
   "cell_type": "markdown",
   "id": "subject-boxing",
   "metadata": {
    "id": "subject-boxing"
   },
   "source": [
    "### [C4] Para cada cliente, ¿qué proporción de sus productos ya los había pedido?"
   ]
  },
  {
   "cell_type": "code",
   "execution_count": 78,
   "id": "medical-couple",
   "metadata": {
    "id": "medical-couple",
    "scrolled": true
   },
   "outputs": [],
   "source": [
    "#Para este apartado se usaran dos dataframes df_instacart y df_order_products"
   ]
  },
  {
   "cell_type": "code",
   "execution_count": 79,
   "id": "8892e4b4",
   "metadata": {
    "id": "8892e4b4"
   },
   "outputs": [
    {
     "data": {
      "text/plain": [
       "user_id\n",
       "2         0.038462\n",
       "4              NaN\n",
       "5         0.666667\n",
       "6              NaN\n",
       "7         0.928571\n",
       "            ...   \n",
       "206203    0.222222\n",
       "206206    0.714286\n",
       "206207    0.891304\n",
       "206208    0.696000\n",
       "206209    0.320000\n",
       "Name: order_id, Length: 149626, dtype: float64"
      ]
     },
     "execution_count": 79,
     "metadata": {},
     "output_type": "execute_result"
    }
   ],
   "source": [
    "#se unen los dos dataframes para trabajar con ellos \n",
    "order_instacart_mer_order_products=df_instacart.merge(df_order_products,on='order_id')\n",
    "#se cuenta el numero total de ordenes para todos los clientes\n",
    "total_ordered_client=order_instacart_mer_order_products.groupby('user_id')['order_id'].count()\n",
    "#se filtra los que no son nuevas ordenes , es decir alguien que ya haya hecho el pedido\n",
    "reordered_client=order_instacart_mer_order_products[order_instacart_mer_order_products['reordered']==1]\n",
    "#se procede a agrupar para contar \n",
    "reordered_client_group=reordered_client=reordered_client.groupby('user_id')['order_id'].count()\n",
    "# se realiza la division \n",
    "total_tasa_client=reordered_client.div(total_ordered_client)\n",
    "total_tasa_client\n"
   ]
  },
  {
   "cell_type": "markdown",
   "id": "92d35137",
   "metadata": {
    "id": "92d35137"
   },
   "source": [
    "### [C5] ¿Cuáles son los 20 principales artículos que las personas ponen primero en sus carritos?"
   ]
  },
  {
   "cell_type": "code",
   "execution_count": 80,
   "id": "0ae57274",
   "metadata": {
    "id": "0ae57274",
    "scrolled": true
   },
   "outputs": [
    {
     "data": {
      "text/plain": [
       "product_name\n",
       "BANANA                         15562\n",
       "BAG OF ORGANIC BANANAS         11026\n",
       "ORGANIC WHOLE MILK              4363\n",
       "ORGANIC STRAWBERRIES            3946\n",
       "ORGANIC HASS AVOCADO            3390\n",
       "ORGANIC BABY SPINACH            3336\n",
       "ORGANIC AVOCADO                 3044\n",
       "SPRING WATER                    2336\n",
       "STRAWBERRIES                    2308\n",
       "ORGANIC RASPBERRIES             2024\n",
       "SPARKLING WATER GRAPEFRUIT      1914\n",
       "ORGANIC HALF & HALF             1797\n",
       "LARGE LEMON                     1737\n",
       "SODA                            1733\n",
       "ORGANIC REDUCED FAT MILK        1397\n",
       "LIMES                           1370\n",
       "HASS AVOCADOS                   1340\n",
       "ORGANIC REDUCED FAT 2% MILK     1310\n",
       "HALF & HALF                     1309\n",
       "RASPBERRIES                     1246\n",
       "Name: product_id, dtype: int64"
      ]
     },
     "execution_count": 80,
     "metadata": {},
     "output_type": "execute_result"
    }
   ],
   "source": [
    "#El dataframe que tiene la tabla de products y order_products\n",
    "order_products_mer_products\n",
    "#filtramos la columna de add_to_cart_order solo esten presente los primeros productos que se hayan puesto\n",
    "first_orders=order_products_mer_products[order_products_mer_products['add_to_cart_order'] == 1]\n",
    "#luego agrupamos por product)name y contamos los productos que mas se repitan\n",
    "group_firts_orders=first_orders.groupby('product_name')['product_id'].count().sort_values(ascending=False)\n",
    "group_firts_orders.head(20)"
   ]
  },
  {
   "cell_type": "markdown",
   "id": "uITbFCEoDosC",
   "metadata": {
    "id": "uITbFCEoDosC"
   },
   "source": [
    "### Conclusion general del proyecto:"
   ]
  },
  {
   "cell_type": "markdown",
   "id": "18e38d70",
   "metadata": {},
   "source": [
    "El proyecto se concluyó con éxito mediante la limpieza exhaustiva de todos los datos de las tablas disponibles. Una vez depurados los datos, se procedió a la visualización gráfica para identificar tendencias y analizar las relaciones entre los compradores y los productos, así como los patrones de tiempo de compra. En la fase final, se integraron varias tablas para descubrir comportamientos clave de los clientes, tales como el ratio de repetición de productos y el orden de adición de productos al carrito. Este análisis detallado proporcionó una comprensión más profunda de las dinámicas de compra y facilitó la toma de decisiones basadas en datos."
   ]
  },
  {
   "cell_type": "markdown",
   "id": "fb8f7b20",
   "metadata": {
    "id": "Nk-4GS7mDwqY"
   },
   "source": []
  }
 ],
 "metadata": {
  "ExecuteTimeLog": [
   {
    "duration": 537,
    "start_time": "2024-07-14T05:12:32.817Z"
   },
   {
    "duration": 484,
    "start_time": "2024-07-14T05:13:23.944Z"
   },
   {
    "duration": 3854,
    "start_time": "2024-07-14T05:15:35.449Z"
   },
   {
    "duration": 22,
    "start_time": "2024-07-14T05:15:43.390Z"
   },
   {
    "duration": 341,
    "start_time": "2024-07-14T05:15:56.316Z"
   },
   {
    "duration": 11,
    "start_time": "2024-07-14T05:15:59.655Z"
   },
   {
    "duration": 13,
    "start_time": "2024-07-14T05:16:22.022Z"
   },
   {
    "duration": 9,
    "start_time": "2024-07-14T05:16:37.936Z"
   },
   {
    "duration": 11,
    "start_time": "2024-07-14T05:16:46.712Z"
   },
   {
    "duration": 32,
    "start_time": "2024-07-14T05:17:25.320Z"
   },
   {
    "duration": 12,
    "start_time": "2024-07-14T05:17:44.574Z"
   },
   {
    "duration": 15,
    "start_time": "2024-07-14T05:17:53.876Z"
   },
   {
    "duration": 13,
    "start_time": "2024-07-14T05:18:06.320Z"
   },
   {
    "duration": 10,
    "start_time": "2024-07-14T05:18:13.762Z"
   },
   {
    "duration": 11,
    "start_time": "2024-07-14T05:19:27.317Z"
   },
   {
    "duration": 3575,
    "start_time": "2024-07-14T05:21:12.962Z"
   },
   {
    "duration": 16,
    "start_time": "2024-07-14T05:21:16.540Z"
   },
   {
    "duration": 13,
    "start_time": "2024-07-14T05:21:23.619Z"
   },
   {
    "duration": 14,
    "start_time": "2024-07-14T05:21:28.907Z"
   },
   {
    "duration": 10,
    "start_time": "2024-07-14T05:21:34.627Z"
   },
   {
    "duration": 12,
    "start_time": "2024-07-14T05:21:43.756Z"
   },
   {
    "duration": 1480,
    "start_time": "2024-07-14T05:22:25.578Z"
   },
   {
    "duration": 18,
    "start_time": "2024-07-14T05:33:05.166Z"
   },
   {
    "duration": 14,
    "start_time": "2024-07-14T05:33:08.455Z"
   },
   {
    "duration": 10,
    "start_time": "2024-07-14T05:33:10.906Z"
   },
   {
    "duration": 15,
    "start_time": "2024-07-14T05:33:16.576Z"
   },
   {
    "duration": 17,
    "start_time": "2024-07-14T05:34:24.323Z"
   },
   {
    "duration": 12,
    "start_time": "2024-07-14T05:34:28.588Z"
   },
   {
    "duration": 13,
    "start_time": "2024-07-14T05:34:32.396Z"
   },
   {
    "duration": 13,
    "start_time": "2024-07-14T05:34:36.288Z"
   },
   {
    "duration": 11,
    "start_time": "2024-07-14T05:34:40.512Z"
   },
   {
    "duration": 39,
    "start_time": "2024-07-14T05:37:41.927Z"
   },
   {
    "duration": 38,
    "start_time": "2024-07-14T05:37:51.286Z"
   },
   {
    "duration": 1537,
    "start_time": "2024-07-14T05:43:12.782Z"
   },
   {
    "duration": 17,
    "start_time": "2024-07-14T05:43:14.323Z"
   },
   {
    "duration": 16,
    "start_time": "2024-07-14T05:43:16.457Z"
   },
   {
    "duration": 13,
    "start_time": "2024-07-14T05:43:17.535Z"
   },
   {
    "duration": 39,
    "start_time": "2024-07-14T05:43:23.566Z"
   },
   {
    "duration": 308,
    "start_time": "2024-07-14T17:28:48.262Z"
   },
   {
    "duration": 26,
    "start_time": "2024-07-14T17:28:57.755Z"
   },
   {
    "duration": 21,
    "start_time": "2024-07-14T17:28:58.084Z"
   },
   {
    "duration": 468,
    "start_time": "2024-07-14T17:29:03.983Z"
   },
   {
    "duration": 1657,
    "start_time": "2024-07-14T17:29:04.454Z"
   },
   {
    "duration": 16,
    "start_time": "2024-07-14T17:29:06.951Z"
   },
   {
    "duration": 15,
    "start_time": "2024-07-14T17:29:07.410Z"
   },
   {
    "duration": 14,
    "start_time": "2024-07-14T17:29:07.835Z"
   },
   {
    "duration": 14,
    "start_time": "2024-07-14T17:29:08.309Z"
   },
   {
    "duration": 39,
    "start_time": "2024-07-14T17:29:08.808Z"
   },
   {
    "duration": 59,
    "start_time": "2024-07-14T17:29:12.899Z"
   },
   {
    "duration": 162,
    "start_time": "2024-07-14T17:29:49.129Z"
   },
   {
    "duration": 144,
    "start_time": "2024-07-14T17:30:58.553Z"
   },
   {
    "duration": 317,
    "start_time": "2024-07-14T17:35:07.309Z"
   },
   {
    "duration": 310,
    "start_time": "2024-07-14T17:35:16.054Z"
   },
   {
    "duration": 318,
    "start_time": "2024-07-14T17:35:20.637Z"
   },
   {
    "duration": 15,
    "start_time": "2024-07-14T17:35:25.809Z"
   },
   {
    "duration": 16,
    "start_time": "2024-07-14T17:35:26.413Z"
   },
   {
    "duration": 12,
    "start_time": "2024-07-14T17:35:26.738Z"
   },
   {
    "duration": 14,
    "start_time": "2024-07-14T17:35:27.093Z"
   },
   {
    "duration": 42,
    "start_time": "2024-07-14T17:35:27.482Z"
   },
   {
    "duration": 329,
    "start_time": "2024-07-14T17:35:45.503Z"
   },
   {
    "duration": 310,
    "start_time": "2024-07-14T17:35:49.790Z"
   },
   {
    "duration": 145,
    "start_time": "2024-07-14T17:40:03.784Z"
   },
   {
    "duration": 300,
    "start_time": "2024-07-14T17:42:04.435Z"
   },
   {
    "duration": 148,
    "start_time": "2024-07-14T17:42:48.528Z"
   },
   {
    "duration": 156,
    "start_time": "2024-07-14T17:42:51.922Z"
   },
   {
    "duration": 143,
    "start_time": "2024-07-14T17:43:09.068Z"
   },
   {
    "duration": 16,
    "start_time": "2024-07-14T17:45:40.583Z"
   },
   {
    "duration": 30,
    "start_time": "2024-07-14T17:47:54.692Z"
   },
   {
    "duration": 34,
    "start_time": "2024-07-14T17:48:01.308Z"
   },
   {
    "duration": 33,
    "start_time": "2024-07-14T17:50:22.645Z"
   },
   {
    "duration": 16,
    "start_time": "2024-07-14T17:51:30.892Z"
   },
   {
    "duration": 16,
    "start_time": "2024-07-14T17:51:53.445Z"
   },
   {
    "duration": 15,
    "start_time": "2024-07-14T17:52:07.876Z"
   },
   {
    "duration": 19,
    "start_time": "2024-07-14T17:52:19.322Z"
   },
   {
    "duration": 24,
    "start_time": "2024-07-14T17:53:24.407Z"
   },
   {
    "duration": 17,
    "start_time": "2024-07-14T17:54:02.607Z"
   },
   {
    "duration": 169,
    "start_time": "2024-07-14T17:57:51.546Z"
   },
   {
    "duration": 7,
    "start_time": "2024-07-14T17:58:50.622Z"
   },
   {
    "duration": 6,
    "start_time": "2024-07-14T17:59:05.033Z"
   },
   {
    "duration": 5,
    "start_time": "2024-07-14T17:59:13.764Z"
   },
   {
    "duration": 949,
    "start_time": "2024-07-14T17:59:29.490Z"
   },
   {
    "duration": 10,
    "start_time": "2024-07-14T18:00:06.416Z"
   },
   {
    "duration": 21,
    "start_time": "2024-07-14T18:00:58.073Z"
   },
   {
    "duration": 165,
    "start_time": "2024-07-14T18:01:44.835Z"
   },
   {
    "duration": 160,
    "start_time": "2024-07-14T18:01:50.840Z"
   },
   {
    "duration": 30,
    "start_time": "2024-07-14T18:04:35.737Z"
   },
   {
    "duration": 30,
    "start_time": "2024-07-14T18:04:41.758Z"
   },
   {
    "duration": 14,
    "start_time": "2024-07-14T18:04:49.528Z"
   },
   {
    "duration": 12,
    "start_time": "2024-07-14T18:04:56.738Z"
   },
   {
    "duration": 14,
    "start_time": "2024-07-14T18:05:15.565Z"
   },
   {
    "duration": 19,
    "start_time": "2024-07-14T18:05:27.496Z"
   },
   {
    "duration": 19,
    "start_time": "2024-07-14T18:05:36.315Z"
   },
   {
    "duration": 20,
    "start_time": "2024-07-14T18:06:34.408Z"
   },
   {
    "duration": 13,
    "start_time": "2024-07-14T18:06:51.350Z"
   },
   {
    "duration": 13,
    "start_time": "2024-07-14T18:06:57.134Z"
   },
   {
    "duration": 13,
    "start_time": "2024-07-14T18:07:26.075Z"
   },
   {
    "duration": 633,
    "start_time": "2024-07-14T22:44:16.545Z"
   },
   {
    "duration": 1832,
    "start_time": "2024-07-14T22:44:17.183Z"
   },
   {
    "duration": 24,
    "start_time": "2024-07-14T22:44:19.098Z"
   },
   {
    "duration": 20,
    "start_time": "2024-07-14T22:44:21.059Z"
   },
   {
    "duration": 13,
    "start_time": "2024-07-14T22:44:22.792Z"
   },
   {
    "duration": 14,
    "start_time": "2024-07-14T22:44:23.259Z"
   },
   {
    "duration": 46,
    "start_time": "2024-07-14T22:44:23.704Z"
   },
   {
    "duration": 61,
    "start_time": "2024-07-14T22:46:28.770Z"
   },
   {
    "duration": 89,
    "start_time": "2024-07-14T22:46:40.444Z"
   },
   {
    "duration": 40,
    "start_time": "2024-07-14T22:47:33.534Z"
   },
   {
    "duration": 21,
    "start_time": "2024-07-14T22:52:54.230Z"
   },
   {
    "duration": 17,
    "start_time": "2024-07-14T22:53:00.043Z"
   },
   {
    "duration": 14,
    "start_time": "2024-07-14T22:53:20.909Z"
   },
   {
    "duration": 13,
    "start_time": "2024-07-14T22:54:06.410Z"
   },
   {
    "duration": 12,
    "start_time": "2024-07-14T22:54:15.515Z"
   },
   {
    "duration": 13,
    "start_time": "2024-07-14T22:55:55.155Z"
   },
   {
    "duration": 15,
    "start_time": "2024-07-14T22:56:32.243Z"
   },
   {
    "duration": 8,
    "start_time": "2024-07-14T22:58:57.303Z"
   },
   {
    "duration": 94,
    "start_time": "2024-07-14T22:59:22.129Z"
   },
   {
    "duration": 140,
    "start_time": "2024-07-14T22:59:27.459Z"
   },
   {
    "duration": 10,
    "start_time": "2024-07-14T23:00:43.968Z"
   },
   {
    "duration": 13,
    "start_time": "2024-07-14T23:01:16.868Z"
   },
   {
    "duration": 11,
    "start_time": "2024-07-14T23:01:42.504Z"
   },
   {
    "duration": 12,
    "start_time": "2024-07-14T23:03:37.531Z"
   },
   {
    "duration": 12,
    "start_time": "2024-07-14T23:03:41.820Z"
   },
   {
    "duration": 13,
    "start_time": "2024-07-14T23:04:51.058Z"
   },
   {
    "duration": 10,
    "start_time": "2024-07-14T23:05:58.670Z"
   },
   {
    "duration": 10,
    "start_time": "2024-07-14T23:06:05.324Z"
   },
   {
    "duration": 14,
    "start_time": "2024-07-14T23:06:49.492Z"
   },
   {
    "duration": 12,
    "start_time": "2024-07-14T23:08:01.601Z"
   },
   {
    "duration": 46,
    "start_time": "2024-07-14T23:08:08.396Z"
   },
   {
    "duration": 13,
    "start_time": "2024-07-14T23:08:09.270Z"
   },
   {
    "duration": 21,
    "start_time": "2024-07-14T23:09:17.417Z"
   },
   {
    "duration": 351,
    "start_time": "2024-07-14T23:10:12.533Z"
   },
   {
    "duration": 17,
    "start_time": "2024-07-14T23:10:20.866Z"
   },
   {
    "duration": 9,
    "start_time": "2024-07-14T23:10:38.904Z"
   },
   {
    "duration": 6,
    "start_time": "2024-07-14T23:10:44.498Z"
   },
   {
    "duration": 12,
    "start_time": "2024-07-14T23:11:07.883Z"
   },
   {
    "duration": 8,
    "start_time": "2024-07-14T23:11:22.140Z"
   },
   {
    "duration": 16,
    "start_time": "2024-07-14T23:11:25.173Z"
   },
   {
    "duration": 15,
    "start_time": "2024-07-14T23:12:36.829Z"
   },
   {
    "duration": 16,
    "start_time": "2024-07-14T23:13:04.352Z"
   },
   {
    "duration": 21,
    "start_time": "2024-07-14T23:14:58.151Z"
   },
   {
    "duration": 6,
    "start_time": "2024-07-14T23:15:04.013Z"
   },
   {
    "duration": 3,
    "start_time": "2024-07-14T23:15:16.046Z"
   },
   {
    "duration": 7,
    "start_time": "2024-07-14T23:15:17.520Z"
   },
   {
    "duration": 199,
    "start_time": "2024-07-14T23:17:16.944Z"
   },
   {
    "duration": 167,
    "start_time": "2024-07-14T23:17:29.005Z"
   },
   {
    "duration": 174,
    "start_time": "2024-07-14T23:17:34.454Z"
   },
   {
    "duration": 821,
    "start_time": "2024-07-14T23:18:14.374Z"
   },
   {
    "duration": 45,
    "start_time": "2024-07-14T23:18:24.047Z"
   },
   {
    "duration": 215,
    "start_time": "2024-07-14T23:22:19.546Z"
   },
   {
    "duration": 176,
    "start_time": "2024-07-14T23:22:25.088Z"
   },
   {
    "duration": 156,
    "start_time": "2024-07-14T23:22:25.369Z"
   },
   {
    "duration": 39,
    "start_time": "2024-07-14T23:22:31.865Z"
   },
   {
    "duration": 144,
    "start_time": "2024-07-14T23:22:33.009Z"
   },
   {
    "duration": 38,
    "start_time": "2024-07-14T23:22:33.938Z"
   },
   {
    "duration": 6,
    "start_time": "2024-07-14T23:24:46.634Z"
   },
   {
    "duration": 30,
    "start_time": "2024-07-14T23:24:49.909Z"
   },
   {
    "duration": 19,
    "start_time": "2024-07-14T23:24:56.056Z"
   },
   {
    "duration": 30,
    "start_time": "2024-07-14T23:25:09.740Z"
   },
   {
    "duration": 21,
    "start_time": "2024-07-14T23:25:16.267Z"
   },
   {
    "duration": 30,
    "start_time": "2024-07-14T23:26:49.090Z"
   },
   {
    "duration": 23,
    "start_time": "2024-07-14T23:27:25.049Z"
   },
   {
    "duration": 22,
    "start_time": "2024-07-14T23:28:03.445Z"
   },
   {
    "duration": 6,
    "start_time": "2024-07-14T23:28:09.294Z"
   },
   {
    "duration": 11,
    "start_time": "2024-07-14T23:31:01.947Z"
   },
   {
    "duration": 36,
    "start_time": "2024-07-14T23:32:08.271Z"
   },
   {
    "duration": 14,
    "start_time": "2024-07-14T23:32:19.329Z"
   },
   {
    "duration": 42,
    "start_time": "2024-07-14T23:32:23.568Z"
   },
   {
    "duration": 37,
    "start_time": "2024-07-14T23:32:37.388Z"
   },
   {
    "duration": 694,
    "start_time": "2024-07-14T23:32:44.030Z"
   },
   {
    "duration": 59,
    "start_time": "2024-07-14T23:32:55.893Z"
   },
   {
    "duration": 61,
    "start_time": "2024-07-14T23:32:59.844Z"
   },
   {
    "duration": 58,
    "start_time": "2024-07-14T23:33:08.511Z"
   },
   {
    "duration": 7,
    "start_time": "2024-07-14T23:33:11.366Z"
   },
   {
    "duration": 59,
    "start_time": "2024-07-14T23:33:15.596Z"
   },
   {
    "duration": 534,
    "start_time": "2024-07-14T23:33:25.316Z"
   },
   {
    "duration": 1525,
    "start_time": "2024-07-14T23:33:25.853Z"
   },
   {
    "duration": 21,
    "start_time": "2024-07-14T23:33:27.381Z"
   },
   {
    "duration": 26,
    "start_time": "2024-07-14T23:33:27.405Z"
   },
   {
    "duration": 14,
    "start_time": "2024-07-14T23:33:27.435Z"
   },
   {
    "duration": 15,
    "start_time": "2024-07-14T23:33:27.452Z"
   },
   {
    "duration": 78,
    "start_time": "2024-07-14T23:33:27.471Z"
   },
   {
    "duration": 47,
    "start_time": "2024-07-14T23:33:27.553Z"
   },
   {
    "duration": 35,
    "start_time": "2024-07-14T23:33:27.603Z"
   },
   {
    "duration": 40,
    "start_time": "2024-07-14T23:33:27.641Z"
   },
   {
    "duration": 184,
    "start_time": "2024-07-14T23:33:27.684Z"
   },
   {
    "duration": 53,
    "start_time": "2024-07-14T23:33:27.871Z"
   },
   {
    "duration": 23,
    "start_time": "2024-07-14T23:33:27.926Z"
   },
   {
    "duration": 7,
    "start_time": "2024-07-14T23:33:27.955Z"
   },
   {
    "duration": 69,
    "start_time": "2024-07-14T23:33:27.965Z"
   },
   {
    "duration": 3,
    "start_time": "2024-07-14T23:33:28.037Z"
   },
   {
    "duration": 4,
    "start_time": "2024-07-14T23:33:28.043Z"
   },
   {
    "duration": 4,
    "start_time": "2024-07-14T23:33:28.050Z"
   },
   {
    "duration": 3,
    "start_time": "2024-07-14T23:33:28.057Z"
   },
   {
    "duration": 4,
    "start_time": "2024-07-14T23:33:28.064Z"
   },
   {
    "duration": 50,
    "start_time": "2024-07-14T23:33:28.072Z"
   },
   {
    "duration": 4,
    "start_time": "2024-07-14T23:33:28.125Z"
   },
   {
    "duration": 4,
    "start_time": "2024-07-14T23:33:28.133Z"
   },
   {
    "duration": 8,
    "start_time": "2024-07-14T23:33:28.141Z"
   },
   {
    "duration": 4,
    "start_time": "2024-07-14T23:33:28.151Z"
   },
   {
    "duration": 7,
    "start_time": "2024-07-14T23:33:28.160Z"
   },
   {
    "duration": 4,
    "start_time": "2024-07-14T23:33:28.170Z"
   },
   {
    "duration": 4,
    "start_time": "2024-07-14T23:33:28.225Z"
   },
   {
    "duration": 4,
    "start_time": "2024-07-14T23:33:28.233Z"
   },
   {
    "duration": 3,
    "start_time": "2024-07-14T23:33:28.241Z"
   },
   {
    "duration": 4,
    "start_time": "2024-07-14T23:33:28.246Z"
   },
   {
    "duration": 4,
    "start_time": "2024-07-14T23:33:28.253Z"
   },
   {
    "duration": 4,
    "start_time": "2024-07-14T23:33:28.262Z"
   },
   {
    "duration": 55,
    "start_time": "2024-07-14T23:33:28.269Z"
   },
   {
    "duration": 1072,
    "start_time": "2024-07-14T23:36:26.652Z"
   },
   {
    "duration": 22,
    "start_time": "2024-07-14T23:37:30.927Z"
   },
   {
    "duration": 22,
    "start_time": "2024-07-14T23:37:32.893Z"
   },
   {
    "duration": 38,
    "start_time": "2024-07-14T23:37:41.299Z"
   },
   {
    "duration": 23,
    "start_time": "2024-07-14T23:37:43.520Z"
   },
   {
    "duration": 10,
    "start_time": "2024-07-14T23:37:55.032Z"
   },
   {
    "duration": 26,
    "start_time": "2024-07-14T23:40:52.235Z"
   },
   {
    "duration": 22,
    "start_time": "2024-07-14T23:41:06.763Z"
   },
   {
    "duration": 24,
    "start_time": "2024-07-14T23:41:10.219Z"
   },
   {
    "duration": 22,
    "start_time": "2024-07-14T23:41:25.536Z"
   },
   {
    "duration": 19,
    "start_time": "2024-07-14T23:41:48.726Z"
   },
   {
    "duration": 23,
    "start_time": "2024-07-14T23:41:58.031Z"
   },
   {
    "duration": 40,
    "start_time": "2024-07-14T23:42:12.756Z"
   },
   {
    "duration": 45,
    "start_time": "2024-07-14T23:45:41.122Z"
   },
   {
    "duration": 36,
    "start_time": "2024-07-14T23:46:07.374Z"
   },
   {
    "duration": 30,
    "start_time": "2024-07-15T00:12:47.606Z"
   },
   {
    "duration": 7,
    "start_time": "2024-07-15T00:13:07.811Z"
   },
   {
    "duration": 34,
    "start_time": "2024-07-15T00:13:20.438Z"
   },
   {
    "duration": 34,
    "start_time": "2024-07-15T00:13:30.372Z"
   },
   {
    "duration": 35,
    "start_time": "2024-07-15T00:13:35.232Z"
   },
   {
    "duration": 34,
    "start_time": "2024-07-15T00:13:56.741Z"
   },
   {
    "duration": 30,
    "start_time": "2024-07-15T00:14:50.714Z"
   },
   {
    "duration": 938,
    "start_time": "2024-07-15T00:17:15.125Z"
   },
   {
    "duration": 31,
    "start_time": "2024-07-15T00:17:23.070Z"
   },
   {
    "duration": 21,
    "start_time": "2024-07-15T00:21:01.593Z"
   },
   {
    "duration": 19,
    "start_time": "2024-07-15T00:21:04.529Z"
   },
   {
    "duration": 7,
    "start_time": "2024-07-15T00:21:23.009Z"
   },
   {
    "duration": 8,
    "start_time": "2024-07-15T00:21:40.116Z"
   },
   {
    "duration": 7,
    "start_time": "2024-07-15T00:22:17.952Z"
   },
   {
    "duration": 168,
    "start_time": "2024-07-15T00:22:27.344Z"
   },
   {
    "duration": 7,
    "start_time": "2024-07-15T00:22:29.788Z"
   },
   {
    "duration": 7,
    "start_time": "2024-07-15T00:23:06.661Z"
   },
   {
    "duration": 6,
    "start_time": "2024-07-15T00:23:07.410Z"
   },
   {
    "duration": 7,
    "start_time": "2024-07-15T00:25:30.871Z"
   },
   {
    "duration": 8,
    "start_time": "2024-07-15T00:25:38.843Z"
   },
   {
    "duration": 6,
    "start_time": "2024-07-15T00:26:50.247Z"
   },
   {
    "duration": 9,
    "start_time": "2024-07-15T00:26:57.335Z"
   },
   {
    "duration": 1329,
    "start_time": "2024-07-15T00:27:57.796Z"
   },
   {
    "duration": 1338,
    "start_time": "2024-07-15T00:28:27.254Z"
   },
   {
    "duration": 7,
    "start_time": "2024-07-15T00:33:51.056Z"
   },
   {
    "duration": 9,
    "start_time": "2024-07-15T00:34:21.547Z"
   },
   {
    "duration": 33,
    "start_time": "2024-07-15T00:34:36.307Z"
   },
   {
    "duration": 30,
    "start_time": "2024-07-15T00:35:08.285Z"
   },
   {
    "duration": 18,
    "start_time": "2024-07-15T00:43:55.544Z"
   },
   {
    "duration": 20,
    "start_time": "2024-07-15T00:43:59.687Z"
   },
   {
    "duration": 10,
    "start_time": "2024-07-15T00:44:06.738Z"
   },
   {
    "duration": 9,
    "start_time": "2024-07-15T00:44:22.452Z"
   },
   {
    "duration": 33,
    "start_time": "2024-07-15T00:46:00.648Z"
   },
   {
    "duration": 489,
    "start_time": "2024-07-15T00:46:13.562Z"
   },
   {
    "duration": 1507,
    "start_time": "2024-07-15T00:46:14.055Z"
   },
   {
    "duration": 20,
    "start_time": "2024-07-15T00:46:15.565Z"
   },
   {
    "duration": 38,
    "start_time": "2024-07-15T00:46:15.588Z"
   },
   {
    "duration": 13,
    "start_time": "2024-07-15T00:46:15.632Z"
   },
   {
    "duration": 15,
    "start_time": "2024-07-15T00:46:15.648Z"
   },
   {
    "duration": 86,
    "start_time": "2024-07-15T00:46:15.666Z"
   },
   {
    "duration": 68,
    "start_time": "2024-07-15T00:46:15.756Z"
   },
   {
    "duration": 20,
    "start_time": "2024-07-15T00:46:15.827Z"
   },
   {
    "duration": 44,
    "start_time": "2024-07-15T00:46:15.850Z"
   },
   {
    "duration": 167,
    "start_time": "2024-07-15T00:46:15.923Z"
   },
   {
    "duration": 53,
    "start_time": "2024-07-15T00:46:16.093Z"
   },
   {
    "duration": 23,
    "start_time": "2024-07-15T00:46:16.150Z"
   },
   {
    "duration": 7,
    "start_time": "2024-07-15T00:46:16.179Z"
   },
   {
    "duration": 70,
    "start_time": "2024-07-15T00:46:16.189Z"
   },
   {
    "duration": 32,
    "start_time": "2024-07-15T00:46:16.263Z"
   },
   {
    "duration": 27,
    "start_time": "2024-07-15T00:46:16.298Z"
   },
   {
    "duration": 7,
    "start_time": "2024-07-15T00:46:16.328Z"
   },
   {
    "duration": 7,
    "start_time": "2024-07-15T00:46:16.339Z"
   },
   {
    "duration": 6,
    "start_time": "2024-07-15T00:46:16.350Z"
   },
   {
    "duration": 1438,
    "start_time": "2024-07-15T00:46:16.358Z"
   },
   {
    "duration": 1398,
    "start_time": "2024-07-15T00:46:17.799Z"
   },
   {
    "duration": 10,
    "start_time": "2024-07-15T00:46:19.201Z"
   },
   {
    "duration": 4,
    "start_time": "2024-07-15T00:46:19.224Z"
   },
   {
    "duration": 4,
    "start_time": "2024-07-15T00:46:19.231Z"
   },
   {
    "duration": 4,
    "start_time": "2024-07-15T00:46:19.239Z"
   },
   {
    "duration": 4,
    "start_time": "2024-07-15T00:46:19.246Z"
   },
   {
    "duration": 4,
    "start_time": "2024-07-15T00:46:19.253Z"
   },
   {
    "duration": 4,
    "start_time": "2024-07-15T00:46:19.259Z"
   },
   {
    "duration": 4,
    "start_time": "2024-07-15T00:46:19.322Z"
   },
   {
    "duration": 3,
    "start_time": "2024-07-15T00:46:19.330Z"
   },
   {
    "duration": 4,
    "start_time": "2024-07-15T00:46:19.336Z"
   },
   {
    "duration": 4,
    "start_time": "2024-07-15T00:46:19.343Z"
   },
   {
    "duration": 3,
    "start_time": "2024-07-15T00:46:19.350Z"
   },
   {
    "duration": 21,
    "start_time": "2024-07-15T00:49:51.931Z"
   },
   {
    "duration": 1163,
    "start_time": "2024-07-15T00:51:31.223Z"
   },
   {
    "duration": 84,
    "start_time": "2024-07-15T00:51:42.728Z"
   },
   {
    "duration": 73,
    "start_time": "2024-07-15T00:51:53.047Z"
   },
   {
    "duration": 18,
    "start_time": "2024-07-15T00:53:56.552Z"
   },
   {
    "duration": 8,
    "start_time": "2024-07-15T00:54:05.817Z"
   },
   {
    "duration": 19,
    "start_time": "2024-07-15T00:54:07.629Z"
   },
   {
    "duration": 14,
    "start_time": "2024-07-15T00:55:32.534Z"
   },
   {
    "duration": 17,
    "start_time": "2024-07-15T00:55:50.441Z"
   },
   {
    "duration": 12,
    "start_time": "2024-07-15T00:56:06.293Z"
   },
   {
    "duration": 5,
    "start_time": "2024-07-15T00:56:37.835Z"
   },
   {
    "duration": 12,
    "start_time": "2024-07-15T00:56:42.363Z"
   },
   {
    "duration": 10,
    "start_time": "2024-07-15T00:58:51.497Z"
   },
   {
    "duration": 7,
    "start_time": "2024-07-15T01:04:00.041Z"
   },
   {
    "duration": 8,
    "start_time": "2024-07-15T01:04:02.692Z"
   },
   {
    "duration": 18,
    "start_time": "2024-07-15T01:04:19.413Z"
   },
   {
    "duration": 19,
    "start_time": "2024-07-15T01:05:13.583Z"
   },
   {
    "duration": 7,
    "start_time": "2024-07-15T01:05:41.157Z"
   },
   {
    "duration": 21,
    "start_time": "2024-07-15T01:05:46.258Z"
   },
   {
    "duration": 11,
    "start_time": "2024-07-15T01:05:54.211Z"
   },
   {
    "duration": 7,
    "start_time": "2024-07-15T01:06:22.467Z"
   },
   {
    "duration": 6,
    "start_time": "2024-07-15T01:06:40.312Z"
   },
   {
    "duration": 18,
    "start_time": "2024-07-15T01:09:29.720Z"
   },
   {
    "duration": 17,
    "start_time": "2024-07-15T01:10:10.119Z"
   },
   {
    "duration": 88,
    "start_time": "2024-07-15T01:12:07.514Z"
   },
   {
    "duration": 8,
    "start_time": "2024-07-15T01:12:17.473Z"
   },
   {
    "duration": 7,
    "start_time": "2024-07-15T01:16:12.562Z"
   },
   {
    "duration": 9,
    "start_time": "2024-07-15T01:16:24.907Z"
   },
   {
    "duration": 72,
    "start_time": "2024-07-15T01:16:51.458Z"
   },
   {
    "duration": 7,
    "start_time": "2024-07-15T01:16:58.778Z"
   },
   {
    "duration": 6,
    "start_time": "2024-07-15T01:17:17.761Z"
   },
   {
    "duration": 7,
    "start_time": "2024-07-15T01:19:22.954Z"
   },
   {
    "duration": 8,
    "start_time": "2024-07-15T01:19:32.674Z"
   },
   {
    "duration": 9,
    "start_time": "2024-07-15T01:20:04.475Z"
   },
   {
    "duration": 11,
    "start_time": "2024-07-15T01:22:53.587Z"
   },
   {
    "duration": 86,
    "start_time": "2024-07-15T02:33:38.223Z"
   },
   {
    "duration": 8,
    "start_time": "2024-07-15T02:33:58.401Z"
   },
   {
    "duration": 16,
    "start_time": "2024-07-15T02:34:19.133Z"
   },
   {
    "duration": 17,
    "start_time": "2024-07-15T02:34:33.319Z"
   },
   {
    "duration": 154,
    "start_time": "2024-07-15T02:34:44.404Z"
   },
   {
    "duration": 73,
    "start_time": "2024-07-15T02:35:06.824Z"
   },
   {
    "duration": 74,
    "start_time": "2024-07-15T02:35:08.606Z"
   },
   {
    "duration": 11,
    "start_time": "2024-07-15T02:37:10.499Z"
   },
   {
    "duration": 19,
    "start_time": "2024-07-15T02:37:24.380Z"
   },
   {
    "duration": 18,
    "start_time": "2024-07-15T02:37:46.886Z"
   },
   {
    "duration": 11,
    "start_time": "2024-07-15T02:37:57.969Z"
   },
   {
    "duration": 18,
    "start_time": "2024-07-15T02:38:52.181Z"
   },
   {
    "duration": 9,
    "start_time": "2024-07-15T02:38:53.685Z"
   },
   {
    "duration": 8,
    "start_time": "2024-07-15T02:38:54.685Z"
   },
   {
    "duration": 9,
    "start_time": "2024-07-15T02:38:57.300Z"
   },
   {
    "duration": 11,
    "start_time": "2024-07-15T02:38:59.332Z"
   },
   {
    "duration": 14,
    "start_time": "2024-07-15T02:39:17.348Z"
   },
   {
    "duration": 30,
    "start_time": "2024-07-15T02:39:55.200Z"
   },
   {
    "duration": 19,
    "start_time": "2024-07-15T02:40:07.435Z"
   },
   {
    "duration": 19,
    "start_time": "2024-07-15T02:40:23.508Z"
   },
   {
    "duration": 12,
    "start_time": "2024-07-15T02:40:43.821Z"
   },
   {
    "duration": 16,
    "start_time": "2024-07-15T02:40:52.147Z"
   },
   {
    "duration": 27,
    "start_time": "2024-07-15T02:41:02.142Z"
   },
   {
    "duration": 29,
    "start_time": "2024-07-15T02:41:13.056Z"
   },
   {
    "duration": 28,
    "start_time": "2024-07-15T02:42:17.766Z"
   },
   {
    "duration": 59,
    "start_time": "2024-07-15T02:42:23.646Z"
   },
   {
    "duration": 7,
    "start_time": "2024-07-15T02:42:51.150Z"
   },
   {
    "duration": 10,
    "start_time": "2024-07-15T02:42:57.688Z"
   },
   {
    "duration": 13,
    "start_time": "2024-07-15T02:43:01.453Z"
   },
   {
    "duration": 9,
    "start_time": "2024-07-15T02:43:34.538Z"
   },
   {
    "duration": 21,
    "start_time": "2024-07-15T02:45:20.374Z"
   },
   {
    "duration": 43,
    "start_time": "2024-07-15T02:45:26.128Z"
   },
   {
    "duration": 27,
    "start_time": "2024-07-15T02:45:30.644Z"
   },
   {
    "duration": 302,
    "start_time": "2024-07-15T02:45:53.733Z"
   },
   {
    "duration": 287,
    "start_time": "2024-07-15T02:50:53.086Z"
   },
   {
    "duration": 180,
    "start_time": "2024-07-15T02:56:18.531Z"
   },
   {
    "duration": 194,
    "start_time": "2024-07-15T02:56:47.331Z"
   },
   {
    "duration": 23,
    "start_time": "2024-07-15T02:57:18.045Z"
   },
   {
    "duration": 11,
    "start_time": "2024-07-15T02:57:57.605Z"
   },
   {
    "duration": 8,
    "start_time": "2024-07-15T03:01:12.667Z"
   },
   {
    "duration": 8,
    "start_time": "2024-07-15T03:01:21.483Z"
   },
   {
    "duration": 8,
    "start_time": "2024-07-15T03:01:24.396Z"
   },
   {
    "duration": 8,
    "start_time": "2024-07-15T03:01:37.935Z"
   },
   {
    "duration": 18,
    "start_time": "2024-07-15T03:01:55.946Z"
   },
   {
    "duration": 12,
    "start_time": "2024-07-15T03:02:09.484Z"
   },
   {
    "duration": 17,
    "start_time": "2024-07-15T03:02:34.127Z"
   },
   {
    "duration": 7,
    "start_time": "2024-07-15T03:26:29.597Z"
   },
   {
    "duration": 10,
    "start_time": "2024-07-15T03:26:34.616Z"
   },
   {
    "duration": 53,
    "start_time": "2024-07-15T03:27:44.216Z"
   },
   {
    "duration": 3,
    "start_time": "2024-07-15T03:29:56.099Z"
   },
   {
    "duration": 7,
    "start_time": "2024-07-15T03:29:59.737Z"
   },
   {
    "duration": 7,
    "start_time": "2024-07-15T03:31:04.942Z"
   },
   {
    "duration": 4,
    "start_time": "2024-07-15T03:31:12.511Z"
   },
   {
    "duration": 19,
    "start_time": "2024-07-15T03:31:18.626Z"
   },
   {
    "duration": 33,
    "start_time": "2024-07-15T03:34:00.954Z"
   },
   {
    "duration": 27,
    "start_time": "2024-07-15T03:35:49.716Z"
   },
   {
    "duration": 21,
    "start_time": "2024-07-15T03:37:01.725Z"
   },
   {
    "duration": 21,
    "start_time": "2024-07-15T03:37:06.781Z"
   },
   {
    "duration": 57,
    "start_time": "2024-07-15T03:37:20.201Z"
   },
   {
    "duration": 52,
    "start_time": "2024-07-15T03:37:54.220Z"
   },
   {
    "duration": 29,
    "start_time": "2024-07-15T03:38:26.054Z"
   },
   {
    "duration": 24,
    "start_time": "2024-07-15T03:39:04.389Z"
   },
   {
    "duration": 11,
    "start_time": "2024-07-15T03:39:23.284Z"
   },
   {
    "duration": 16,
    "start_time": "2024-07-15T03:40:34.007Z"
   },
   {
    "duration": 11,
    "start_time": "2024-07-15T03:43:46.091Z"
   },
   {
    "duration": 10,
    "start_time": "2024-07-15T03:43:54.068Z"
   },
   {
    "duration": 10,
    "start_time": "2024-07-15T03:45:47.464Z"
   },
   {
    "duration": 15,
    "start_time": "2024-07-15T03:45:51.975Z"
   },
   {
    "duration": 11,
    "start_time": "2024-07-15T03:46:28.165Z"
   },
   {
    "duration": 17,
    "start_time": "2024-07-15T03:47:17.966Z"
   },
   {
    "duration": 29,
    "start_time": "2024-07-15T03:47:23.714Z"
   },
   {
    "duration": 445,
    "start_time": "2024-07-15T03:47:42.968Z"
   },
   {
    "duration": 14,
    "start_time": "2024-07-15T03:47:55.872Z"
   },
   {
    "duration": 33,
    "start_time": "2024-07-15T03:48:08.030Z"
   },
   {
    "duration": 15,
    "start_time": "2024-07-15T03:51:51.279Z"
   },
   {
    "duration": 30,
    "start_time": "2024-07-15T03:52:19.989Z"
   },
   {
    "duration": 42,
    "start_time": "2024-07-15T03:53:00.216Z"
   },
   {
    "duration": 33,
    "start_time": "2024-07-15T03:53:20.039Z"
   },
   {
    "duration": 39,
    "start_time": "2024-07-15T03:53:31.132Z"
   },
   {
    "duration": 8,
    "start_time": "2024-07-15T03:53:50.942Z"
   },
   {
    "duration": 50,
    "start_time": "2024-07-15T03:54:49.012Z"
   },
   {
    "duration": 34,
    "start_time": "2024-07-15T03:54:58.773Z"
   },
   {
    "duration": 36,
    "start_time": "2024-07-15T04:12:12.175Z"
   },
   {
    "duration": 39,
    "start_time": "2024-07-15T04:15:24.732Z"
   },
   {
    "duration": 20,
    "start_time": "2024-07-15T04:15:56.686Z"
   },
   {
    "duration": 41,
    "start_time": "2024-07-15T04:16:28.958Z"
   },
   {
    "duration": 22,
    "start_time": "2024-07-15T04:16:43.467Z"
   },
   {
    "duration": 42,
    "start_time": "2024-07-15T04:18:12.202Z"
   },
   {
    "duration": 24,
    "start_time": "2024-07-15T04:20:37.307Z"
   },
   {
    "duration": 32,
    "start_time": "2024-07-15T04:24:08.434Z"
   },
   {
    "duration": 27,
    "start_time": "2024-07-15T04:27:15.103Z"
   },
   {
    "duration": 29,
    "start_time": "2024-07-15T04:27:27.277Z"
   },
   {
    "duration": 7,
    "start_time": "2024-07-15T04:27:30.557Z"
   },
   {
    "duration": 5,
    "start_time": "2024-07-15T04:27:49.128Z"
   },
   {
    "duration": 22,
    "start_time": "2024-07-15T04:27:52.742Z"
   },
   {
    "duration": 26,
    "start_time": "2024-07-15T04:28:58.391Z"
   },
   {
    "duration": 50,
    "start_time": "2024-07-15T04:29:19.361Z"
   },
   {
    "duration": 21,
    "start_time": "2024-07-15T04:30:47.199Z"
   },
   {
    "duration": 6,
    "start_time": "2024-07-15T04:30:50.040Z"
   },
   {
    "duration": 23,
    "start_time": "2024-07-15T04:37:07.183Z"
   },
   {
    "duration": 18,
    "start_time": "2024-07-15T04:37:14.322Z"
   },
   {
    "duration": 34,
    "start_time": "2024-07-15T04:37:20.029Z"
   },
   {
    "duration": 18,
    "start_time": "2024-07-15T04:37:23.171Z"
   },
   {
    "duration": 285,
    "start_time": "2024-07-15T04:37:41.661Z"
   },
   {
    "duration": 295,
    "start_time": "2024-07-15T04:40:55.731Z"
   },
   {
    "duration": 292,
    "start_time": "2024-07-15T04:41:00.989Z"
   },
   {
    "duration": 272,
    "start_time": "2024-07-15T04:41:08.177Z"
   },
   {
    "duration": 726,
    "start_time": "2024-07-15T04:41:12.157Z"
   },
   {
    "duration": 314,
    "start_time": "2024-07-15T04:41:38.037Z"
   },
   {
    "duration": 282,
    "start_time": "2024-07-15T04:43:47.866Z"
   },
   {
    "duration": 74,
    "start_time": "2024-07-15T04:45:35.616Z"
   },
   {
    "duration": 30,
    "start_time": "2024-07-15T04:46:06.454Z"
   },
   {
    "duration": 45,
    "start_time": "2024-07-15T04:46:09.853Z"
   },
   {
    "duration": 5,
    "start_time": "2024-07-15T04:49:03.828Z"
   },
   {
    "duration": 7,
    "start_time": "2024-07-15T04:49:08.653Z"
   },
   {
    "duration": 9,
    "start_time": "2024-07-15T04:49:16.562Z"
   },
   {
    "duration": 19,
    "start_time": "2024-07-15T04:49:32.367Z"
   },
   {
    "duration": 15,
    "start_time": "2024-07-15T04:49:37.460Z"
   },
   {
    "duration": 19,
    "start_time": "2024-07-15T04:50:53.946Z"
   },
   {
    "duration": 79,
    "start_time": "2024-07-15T04:52:03.495Z"
   },
   {
    "duration": 20,
    "start_time": "2024-07-15T04:52:10.897Z"
   },
   {
    "duration": 18,
    "start_time": "2024-07-15T04:52:30.626Z"
   },
   {
    "duration": 6,
    "start_time": "2024-07-15T05:00:02.736Z"
   },
   {
    "duration": 8,
    "start_time": "2024-07-15T05:00:14.215Z"
   },
   {
    "duration": 15,
    "start_time": "2024-07-15T05:03:13.867Z"
   },
   {
    "duration": 6,
    "start_time": "2024-07-15T05:03:31.495Z"
   },
   {
    "duration": 6,
    "start_time": "2024-07-15T05:03:35.292Z"
   },
   {
    "duration": 11,
    "start_time": "2024-07-15T05:03:40.341Z"
   },
   {
    "duration": 278,
    "start_time": "2024-07-15T05:03:44.368Z"
   },
   {
    "duration": 10,
    "start_time": "2024-07-15T05:03:49.126Z"
   },
   {
    "duration": 9,
    "start_time": "2024-07-15T05:04:09.027Z"
   },
   {
    "duration": 9,
    "start_time": "2024-07-15T05:05:29.359Z"
   },
   {
    "duration": 10,
    "start_time": "2024-07-15T05:05:48.053Z"
   },
   {
    "duration": 10,
    "start_time": "2024-07-15T05:09:33.898Z"
   },
   {
    "duration": 11,
    "start_time": "2024-07-15T05:11:30.587Z"
   },
   {
    "duration": 10,
    "start_time": "2024-07-15T05:11:53.643Z"
   },
   {
    "duration": 11,
    "start_time": "2024-07-15T05:11:58.412Z"
   },
   {
    "duration": 11,
    "start_time": "2024-07-15T05:14:44.756Z"
   },
   {
    "duration": 37,
    "start_time": "2024-07-15T05:14:59.427Z"
   },
   {
    "duration": 12,
    "start_time": "2024-07-15T05:15:06.631Z"
   },
   {
    "duration": 16,
    "start_time": "2024-07-15T05:17:29.014Z"
   },
   {
    "duration": 17,
    "start_time": "2024-07-15T05:18:40.838Z"
   },
   {
    "duration": 17,
    "start_time": "2024-07-15T05:19:14.123Z"
   },
   {
    "duration": 490,
    "start_time": "2024-07-15T05:19:27.467Z"
   },
   {
    "duration": 1500,
    "start_time": "2024-07-15T05:19:27.961Z"
   },
   {
    "duration": 20,
    "start_time": "2024-07-15T05:19:29.463Z"
   },
   {
    "duration": 42,
    "start_time": "2024-07-15T05:19:29.485Z"
   },
   {
    "duration": 12,
    "start_time": "2024-07-15T05:19:29.532Z"
   },
   {
    "duration": 13,
    "start_time": "2024-07-15T05:19:29.548Z"
   },
   {
    "duration": 75,
    "start_time": "2024-07-15T05:19:29.564Z"
   },
   {
    "duration": 53,
    "start_time": "2024-07-15T05:19:29.643Z"
   },
   {
    "duration": 43,
    "start_time": "2024-07-15T05:19:29.698Z"
   },
   {
    "duration": 45,
    "start_time": "2024-07-15T05:19:29.748Z"
   },
   {
    "duration": 189,
    "start_time": "2024-07-15T05:19:29.797Z"
   },
   {
    "duration": 50,
    "start_time": "2024-07-15T05:19:29.989Z"
   },
   {
    "duration": 26,
    "start_time": "2024-07-15T05:19:30.042Z"
   },
   {
    "duration": 6,
    "start_time": "2024-07-15T05:19:30.075Z"
   },
   {
    "duration": 68,
    "start_time": "2024-07-15T05:19:30.084Z"
   },
   {
    "duration": 31,
    "start_time": "2024-07-15T05:19:30.154Z"
   },
   {
    "duration": 35,
    "start_time": "2024-07-15T05:19:30.188Z"
   },
   {
    "duration": 7,
    "start_time": "2024-07-15T05:19:30.227Z"
   },
   {
    "duration": 7,
    "start_time": "2024-07-15T05:19:30.237Z"
   },
   {
    "duration": 9,
    "start_time": "2024-07-15T05:19:30.247Z"
   },
   {
    "duration": 1371,
    "start_time": "2024-07-15T05:19:30.259Z"
   },
   {
    "duration": 1372,
    "start_time": "2024-07-15T05:19:31.633Z"
   },
   {
    "duration": 32,
    "start_time": "2024-07-15T05:19:33.010Z"
   },
   {
    "duration": 8,
    "start_time": "2024-07-15T05:19:33.045Z"
   },
   {
    "duration": 11,
    "start_time": "2024-07-15T05:19:33.056Z"
   },
   {
    "duration": 10,
    "start_time": "2024-07-15T05:19:33.070Z"
   },
   {
    "duration": 45,
    "start_time": "2024-07-15T05:19:33.083Z"
   },
   {
    "duration": 11,
    "start_time": "2024-07-15T05:19:33.131Z"
   },
   {
    "duration": 28,
    "start_time": "2024-07-15T05:19:33.145Z"
   },
   {
    "duration": 65,
    "start_time": "2024-07-15T05:19:33.176Z"
   },
   {
    "duration": 49,
    "start_time": "2024-07-15T05:19:33.244Z"
   },
   {
    "duration": 52,
    "start_time": "2024-07-15T05:19:33.296Z"
   },
   {
    "duration": 19,
    "start_time": "2024-07-15T05:19:33.351Z"
   },
   {
    "duration": 11,
    "start_time": "2024-07-15T05:19:33.373Z"
   },
   {
    "duration": 19,
    "start_time": "2024-07-15T05:19:56.087Z"
   },
   {
    "duration": 18,
    "start_time": "2024-07-15T05:21:44.638Z"
   },
   {
    "duration": 17,
    "start_time": "2024-07-15T05:24:23.620Z"
   },
   {
    "duration": 27,
    "start_time": "2024-07-15T05:25:43.188Z"
   },
   {
    "duration": 18,
    "start_time": "2024-07-15T05:25:58.409Z"
   },
   {
    "duration": 35,
    "start_time": "2024-07-15T05:26:01.131Z"
   },
   {
    "duration": 155,
    "start_time": "2024-07-15T05:26:10.262Z"
   },
   {
    "duration": 565,
    "start_time": "2024-07-15T05:26:25.301Z"
   },
   {
    "duration": 51,
    "start_time": "2024-07-15T05:26:31.517Z"
   },
   {
    "duration": 50,
    "start_time": "2024-07-15T05:26:34.493Z"
   },
   {
    "duration": 477,
    "start_time": "2024-07-15T05:27:28.369Z"
   },
   {
    "duration": 1548,
    "start_time": "2024-07-15T05:27:28.849Z"
   },
   {
    "duration": 28,
    "start_time": "2024-07-15T05:27:30.400Z"
   },
   {
    "duration": 16,
    "start_time": "2024-07-15T05:27:30.432Z"
   },
   {
    "duration": 15,
    "start_time": "2024-07-15T05:27:30.452Z"
   },
   {
    "duration": 54,
    "start_time": "2024-07-15T05:27:30.470Z"
   },
   {
    "duration": 39,
    "start_time": "2024-07-15T05:27:30.527Z"
   },
   {
    "duration": 71,
    "start_time": "2024-07-15T05:27:30.568Z"
   },
   {
    "duration": 21,
    "start_time": "2024-07-15T05:27:30.641Z"
   },
   {
    "duration": 61,
    "start_time": "2024-07-15T05:27:30.665Z"
   },
   {
    "duration": 175,
    "start_time": "2024-07-15T05:27:30.729Z"
   },
   {
    "duration": 48,
    "start_time": "2024-07-15T05:27:30.907Z"
   },
   {
    "duration": 23,
    "start_time": "2024-07-15T05:27:30.958Z"
   },
   {
    "duration": 7,
    "start_time": "2024-07-15T05:27:30.987Z"
   },
   {
    "duration": 38,
    "start_time": "2024-07-15T05:27:31.024Z"
   },
   {
    "duration": 31,
    "start_time": "2024-07-15T05:27:31.065Z"
   },
   {
    "duration": 8,
    "start_time": "2024-07-15T05:27:31.125Z"
   },
   {
    "duration": 14,
    "start_time": "2024-07-15T05:27:31.136Z"
   },
   {
    "duration": 8,
    "start_time": "2024-07-15T05:27:31.152Z"
   },
   {
    "duration": 7,
    "start_time": "2024-07-15T05:27:31.164Z"
   },
   {
    "duration": 1404,
    "start_time": "2024-07-15T05:27:31.175Z"
   },
   {
    "duration": 1400,
    "start_time": "2024-07-15T05:27:32.582Z"
   },
   {
    "duration": 38,
    "start_time": "2024-07-15T05:27:33.986Z"
   },
   {
    "duration": 10,
    "start_time": "2024-07-15T05:27:34.027Z"
   },
   {
    "duration": 9,
    "start_time": "2024-07-15T05:27:34.041Z"
   },
   {
    "duration": 10,
    "start_time": "2024-07-15T05:27:34.053Z"
   },
   {
    "duration": 7,
    "start_time": "2024-07-15T05:27:34.066Z"
   },
   {
    "duration": 55,
    "start_time": "2024-07-15T05:27:34.076Z"
   },
   {
    "duration": 27,
    "start_time": "2024-07-15T05:27:34.134Z"
   },
   {
    "duration": 59,
    "start_time": "2024-07-15T05:27:34.164Z"
   },
   {
    "duration": 50,
    "start_time": "2024-07-15T05:27:34.225Z"
   },
   {
    "duration": 55,
    "start_time": "2024-07-15T05:27:34.278Z"
   },
   {
    "duration": 19,
    "start_time": "2024-07-15T05:27:34.335Z"
   },
   {
    "duration": 181,
    "start_time": "2024-07-15T05:27:34.357Z"
   },
   {
    "duration": 557,
    "start_time": "2024-07-15T05:27:45.759Z"
   },
   {
    "duration": 514,
    "start_time": "2024-07-15T05:27:56.107Z"
   },
   {
    "duration": 1535,
    "start_time": "2024-07-15T05:27:56.624Z"
   },
   {
    "duration": 18,
    "start_time": "2024-07-15T05:27:58.162Z"
   },
   {
    "duration": 39,
    "start_time": "2024-07-15T05:27:58.185Z"
   },
   {
    "duration": 15,
    "start_time": "2024-07-15T05:27:58.226Z"
   },
   {
    "duration": 14,
    "start_time": "2024-07-15T05:27:58.245Z"
   },
   {
    "duration": 76,
    "start_time": "2024-07-15T05:27:58.262Z"
   },
   {
    "duration": 48,
    "start_time": "2024-07-15T05:27:58.341Z"
   },
   {
    "duration": 41,
    "start_time": "2024-07-15T05:27:58.392Z"
   },
   {
    "duration": 42,
    "start_time": "2024-07-15T05:27:58.440Z"
   },
   {
    "duration": 179,
    "start_time": "2024-07-15T05:27:58.485Z"
   },
   {
    "duration": 41,
    "start_time": "2024-07-15T05:27:58.667Z"
   },
   {
    "duration": 23,
    "start_time": "2024-07-15T05:27:58.723Z"
   },
   {
    "duration": 7,
    "start_time": "2024-07-15T05:27:58.748Z"
   },
   {
    "duration": 71,
    "start_time": "2024-07-15T05:27:58.758Z"
   },
   {
    "duration": 32,
    "start_time": "2024-07-15T05:27:58.833Z"
   },
   {
    "duration": 7,
    "start_time": "2024-07-15T05:27:58.869Z"
   },
   {
    "duration": 7,
    "start_time": "2024-07-15T05:27:58.879Z"
   },
   {
    "duration": 40,
    "start_time": "2024-07-15T05:27:58.889Z"
   },
   {
    "duration": 8,
    "start_time": "2024-07-15T05:27:58.931Z"
   },
   {
    "duration": 1382,
    "start_time": "2024-07-15T05:27:58.942Z"
   },
   {
    "duration": 1361,
    "start_time": "2024-07-15T05:28:00.327Z"
   },
   {
    "duration": 33,
    "start_time": "2024-07-15T05:28:01.691Z"
   },
   {
    "duration": 8,
    "start_time": "2024-07-15T05:28:01.727Z"
   },
   {
    "duration": 9,
    "start_time": "2024-07-15T05:28:01.738Z"
   },
   {
    "duration": 11,
    "start_time": "2024-07-15T05:28:01.750Z"
   },
   {
    "duration": 8,
    "start_time": "2024-07-15T05:28:01.765Z"
   },
   {
    "duration": 12,
    "start_time": "2024-07-15T05:28:01.824Z"
   },
   {
    "duration": 27,
    "start_time": "2024-07-15T05:28:01.838Z"
   },
   {
    "duration": 62,
    "start_time": "2024-07-15T05:28:01.867Z"
   },
   {
    "duration": 51,
    "start_time": "2024-07-15T05:28:01.932Z"
   },
   {
    "duration": 55,
    "start_time": "2024-07-15T05:28:01.985Z"
   },
   {
    "duration": 19,
    "start_time": "2024-07-15T05:28:02.043Z"
   },
   {
    "duration": 11,
    "start_time": "2024-07-15T05:28:02.065Z"
   },
   {
    "duration": 19,
    "start_time": "2024-07-15T05:28:18.136Z"
   },
   {
    "duration": 24,
    "start_time": "2024-07-15T05:29:15.333Z"
   },
   {
    "duration": 8,
    "start_time": "2024-07-15T05:29:27.346Z"
   },
   {
    "duration": 11,
    "start_time": "2024-07-15T05:29:35.205Z"
   },
   {
    "duration": 473,
    "start_time": "2024-07-15T05:29:52.072Z"
   },
   {
    "duration": 1490,
    "start_time": "2024-07-15T05:29:52.548Z"
   },
   {
    "duration": 19,
    "start_time": "2024-07-15T05:29:54.041Z"
   },
   {
    "duration": 16,
    "start_time": "2024-07-15T05:29:54.063Z"
   },
   {
    "duration": 43,
    "start_time": "2024-07-15T05:29:54.084Z"
   },
   {
    "duration": 15,
    "start_time": "2024-07-15T05:29:54.130Z"
   },
   {
    "duration": 40,
    "start_time": "2024-07-15T05:29:54.147Z"
   },
   {
    "duration": 50,
    "start_time": "2024-07-15T05:29:54.222Z"
   },
   {
    "duration": 19,
    "start_time": "2024-07-15T05:29:54.275Z"
   },
   {
    "duration": 42,
    "start_time": "2024-07-15T05:29:54.324Z"
   },
   {
    "duration": 185,
    "start_time": "2024-07-15T05:29:54.368Z"
   },
   {
    "duration": 41,
    "start_time": "2024-07-15T05:29:54.556Z"
   },
   {
    "duration": 40,
    "start_time": "2024-07-15T05:29:54.600Z"
   },
   {
    "duration": 7,
    "start_time": "2024-07-15T05:29:54.646Z"
   },
   {
    "duration": 71,
    "start_time": "2024-07-15T05:29:54.655Z"
   },
   {
    "duration": 30,
    "start_time": "2024-07-15T05:29:54.729Z"
   },
   {
    "duration": 7,
    "start_time": "2024-07-15T05:29:54.762Z"
   },
   {
    "duration": 7,
    "start_time": "2024-07-15T05:29:54.772Z"
   },
   {
    "duration": 45,
    "start_time": "2024-07-15T05:29:54.782Z"
   },
   {
    "duration": 7,
    "start_time": "2024-07-15T05:29:54.830Z"
   },
   {
    "duration": 1377,
    "start_time": "2024-07-15T05:29:54.840Z"
   },
   {
    "duration": 1372,
    "start_time": "2024-07-15T05:29:56.224Z"
   },
   {
    "duration": 29,
    "start_time": "2024-07-15T05:29:57.599Z"
   },
   {
    "duration": 7,
    "start_time": "2024-07-15T05:29:57.632Z"
   },
   {
    "duration": 9,
    "start_time": "2024-07-15T05:29:57.642Z"
   },
   {
    "duration": 11,
    "start_time": "2024-07-15T05:29:57.654Z"
   },
   {
    "duration": 7,
    "start_time": "2024-07-15T05:29:57.668Z"
   },
   {
    "duration": 12,
    "start_time": "2024-07-15T05:29:57.725Z"
   },
   {
    "duration": 34,
    "start_time": "2024-07-15T05:29:57.739Z"
   },
   {
    "duration": 65,
    "start_time": "2024-07-15T05:29:57.776Z"
   },
   {
    "duration": 49,
    "start_time": "2024-07-15T05:29:57.844Z"
   },
   {
    "duration": 44,
    "start_time": "2024-07-15T05:29:57.896Z"
   },
   {
    "duration": 19,
    "start_time": "2024-07-15T05:29:57.943Z"
   },
   {
    "duration": 70,
    "start_time": "2024-07-15T05:29:57.964Z"
   },
   {
    "duration": 10,
    "start_time": "2024-07-15T15:22:15.368Z"
   },
   {
    "duration": 321,
    "start_time": "2024-07-15T15:22:21.117Z"
   },
   {
    "duration": 531,
    "start_time": "2024-07-15T15:22:33.921Z"
   },
   {
    "duration": 1651,
    "start_time": "2024-07-15T15:22:34.456Z"
   },
   {
    "duration": 20,
    "start_time": "2024-07-15T15:22:36.112Z"
   },
   {
    "duration": 17,
    "start_time": "2024-07-15T15:22:36.136Z"
   },
   {
    "duration": 13,
    "start_time": "2024-07-15T15:22:36.156Z"
   },
   {
    "duration": 50,
    "start_time": "2024-07-15T15:22:36.172Z"
   },
   {
    "duration": 38,
    "start_time": "2024-07-15T15:22:36.225Z"
   },
   {
    "duration": 85,
    "start_time": "2024-07-15T15:22:36.266Z"
   },
   {
    "duration": 19,
    "start_time": "2024-07-15T15:22:36.354Z"
   },
   {
    "duration": 79,
    "start_time": "2024-07-15T15:22:36.379Z"
   },
   {
    "duration": 189,
    "start_time": "2024-07-15T15:22:36.461Z"
   },
   {
    "duration": 61,
    "start_time": "2024-07-15T15:22:36.653Z"
   },
   {
    "duration": 25,
    "start_time": "2024-07-15T15:22:36.717Z"
   },
   {
    "duration": 10,
    "start_time": "2024-07-15T15:22:36.746Z"
   },
   {
    "duration": 73,
    "start_time": "2024-07-15T15:22:36.759Z"
   },
   {
    "duration": 31,
    "start_time": "2024-07-15T15:22:36.835Z"
   },
   {
    "duration": 7,
    "start_time": "2024-07-15T15:22:36.869Z"
   },
   {
    "duration": 35,
    "start_time": "2024-07-15T15:22:36.880Z"
   },
   {
    "duration": 11,
    "start_time": "2024-07-15T15:22:36.918Z"
   },
   {
    "duration": 6,
    "start_time": "2024-07-15T15:22:36.935Z"
   },
   {
    "duration": 1393,
    "start_time": "2024-07-15T15:22:36.945Z"
   },
   {
    "duration": 1430,
    "start_time": "2024-07-15T15:22:38.342Z"
   },
   {
    "duration": 360,
    "start_time": "2024-07-15T15:22:39.776Z"
   },
   {
    "duration": 0,
    "start_time": "2024-07-15T15:22:40.140Z"
   },
   {
    "duration": 0,
    "start_time": "2024-07-15T15:22:40.142Z"
   },
   {
    "duration": 0,
    "start_time": "2024-07-15T15:22:40.145Z"
   },
   {
    "duration": 0,
    "start_time": "2024-07-15T15:22:40.147Z"
   },
   {
    "duration": 0,
    "start_time": "2024-07-15T15:22:40.149Z"
   },
   {
    "duration": 0,
    "start_time": "2024-07-15T15:22:40.152Z"
   },
   {
    "duration": 0,
    "start_time": "2024-07-15T15:22:40.155Z"
   },
   {
    "duration": 0,
    "start_time": "2024-07-15T15:22:40.157Z"
   },
   {
    "duration": 0,
    "start_time": "2024-07-15T15:22:40.160Z"
   },
   {
    "duration": 0,
    "start_time": "2024-07-15T15:22:40.162Z"
   },
   {
    "duration": 0,
    "start_time": "2024-07-15T15:22:40.165Z"
   },
   {
    "duration": 852,
    "start_time": "2024-07-15T15:22:54.079Z"
   },
   {
    "duration": 19,
    "start_time": "2024-07-15T15:23:05.474Z"
   },
   {
    "duration": 12,
    "start_time": "2024-07-15T15:23:15.603Z"
   },
   {
    "duration": 9,
    "start_time": "2024-07-15T15:23:24.891Z"
   },
   {
    "duration": 30,
    "start_time": "2024-07-15T15:24:51.760Z"
   },
   {
    "duration": 29,
    "start_time": "2024-07-15T15:25:27.049Z"
   },
   {
    "duration": 21,
    "start_time": "2024-07-15T15:43:43.912Z"
   },
   {
    "duration": 43,
    "start_time": "2024-07-15T15:43:47.399Z"
   },
   {
    "duration": 15,
    "start_time": "2024-07-15T15:44:33.969Z"
   },
   {
    "duration": 76,
    "start_time": "2024-07-15T15:47:01.286Z"
   },
   {
    "duration": 78,
    "start_time": "2024-07-15T15:47:40.884Z"
   },
   {
    "duration": 38,
    "start_time": "2024-07-15T15:47:54.933Z"
   },
   {
    "duration": 25,
    "start_time": "2024-07-15T15:53:07.830Z"
   },
   {
    "duration": 36,
    "start_time": "2024-07-15T15:53:13.921Z"
   },
   {
    "duration": 47,
    "start_time": "2024-07-15T15:53:22.110Z"
   },
   {
    "duration": 32,
    "start_time": "2024-07-15T15:53:25.234Z"
   },
   {
    "duration": 30,
    "start_time": "2024-07-15T15:53:30.329Z"
   },
   {
    "duration": 7,
    "start_time": "2024-07-15T15:56:12.101Z"
   },
   {
    "duration": 29,
    "start_time": "2024-07-15T15:56:14.999Z"
   },
   {
    "duration": 52,
    "start_time": "2024-07-15T15:56:24.983Z"
   },
   {
    "duration": 34,
    "start_time": "2024-07-15T16:05:42.184Z"
   },
   {
    "duration": 46,
    "start_time": "2024-07-15T16:05:51.510Z"
   },
   {
    "duration": 24,
    "start_time": "2024-07-15T16:06:27.334Z"
   },
   {
    "duration": 28,
    "start_time": "2024-07-15T16:06:29.936Z"
   },
   {
    "duration": 6043,
    "start_time": "2024-07-15T16:08:59.960Z"
   },
   {
    "duration": 113,
    "start_time": "2024-07-15T16:10:29.955Z"
   },
   {
    "duration": 3349,
    "start_time": "2024-07-15T16:10:37.720Z"
   },
   {
    "duration": 2308,
    "start_time": "2024-07-15T16:11:04.963Z"
   },
   {
    "duration": 4,
    "start_time": "2024-07-15T16:12:25.122Z"
   },
   {
    "duration": 314,
    "start_time": "2024-07-15T16:12:49.436Z"
   },
   {
    "duration": 703,
    "start_time": "2024-07-15T16:12:57.795Z"
   },
   {
    "duration": 1703,
    "start_time": "2024-07-15T16:12:58.502Z"
   },
   {
    "duration": 21,
    "start_time": "2024-07-15T16:13:00.212Z"
   },
   {
    "duration": 20,
    "start_time": "2024-07-15T16:13:00.238Z"
   },
   {
    "duration": 13,
    "start_time": "2024-07-15T16:13:00.263Z"
   },
   {
    "duration": 15,
    "start_time": "2024-07-15T16:13:00.313Z"
   },
   {
    "duration": 40,
    "start_time": "2024-07-15T16:13:00.331Z"
   },
   {
    "duration": 72,
    "start_time": "2024-07-15T16:13:00.373Z"
   },
   {
    "duration": 19,
    "start_time": "2024-07-15T16:13:00.448Z"
   },
   {
    "duration": 77,
    "start_time": "2024-07-15T16:13:00.473Z"
   },
   {
    "duration": 173,
    "start_time": "2024-07-15T16:13:00.553Z"
   },
   {
    "duration": 44,
    "start_time": "2024-07-15T16:13:00.729Z"
   },
   {
    "duration": 48,
    "start_time": "2024-07-15T16:13:00.776Z"
   },
   {
    "duration": 7,
    "start_time": "2024-07-15T16:13:00.827Z"
   },
   {
    "duration": 37,
    "start_time": "2024-07-15T16:13:00.837Z"
   },
   {
    "duration": 63,
    "start_time": "2024-07-15T16:13:00.877Z"
   },
   {
    "duration": 7,
    "start_time": "2024-07-15T16:13:00.943Z"
   },
   {
    "duration": 12,
    "start_time": "2024-07-15T16:13:00.954Z"
   },
   {
    "duration": 44,
    "start_time": "2024-07-15T16:13:00.968Z"
   },
   {
    "duration": 6,
    "start_time": "2024-07-15T16:13:01.016Z"
   },
   {
    "duration": 1396,
    "start_time": "2024-07-15T16:13:01.026Z"
   },
   {
    "duration": 1400,
    "start_time": "2024-07-15T16:13:02.428Z"
   },
   {
    "duration": 18,
    "start_time": "2024-07-15T16:13:03.831Z"
   },
   {
    "duration": 8,
    "start_time": "2024-07-15T16:13:03.852Z"
   },
   {
    "duration": 8,
    "start_time": "2024-07-15T16:13:03.863Z"
   },
   {
    "duration": 11,
    "start_time": "2024-07-15T16:13:03.911Z"
   },
   {
    "duration": 10,
    "start_time": "2024-07-15T16:13:03.924Z"
   },
   {
    "duration": 11,
    "start_time": "2024-07-15T16:13:03.941Z"
   },
   {
    "duration": 66,
    "start_time": "2024-07-15T16:13:03.954Z"
   },
   {
    "duration": 31,
    "start_time": "2024-07-15T16:13:04.023Z"
   },
   {
    "duration": 81,
    "start_time": "2024-07-15T16:13:04.057Z"
   },
   {
    "duration": 29,
    "start_time": "2024-07-15T16:13:04.141Z"
   },
   {
    "duration": 52,
    "start_time": "2024-07-15T16:13:04.173Z"
   },
   {
    "duration": 40,
    "start_time": "2024-07-15T16:13:04.229Z"
   },
   {
    "duration": 45,
    "start_time": "2024-07-15T16:13:04.271Z"
   },
   {
    "duration": 29,
    "start_time": "2024-07-15T16:13:04.319Z"
   },
   {
    "duration": 3912,
    "start_time": "2024-07-15T16:13:04.350Z"
   },
   {
    "duration": 2441,
    "start_time": "2024-07-15T16:14:10.760Z"
   },
   {
    "duration": 171,
    "start_time": "2024-07-15T16:23:22.652Z"
   },
   {
    "duration": 2297,
    "start_time": "2024-07-15T16:29:52.409Z"
   },
   {
    "duration": 755,
    "start_time": "2024-07-15T16:32:39.327Z"
   },
   {
    "duration": 84,
    "start_time": "2024-07-15T16:32:45.717Z"
   },
   {
    "duration": 16,
    "start_time": "2024-07-15T16:32:53.281Z"
   },
   {
    "duration": 12,
    "start_time": "2024-07-15T16:32:59.261Z"
   },
   {
    "duration": 15,
    "start_time": "2024-07-15T16:33:01.361Z"
   },
   {
    "duration": 15,
    "start_time": "2024-07-15T16:33:08.640Z"
   },
   {
    "duration": 197,
    "start_time": "2024-07-15T16:33:25.827Z"
   },
   {
    "duration": 199,
    "start_time": "2024-07-15T16:34:23.386Z"
   },
   {
    "duration": 209,
    "start_time": "2024-07-15T16:36:39.057Z"
   },
   {
    "duration": 30,
    "start_time": "2024-07-15T16:36:58.547Z"
   },
   {
    "duration": 30,
    "start_time": "2024-07-15T16:37:02.327Z"
   },
   {
    "duration": 336,
    "start_time": "2024-07-15T16:37:06.962Z"
   },
   {
    "duration": 337,
    "start_time": "2024-07-15T16:37:24.109Z"
   },
   {
    "duration": 327,
    "start_time": "2024-07-15T16:37:30.280Z"
   },
   {
    "duration": 359,
    "start_time": "2024-07-15T16:39:21.591Z"
   },
   {
    "duration": 221,
    "start_time": "2024-07-15T16:41:07.716Z"
   },
   {
    "duration": 358,
    "start_time": "2024-07-15T16:41:29.557Z"
   },
   {
    "duration": 347,
    "start_time": "2024-07-15T16:46:01.370Z"
   },
   {
    "duration": 10,
    "start_time": "2024-07-15T16:46:23.432Z"
   },
   {
    "duration": 13,
    "start_time": "2024-07-15T16:46:29.077Z"
   },
   {
    "duration": 125,
    "start_time": "2024-07-15T16:48:24.682Z"
   },
   {
    "duration": 469,
    "start_time": "2024-07-15T16:48:31.946Z"
   },
   {
    "duration": 553,
    "start_time": "2024-07-15T16:48:36.375Z"
   },
   {
    "duration": 427,
    "start_time": "2024-07-15T16:49:34.832Z"
   },
   {
    "duration": 1266,
    "start_time": "2024-07-15T16:52:52.155Z"
   },
   {
    "duration": 454,
    "start_time": "2024-07-15T16:52:57.599Z"
   },
   {
    "duration": 579,
    "start_time": "2024-07-15T16:53:42.246Z"
   },
   {
    "duration": 497,
    "start_time": "2024-07-15T16:53:55.582Z"
   },
   {
    "duration": 475,
    "start_time": "2024-07-15T16:54:06.945Z"
   },
   {
    "duration": 452,
    "start_time": "2024-07-15T16:54:12.353Z"
   },
   {
    "duration": 457,
    "start_time": "2024-07-15T16:54:17.125Z"
   },
   {
    "duration": 447,
    "start_time": "2024-07-15T16:54:26.896Z"
   },
   {
    "duration": 27,
    "start_time": "2024-07-15T17:00:32.313Z"
   },
   {
    "duration": 223,
    "start_time": "2024-07-15T17:00:44.634Z"
   },
   {
    "duration": 229,
    "start_time": "2024-07-15T17:00:59.606Z"
   },
   {
    "duration": 243,
    "start_time": "2024-07-15T17:06:33.309Z"
   },
   {
    "duration": 226,
    "start_time": "2024-07-15T17:08:12.236Z"
   },
   {
    "duration": 275,
    "start_time": "2024-07-15T17:08:29.012Z"
   },
   {
    "duration": 231,
    "start_time": "2024-07-15T17:09:47.506Z"
   },
   {
    "duration": 222,
    "start_time": "2024-07-15T17:10:12.057Z"
   },
   {
    "duration": 7,
    "start_time": "2024-07-15T17:14:36.355Z"
   },
   {
    "duration": 10,
    "start_time": "2024-07-15T17:14:54.081Z"
   },
   {
    "duration": 12,
    "start_time": "2024-07-15T17:15:02.030Z"
   },
   {
    "duration": 9,
    "start_time": "2024-07-15T17:15:05.346Z"
   },
   {
    "duration": 16,
    "start_time": "2024-07-15T17:26:14.437Z"
   },
   {
    "duration": 201,
    "start_time": "2024-07-15T17:28:46.196Z"
   },
   {
    "duration": 383,
    "start_time": "2024-07-15T17:29:16.937Z"
   },
   {
    "duration": 465,
    "start_time": "2024-07-15T17:31:26.377Z"
   },
   {
    "duration": 379,
    "start_time": "2024-07-15T17:31:53.765Z"
   },
   {
    "duration": 360,
    "start_time": "2024-07-15T19:39:27.984Z"
   },
   {
    "duration": 4362,
    "start_time": "2024-07-15T19:39:44.355Z"
   },
   {
    "duration": 1649,
    "start_time": "2024-07-15T19:39:48.720Z"
   },
   {
    "duration": 33,
    "start_time": "2024-07-15T19:39:50.373Z"
   },
   {
    "duration": 20,
    "start_time": "2024-07-15T19:39:50.410Z"
   },
   {
    "duration": 14,
    "start_time": "2024-07-15T19:39:50.437Z"
   },
   {
    "duration": 14,
    "start_time": "2024-07-15T19:39:50.454Z"
   },
   {
    "duration": 74,
    "start_time": "2024-07-15T19:39:50.471Z"
   },
   {
    "duration": 77,
    "start_time": "2024-07-15T19:39:50.548Z"
   },
   {
    "duration": 19,
    "start_time": "2024-07-15T19:39:50.628Z"
   },
   {
    "duration": 65,
    "start_time": "2024-07-15T19:39:50.650Z"
   },
   {
    "duration": 163,
    "start_time": "2024-07-15T19:39:50.718Z"
   },
   {
    "duration": 48,
    "start_time": "2024-07-15T19:39:50.884Z"
   },
   {
    "duration": 22,
    "start_time": "2024-07-15T19:39:50.935Z"
   },
   {
    "duration": 7,
    "start_time": "2024-07-15T19:39:50.964Z"
   },
   {
    "duration": 67,
    "start_time": "2024-07-15T19:39:50.973Z"
   },
   {
    "duration": 31,
    "start_time": "2024-07-15T19:39:51.042Z"
   },
   {
    "duration": 33,
    "start_time": "2024-07-15T19:39:51.076Z"
   },
   {
    "duration": 7,
    "start_time": "2024-07-15T19:39:51.112Z"
   },
   {
    "duration": 9,
    "start_time": "2024-07-15T19:39:51.122Z"
   },
   {
    "duration": 7,
    "start_time": "2024-07-15T19:39:51.134Z"
   },
   {
    "duration": 1374,
    "start_time": "2024-07-15T19:39:51.144Z"
   },
   {
    "duration": 1355,
    "start_time": "2024-07-15T19:39:52.521Z"
   },
   {
    "duration": 36,
    "start_time": "2024-07-15T19:39:53.878Z"
   },
   {
    "duration": 10,
    "start_time": "2024-07-15T19:39:53.917Z"
   },
   {
    "duration": 10,
    "start_time": "2024-07-15T19:39:53.930Z"
   },
   {
    "duration": 9,
    "start_time": "2024-07-15T19:39:53.943Z"
   },
   {
    "duration": 8,
    "start_time": "2024-07-15T19:39:53.955Z"
   },
   {
    "duration": 12,
    "start_time": "2024-07-15T19:39:54.007Z"
   },
   {
    "duration": 28,
    "start_time": "2024-07-15T19:39:54.022Z"
   },
   {
    "duration": 67,
    "start_time": "2024-07-15T19:39:54.053Z"
   },
   {
    "duration": 50,
    "start_time": "2024-07-15T19:39:54.123Z"
   },
   {
    "duration": 56,
    "start_time": "2024-07-15T19:39:54.175Z"
   },
   {
    "duration": 20,
    "start_time": "2024-07-15T19:39:54.234Z"
   },
   {
    "duration": 72,
    "start_time": "2024-07-15T19:39:54.256Z"
   },
   {
    "duration": 22,
    "start_time": "2024-07-15T19:39:54.331Z"
   },
   {
    "duration": 50,
    "start_time": "2024-07-15T19:39:54.356Z"
   },
   {
    "duration": 566,
    "start_time": "2024-07-15T19:39:54.409Z"
   },
   {
    "duration": 230,
    "start_time": "2024-07-15T19:39:54.978Z"
   },
   {
    "duration": 402,
    "start_time": "2024-07-15T19:39:55.212Z"
   },
   {
    "duration": 1260,
    "start_time": "2024-07-15T19:39:55.617Z"
   },
   {
    "duration": 3883,
    "start_time": "2024-07-15T19:40:10.550Z"
   },
   {
    "duration": 7,
    "start_time": "2024-07-15T19:43:22.868Z"
   },
   {
    "duration": 5,
    "start_time": "2024-07-15T19:43:41.433Z"
   },
   {
    "duration": 79,
    "start_time": "2024-07-15T19:43:55.378Z"
   },
   {
    "duration": 2384,
    "start_time": "2024-07-15T19:44:03.333Z"
   },
   {
    "duration": 18,
    "start_time": "2024-07-15T19:45:06.437Z"
   },
   {
    "duration": 16,
    "start_time": "2024-07-15T19:49:06.456Z"
   },
   {
    "duration": 14,
    "start_time": "2024-07-15T19:49:58.870Z"
   },
   {
    "duration": 7,
    "start_time": "2024-07-15T19:50:40.128Z"
   },
   {
    "duration": 23,
    "start_time": "2024-07-15T19:51:14.642Z"
   },
   {
    "duration": 24,
    "start_time": "2024-07-15T19:51:19.367Z"
   },
   {
    "duration": 6,
    "start_time": "2024-07-15T19:51:22.676Z"
   },
   {
    "duration": 24,
    "start_time": "2024-07-15T19:54:32.602Z"
   },
   {
    "duration": 331,
    "start_time": "2024-07-15T19:55:07.656Z"
   },
   {
    "duration": 681,
    "start_time": "2024-07-15T19:55:16.935Z"
   },
   {
    "duration": 1716,
    "start_time": "2024-07-15T19:55:17.620Z"
   },
   {
    "duration": 19,
    "start_time": "2024-07-15T19:55:19.338Z"
   },
   {
    "duration": 17,
    "start_time": "2024-07-15T19:55:19.360Z"
   },
   {
    "duration": 14,
    "start_time": "2024-07-15T19:55:19.408Z"
   },
   {
    "duration": 14,
    "start_time": "2024-07-15T19:55:19.425Z"
   },
   {
    "duration": 74,
    "start_time": "2024-07-15T19:55:19.441Z"
   },
   {
    "duration": 46,
    "start_time": "2024-07-15T19:55:19.518Z"
   },
   {
    "duration": 44,
    "start_time": "2024-07-15T19:55:19.567Z"
   },
   {
    "duration": 43,
    "start_time": "2024-07-15T19:55:19.613Z"
   },
   {
    "duration": 186,
    "start_time": "2024-07-15T19:55:19.658Z"
   },
   {
    "duration": 58,
    "start_time": "2024-07-15T19:55:19.848Z"
   },
   {
    "duration": 23,
    "start_time": "2024-07-15T19:55:19.910Z"
   },
   {
    "duration": 7,
    "start_time": "2024-07-15T19:55:19.940Z"
   },
   {
    "duration": 66,
    "start_time": "2024-07-15T19:55:19.950Z"
   },
   {
    "duration": 30,
    "start_time": "2024-07-15T19:55:20.019Z"
   },
   {
    "duration": 7,
    "start_time": "2024-07-15T19:55:20.052Z"
   },
   {
    "duration": 6,
    "start_time": "2024-07-15T19:55:20.063Z"
   },
   {
    "duration": 8,
    "start_time": "2024-07-15T19:55:20.107Z"
   },
   {
    "duration": 6,
    "start_time": "2024-07-15T19:55:20.118Z"
   },
   {
    "duration": 1368,
    "start_time": "2024-07-15T19:55:20.127Z"
   },
   {
    "duration": 1357,
    "start_time": "2024-07-15T19:55:21.498Z"
   },
   {
    "duration": 20,
    "start_time": "2024-07-15T19:55:22.857Z"
   },
   {
    "duration": 29,
    "start_time": "2024-07-15T19:55:22.880Z"
   },
   {
    "duration": 8,
    "start_time": "2024-07-15T19:55:22.913Z"
   },
   {
    "duration": 20,
    "start_time": "2024-07-15T19:55:22.924Z"
   },
   {
    "duration": 8,
    "start_time": "2024-07-15T19:55:22.947Z"
   },
   {
    "duration": 49,
    "start_time": "2024-07-15T19:55:22.958Z"
   },
   {
    "duration": 31,
    "start_time": "2024-07-15T19:55:23.010Z"
   },
   {
    "duration": 29,
    "start_time": "2024-07-15T19:55:23.044Z"
   },
   {
    "duration": 75,
    "start_time": "2024-07-15T19:55:23.075Z"
   },
   {
    "duration": 53,
    "start_time": "2024-07-15T19:55:23.153Z"
   },
   {
    "duration": 24,
    "start_time": "2024-07-15T19:55:23.210Z"
   },
   {
    "duration": 70,
    "start_time": "2024-07-15T19:55:23.236Z"
   },
   {
    "duration": 22,
    "start_time": "2024-07-15T19:55:23.309Z"
   },
   {
    "duration": 27,
    "start_time": "2024-07-15T19:55:23.336Z"
   },
   {
    "duration": 502,
    "start_time": "2024-07-15T19:55:23.365Z"
   },
   {
    "duration": 229,
    "start_time": "2024-07-15T19:55:23.870Z"
   },
   {
    "duration": 390,
    "start_time": "2024-07-15T19:55:24.106Z"
   },
   {
    "duration": 18,
    "start_time": "2024-07-15T19:55:24.499Z"
   },
   {
    "duration": 7,
    "start_time": "2024-07-15T19:55:24.526Z"
   },
   {
    "duration": 4044,
    "start_time": "2024-07-15T19:55:24.536Z"
   },
   {
    "duration": 181,
    "start_time": "2024-07-15T19:56:05.868Z"
   },
   {
    "duration": 22,
    "start_time": "2024-07-15T19:56:09.795Z"
   },
   {
    "duration": 172,
    "start_time": "2024-07-15T19:56:12.315Z"
   },
   {
    "duration": 178,
    "start_time": "2024-07-15T19:56:39.723Z"
   },
   {
    "duration": 171,
    "start_time": "2024-07-15T19:56:51.911Z"
   },
   {
    "duration": 18,
    "start_time": "2024-07-15T19:59:41.068Z"
   },
   {
    "duration": 187,
    "start_time": "2024-07-15T19:59:54.667Z"
   },
   {
    "duration": 22,
    "start_time": "2024-07-15T20:00:17.474Z"
   },
   {
    "duration": 196,
    "start_time": "2024-07-15T20:00:26.887Z"
   },
   {
    "duration": 190,
    "start_time": "2024-07-15T20:00:37.466Z"
   },
   {
    "duration": 17,
    "start_time": "2024-07-15T20:00:54.888Z"
   },
   {
    "duration": 233,
    "start_time": "2024-07-15T20:00:55.315Z"
   },
   {
    "duration": 234,
    "start_time": "2024-07-15T20:01:11.297Z"
   },
   {
    "duration": 701,
    "start_time": "2024-07-15T20:03:10.794Z"
   },
   {
    "duration": 1629,
    "start_time": "2024-07-15T20:03:11.500Z"
   },
   {
    "duration": 19,
    "start_time": "2024-07-15T20:03:13.132Z"
   },
   {
    "duration": 16,
    "start_time": "2024-07-15T20:03:13.155Z"
   },
   {
    "duration": 14,
    "start_time": "2024-07-15T20:03:13.205Z"
   },
   {
    "duration": 14,
    "start_time": "2024-07-15T20:03:13.222Z"
   },
   {
    "duration": 72,
    "start_time": "2024-07-15T20:03:13.239Z"
   },
   {
    "duration": 42,
    "start_time": "2024-07-15T20:03:13.315Z"
   },
   {
    "duration": 19,
    "start_time": "2024-07-15T20:03:13.360Z"
   },
   {
    "duration": 43,
    "start_time": "2024-07-15T20:03:13.406Z"
   },
   {
    "duration": 174,
    "start_time": "2024-07-15T20:03:13.452Z"
   },
   {
    "duration": 39,
    "start_time": "2024-07-15T20:03:13.629Z"
   },
   {
    "duration": 44,
    "start_time": "2024-07-15T20:03:13.671Z"
   },
   {
    "duration": 8,
    "start_time": "2024-07-15T20:03:13.722Z"
   },
   {
    "duration": 37,
    "start_time": "2024-07-15T20:03:13.733Z"
   },
   {
    "duration": 61,
    "start_time": "2024-07-15T20:03:13.773Z"
   },
   {
    "duration": 7,
    "start_time": "2024-07-15T20:03:13.837Z"
   },
   {
    "duration": 7,
    "start_time": "2024-07-15T20:03:13.846Z"
   },
   {
    "duration": 8,
    "start_time": "2024-07-15T20:03:13.856Z"
   },
   {
    "duration": 6,
    "start_time": "2024-07-15T20:03:13.908Z"
   },
   {
    "duration": 1383,
    "start_time": "2024-07-15T20:03:13.917Z"
   },
   {
    "duration": 1350,
    "start_time": "2024-07-15T20:03:15.306Z"
   },
   {
    "duration": 22,
    "start_time": "2024-07-15T20:03:16.659Z"
   },
   {
    "duration": 29,
    "start_time": "2024-07-15T20:03:16.684Z"
   },
   {
    "duration": 9,
    "start_time": "2024-07-15T20:03:16.716Z"
   },
   {
    "duration": 10,
    "start_time": "2024-07-15T20:03:16.728Z"
   },
   {
    "duration": 9,
    "start_time": "2024-07-15T20:03:16.741Z"
   },
   {
    "duration": 54,
    "start_time": "2024-07-15T20:03:16.753Z"
   },
   {
    "duration": 29,
    "start_time": "2024-07-15T20:03:16.810Z"
   },
   {
    "duration": 30,
    "start_time": "2024-07-15T20:03:16.842Z"
   },
   {
    "duration": 79,
    "start_time": "2024-07-15T20:03:16.875Z"
   },
   {
    "duration": 54,
    "start_time": "2024-07-15T20:03:16.957Z"
   },
   {
    "duration": 20,
    "start_time": "2024-07-15T20:03:17.014Z"
   },
   {
    "duration": 38,
    "start_time": "2024-07-15T20:03:17.037Z"
   },
   {
    "duration": 22,
    "start_time": "2024-07-15T20:03:17.107Z"
   },
   {
    "duration": 26,
    "start_time": "2024-07-15T20:03:17.132Z"
   },
   {
    "duration": 515,
    "start_time": "2024-07-15T20:03:17.161Z"
   },
   {
    "duration": 237,
    "start_time": "2024-07-15T20:03:17.680Z"
   },
   {
    "duration": 386,
    "start_time": "2024-07-15T20:03:17.924Z"
   },
   {
    "duration": 15,
    "start_time": "2024-07-15T20:03:18.314Z"
   },
   {
    "duration": 314,
    "start_time": "2024-07-15T20:06:03.720Z"
   },
   {
    "duration": 22,
    "start_time": "2024-07-15T20:06:09.433Z"
   },
   {
    "duration": 21,
    "start_time": "2024-07-15T20:06:10.650Z"
   },
   {
    "duration": 676,
    "start_time": "2024-07-15T20:06:25.775Z"
   },
   {
    "duration": 1723,
    "start_time": "2024-07-15T20:06:26.455Z"
   },
   {
    "duration": 31,
    "start_time": "2024-07-15T20:06:28.180Z"
   },
   {
    "duration": 17,
    "start_time": "2024-07-15T20:06:28.215Z"
   },
   {
    "duration": 13,
    "start_time": "2024-07-15T20:06:28.236Z"
   },
   {
    "duration": 54,
    "start_time": "2024-07-15T20:06:28.252Z"
   },
   {
    "duration": 47,
    "start_time": "2024-07-15T20:06:28.308Z"
   },
   {
    "duration": 74,
    "start_time": "2024-07-15T20:06:28.360Z"
   },
   {
    "duration": 19,
    "start_time": "2024-07-15T20:06:28.437Z"
   },
   {
    "duration": 68,
    "start_time": "2024-07-15T20:06:28.459Z"
   },
   {
    "duration": 164,
    "start_time": "2024-07-15T20:06:28.531Z"
   },
   {
    "duration": 48,
    "start_time": "2024-07-15T20:06:28.699Z"
   },
   {
    "duration": 23,
    "start_time": "2024-07-15T20:06:28.750Z"
   },
   {
    "duration": 31,
    "start_time": "2024-07-15T20:06:28.780Z"
   },
   {
    "duration": 41,
    "start_time": "2024-07-15T20:06:28.816Z"
   },
   {
    "duration": 62,
    "start_time": "2024-07-15T20:06:28.860Z"
   },
   {
    "duration": 10,
    "start_time": "2024-07-15T20:06:28.925Z"
   },
   {
    "duration": 8,
    "start_time": "2024-07-15T20:06:28.939Z"
   },
   {
    "duration": 7,
    "start_time": "2024-07-15T20:06:28.950Z"
   },
   {
    "duration": 7,
    "start_time": "2024-07-15T20:06:28.960Z"
   },
   {
    "duration": 1328,
    "start_time": "2024-07-15T20:06:29.008Z"
   },
   {
    "duration": 1346,
    "start_time": "2024-07-15T20:06:30.339Z"
   },
   {
    "duration": 33,
    "start_time": "2024-07-15T20:06:31.688Z"
   },
   {
    "duration": 10,
    "start_time": "2024-07-15T20:06:31.724Z"
   },
   {
    "duration": 10,
    "start_time": "2024-07-15T20:06:31.739Z"
   },
   {
    "duration": 12,
    "start_time": "2024-07-15T20:06:31.752Z"
   },
   {
    "duration": 10,
    "start_time": "2024-07-15T20:06:31.807Z"
   },
   {
    "duration": 11,
    "start_time": "2024-07-15T20:06:31.820Z"
   },
   {
    "duration": 27,
    "start_time": "2024-07-15T20:06:31.834Z"
   },
   {
    "duration": 66,
    "start_time": "2024-07-15T20:06:31.864Z"
   },
   {
    "duration": 49,
    "start_time": "2024-07-15T20:06:31.933Z"
   },
   {
    "duration": 28,
    "start_time": "2024-07-15T20:06:32.007Z"
   },
   {
    "duration": 19,
    "start_time": "2024-07-15T20:06:32.038Z"
   },
   {
    "duration": 76,
    "start_time": "2024-07-15T20:06:32.059Z"
   },
   {
    "duration": 21,
    "start_time": "2024-07-15T20:06:32.138Z"
   },
   {
    "duration": 45,
    "start_time": "2024-07-15T20:06:32.162Z"
   },
   {
    "duration": 485,
    "start_time": "2024-07-15T20:06:32.209Z"
   },
   {
    "duration": 269,
    "start_time": "2024-07-15T20:06:32.697Z"
   },
   {
    "duration": 389,
    "start_time": "2024-07-15T20:06:32.969Z"
   },
   {
    "duration": 15,
    "start_time": "2024-07-15T20:06:33.361Z"
   },
   {
    "duration": 14,
    "start_time": "2024-07-15T20:08:09.708Z"
   },
   {
    "duration": 1183,
    "start_time": "2024-07-15T20:10:46.391Z"
   },
   {
    "duration": 741,
    "start_time": "2024-07-15T20:10:58.153Z"
   },
   {
    "duration": 2789,
    "start_time": "2024-07-15T20:22:06.517Z"
   },
   {
    "duration": 260,
    "start_time": "2024-07-15T20:22:57.071Z"
   },
   {
    "duration": 17,
    "start_time": "2024-07-15T20:27:20.642Z"
   },
   {
    "duration": 15,
    "start_time": "2024-07-15T20:27:33.815Z"
   },
   {
    "duration": 35,
    "start_time": "2024-07-15T20:27:45.128Z"
   },
   {
    "duration": 17,
    "start_time": "2024-07-15T20:27:52.683Z"
   },
   {
    "duration": 35,
    "start_time": "2024-07-15T20:27:57.957Z"
   },
   {
    "duration": 20,
    "start_time": "2024-07-15T20:28:03.187Z"
   },
   {
    "duration": 20,
    "start_time": "2024-07-15T20:28:27.384Z"
   },
   {
    "duration": 87,
    "start_time": "2024-07-15T20:29:45.165Z"
   },
   {
    "duration": 36,
    "start_time": "2024-07-15T20:29:52.481Z"
   },
   {
    "duration": 31,
    "start_time": "2024-07-15T20:30:10.661Z"
   },
   {
    "duration": 33,
    "start_time": "2024-07-15T20:30:12.276Z"
   },
   {
    "duration": 22,
    "start_time": "2024-07-15T20:31:17.916Z"
   },
   {
    "duration": 19,
    "start_time": "2024-07-15T20:31:29.117Z"
   },
   {
    "duration": 182,
    "start_time": "2024-07-15T20:33:29.158Z"
   },
   {
    "duration": 303,
    "start_time": "2024-07-15T20:33:38.774Z"
   },
   {
    "duration": 365,
    "start_time": "2024-07-15T20:34:07.531Z"
   },
   {
    "duration": 376,
    "start_time": "2024-07-15T20:34:24.622Z"
   },
   {
    "duration": 366,
    "start_time": "2024-07-15T20:35:48.466Z"
   },
   {
    "duration": 9,
    "start_time": "2024-07-15T20:35:53.656Z"
   },
   {
    "duration": 507,
    "start_time": "2024-07-15T20:36:02.837Z"
   },
   {
    "duration": 551,
    "start_time": "2024-07-15T20:41:56.441Z"
   },
   {
    "duration": 294,
    "start_time": "2024-07-15T20:42:23.462Z"
   },
   {
    "duration": 597,
    "start_time": "2024-07-15T20:42:27.555Z"
   },
   {
    "duration": 512,
    "start_time": "2024-07-15T20:45:02.666Z"
   },
   {
    "duration": 701,
    "start_time": "2024-07-15T20:45:29.483Z"
   },
   {
    "duration": 622,
    "start_time": "2024-07-15T20:49:01.055Z"
   },
   {
    "duration": 369,
    "start_time": "2024-07-15T20:49:05.279Z"
   },
   {
    "duration": 363,
    "start_time": "2024-07-15T20:49:33.610Z"
   },
   {
    "duration": 406,
    "start_time": "2024-07-15T20:50:18.703Z"
   },
   {
    "duration": 480,
    "start_time": "2024-07-15T20:50:40.298Z"
   },
   {
    "duration": 362,
    "start_time": "2024-07-15T20:51:00.596Z"
   },
   {
    "duration": 367,
    "start_time": "2024-07-15T20:51:15.570Z"
   },
   {
    "duration": 435,
    "start_time": "2024-07-15T20:51:25.531Z"
   },
   {
    "duration": 386,
    "start_time": "2024-07-15T20:52:00.520Z"
   },
   {
    "duration": 350,
    "start_time": "2024-07-15T20:52:11.318Z"
   },
   {
    "duration": 374,
    "start_time": "2024-07-15T20:52:24.286Z"
   },
   {
    "duration": 363,
    "start_time": "2024-07-15T20:52:28.217Z"
   },
   {
    "duration": 361,
    "start_time": "2024-07-15T20:52:42.504Z"
   },
   {
    "duration": 518,
    "start_time": "2024-07-15T20:53:17.666Z"
   },
   {
    "duration": 418,
    "start_time": "2024-07-15T20:53:52.586Z"
   },
   {
    "duration": 435,
    "start_time": "2024-07-15T20:54:24.934Z"
   },
   {
    "duration": 312,
    "start_time": "2024-07-16T00:48:51.060Z"
   },
   {
    "duration": 27,
    "start_time": "2024-07-16T00:49:02.223Z"
   },
   {
    "duration": 4435,
    "start_time": "2024-07-16T00:49:09.887Z"
   },
   {
    "duration": 1740,
    "start_time": "2024-07-16T00:49:14.326Z"
   },
   {
    "duration": 39,
    "start_time": "2024-07-16T00:49:16.069Z"
   },
   {
    "duration": 21,
    "start_time": "2024-07-16T00:49:16.116Z"
   },
   {
    "duration": 17,
    "start_time": "2024-07-16T00:49:16.141Z"
   },
   {
    "duration": 59,
    "start_time": "2024-07-16T00:49:16.163Z"
   },
   {
    "duration": 46,
    "start_time": "2024-07-16T00:49:16.225Z"
   },
   {
    "duration": 78,
    "start_time": "2024-07-16T00:49:16.274Z"
   },
   {
    "duration": 45,
    "start_time": "2024-07-16T00:49:16.356Z"
   },
   {
    "duration": 52,
    "start_time": "2024-07-16T00:49:16.408Z"
   },
   {
    "duration": 209,
    "start_time": "2024-07-16T00:49:16.463Z"
   },
   {
    "duration": 68,
    "start_time": "2024-07-16T00:49:16.675Z"
   },
   {
    "duration": 26,
    "start_time": "2024-07-16T00:49:16.748Z"
   },
   {
    "duration": 28,
    "start_time": "2024-07-16T00:49:16.777Z"
   },
   {
    "duration": 43,
    "start_time": "2024-07-16T00:49:16.808Z"
   },
   {
    "duration": 69,
    "start_time": "2024-07-16T00:49:16.855Z"
   },
   {
    "duration": 7,
    "start_time": "2024-07-16T00:49:16.927Z"
   },
   {
    "duration": 7,
    "start_time": "2024-07-16T00:49:16.938Z"
   },
   {
    "duration": 8,
    "start_time": "2024-07-16T00:49:16.949Z"
   },
   {
    "duration": 9,
    "start_time": "2024-07-16T00:49:17.001Z"
   },
   {
    "duration": 1429,
    "start_time": "2024-07-16T00:49:17.016Z"
   },
   {
    "duration": 1533,
    "start_time": "2024-07-16T00:49:18.449Z"
   },
   {
    "duration": 24,
    "start_time": "2024-07-16T00:49:19.985Z"
   },
   {
    "duration": 8,
    "start_time": "2024-07-16T00:49:20.013Z"
   },
   {
    "duration": 10,
    "start_time": "2024-07-16T00:49:20.024Z"
   },
   {
    "duration": 9,
    "start_time": "2024-07-16T00:49:20.037Z"
   },
   {
    "duration": 52,
    "start_time": "2024-07-16T00:49:20.050Z"
   },
   {
    "duration": 11,
    "start_time": "2024-07-16T00:49:20.110Z"
   },
   {
    "duration": 27,
    "start_time": "2024-07-16T00:49:20.124Z"
   },
   {
    "duration": 71,
    "start_time": "2024-07-16T00:49:20.153Z"
   },
   {
    "duration": 51,
    "start_time": "2024-07-16T00:49:20.227Z"
   },
   {
    "duration": 29,
    "start_time": "2024-07-16T00:49:20.301Z"
   },
   {
    "duration": 21,
    "start_time": "2024-07-16T00:49:20.333Z"
   },
   {
    "duration": 74,
    "start_time": "2024-07-16T00:49:20.357Z"
   },
   {
    "duration": 22,
    "start_time": "2024-07-16T00:49:20.434Z"
   },
   {
    "duration": 54,
    "start_time": "2024-07-16T00:49:20.459Z"
   },
   {
    "duration": 531,
    "start_time": "2024-07-16T00:49:20.516Z"
   },
   {
    "duration": 248,
    "start_time": "2024-07-16T00:49:21.050Z"
   },
   {
    "duration": 394,
    "start_time": "2024-07-16T00:49:21.303Z"
   },
   {
    "duration": 526,
    "start_time": "2024-07-16T00:49:21.702Z"
   },
   {
    "duration": 19,
    "start_time": "2024-07-16T00:49:22.230Z"
   },
   {
    "duration": 1216,
    "start_time": "2024-07-16T00:50:38.112Z"
   },
   {
    "duration": 260,
    "start_time": "2024-07-16T00:50:46.963Z"
   },
   {
    "duration": 14,
    "start_time": "2024-07-16T00:51:01.530Z"
   },
   {
    "duration": 28,
    "start_time": "2024-07-16T00:52:14.626Z"
   },
   {
    "duration": 79,
    "start_time": "2024-07-16T00:52:22.872Z"
   },
   {
    "duration": 79,
    "start_time": "2024-07-16T00:52:28.494Z"
   },
   {
    "duration": 76,
    "start_time": "2024-07-16T00:52:36.067Z"
   },
   {
    "duration": 499,
    "start_time": "2024-07-16T00:53:29.752Z"
   },
   {
    "duration": 254,
    "start_time": "2024-07-16T00:55:04.301Z"
   },
   {
    "duration": 71,
    "start_time": "2024-07-16T00:55:17.518Z"
   },
   {
    "duration": 239,
    "start_time": "2024-07-16T00:55:35.922Z"
   },
   {
    "duration": 234,
    "start_time": "2024-07-16T00:56:26.668Z"
   },
   {
    "duration": 9,
    "start_time": "2024-07-16T00:59:05.479Z"
   },
   {
    "duration": 246,
    "start_time": "2024-07-16T00:59:07.710Z"
   },
   {
    "duration": 504,
    "start_time": "2024-07-16T00:59:17.414Z"
   },
   {
    "duration": 245,
    "start_time": "2024-07-16T00:59:35.657Z"
   },
   {
    "duration": 473,
    "start_time": "2024-07-16T00:59:39.971Z"
   },
   {
    "duration": 552,
    "start_time": "2024-07-16T01:01:47.064Z"
   },
   {
    "duration": 568,
    "start_time": "2024-07-16T01:03:00.494Z"
   },
   {
    "duration": 349,
    "start_time": "2024-07-16T01:03:49.938Z"
   },
   {
    "duration": 351,
    "start_time": "2024-07-16T01:06:09.118Z"
   },
   {
    "duration": 297,
    "start_time": "2024-07-16T01:07:44.144Z"
   },
   {
    "duration": 304,
    "start_time": "2024-07-16T01:08:06.782Z"
   },
   {
    "duration": 328,
    "start_time": "2024-07-16T01:08:49.573Z"
   },
   {
    "duration": 310,
    "start_time": "2024-07-16T01:09:14.427Z"
   },
   {
    "duration": 369,
    "start_time": "2024-07-16T01:09:49.655Z"
   },
   {
    "duration": 373,
    "start_time": "2024-07-16T01:09:57.601Z"
   },
   {
    "duration": 402,
    "start_time": "2024-07-16T01:10:01.945Z"
   },
   {
    "duration": 385,
    "start_time": "2024-07-16T01:11:43.563Z"
   },
   {
    "duration": 486,
    "start_time": "2024-07-16T01:12:13.986Z"
   },
   {
    "duration": 17,
    "start_time": "2024-07-16T01:15:12.323Z"
   },
   {
    "duration": 26,
    "start_time": "2024-07-16T01:15:32.996Z"
   },
   {
    "duration": 32,
    "start_time": "2024-07-16T01:15:38.580Z"
   },
   {
    "duration": 28,
    "start_time": "2024-07-16T01:17:51.669Z"
   },
   {
    "duration": 75,
    "start_time": "2024-07-16T01:17:57.601Z"
   },
   {
    "duration": 108,
    "start_time": "2024-07-16T01:18:07.113Z"
   },
   {
    "duration": 79,
    "start_time": "2024-07-16T01:18:34.528Z"
   },
   {
    "duration": 83,
    "start_time": "2024-07-16T01:18:49.912Z"
   },
   {
    "duration": 104,
    "start_time": "2024-07-16T01:18:54.204Z"
   },
   {
    "duration": 77,
    "start_time": "2024-07-16T01:19:17.318Z"
   },
   {
    "duration": 77,
    "start_time": "2024-07-16T01:19:23.536Z"
   },
   {
    "duration": 82,
    "start_time": "2024-07-16T01:19:32.016Z"
   },
   {
    "duration": 85,
    "start_time": "2024-07-16T01:19:51.365Z"
   },
   {
    "duration": 92,
    "start_time": "2024-07-16T01:19:55.583Z"
   },
   {
    "duration": 82,
    "start_time": "2024-07-16T01:49:13.514Z"
   },
   {
    "duration": 86,
    "start_time": "2024-07-16T01:50:00.145Z"
   },
   {
    "duration": 93,
    "start_time": "2024-07-16T01:50:12.320Z"
   },
   {
    "duration": 102,
    "start_time": "2024-07-16T01:50:17.664Z"
   },
   {
    "duration": 5440,
    "start_time": "2024-07-16T01:50:23.909Z"
   },
   {
    "duration": 98,
    "start_time": "2024-07-16T01:50:31.205Z"
   },
   {
    "duration": 118,
    "start_time": "2024-07-16T01:50:39.725Z"
   },
   {
    "duration": 96,
    "start_time": "2024-07-16T01:51:20.945Z"
   },
   {
    "duration": 24,
    "start_time": "2024-07-16T02:01:53.396Z"
   },
   {
    "duration": 6,
    "start_time": "2024-07-16T02:01:56.221Z"
   },
   {
    "duration": 24,
    "start_time": "2024-07-16T02:02:10.904Z"
   },
   {
    "duration": 6,
    "start_time": "2024-07-16T02:02:43.620Z"
   },
   {
    "duration": 500,
    "start_time": "2024-07-16T02:14:16.327Z"
   },
   {
    "duration": 569,
    "start_time": "2024-07-16T02:14:21.345Z"
   },
   {
    "duration": 557,
    "start_time": "2024-07-16T02:14:25.720Z"
   },
   {
    "duration": 518,
    "start_time": "2024-07-16T02:14:37.236Z"
   },
   {
    "duration": 135,
    "start_time": "2024-07-16T02:23:31.830Z"
   },
   {
    "duration": 152,
    "start_time": "2024-07-16T02:23:55.846Z"
   },
   {
    "duration": 145,
    "start_time": "2024-07-16T02:24:18.069Z"
   },
   {
    "duration": 158,
    "start_time": "2024-07-16T02:24:26.241Z"
   },
   {
    "duration": 159,
    "start_time": "2024-07-16T02:30:56.294Z"
   },
   {
    "duration": 134,
    "start_time": "2024-07-16T02:31:00.576Z"
   },
   {
    "duration": 154,
    "start_time": "2024-07-16T02:33:23.189Z"
   },
   {
    "duration": 1207,
    "start_time": "2024-07-16T02:34:06.884Z"
   },
   {
    "duration": 1368,
    "start_time": "2024-07-16T02:34:16.254Z"
   },
   {
    "duration": 1402,
    "start_time": "2024-07-16T02:35:09.418Z"
   },
   {
    "duration": 2150,
    "start_time": "2024-07-16T02:37:54.167Z"
   },
   {
    "duration": 2107,
    "start_time": "2024-07-16T02:38:04.486Z"
   },
   {
    "duration": 1920,
    "start_time": "2024-07-16T02:38:18.456Z"
   },
   {
    "duration": 13,
    "start_time": "2024-07-16T02:43:27.376Z"
   },
   {
    "duration": 9,
    "start_time": "2024-07-16T02:43:37.760Z"
   },
   {
    "duration": 10,
    "start_time": "2024-07-16T02:46:52.691Z"
   },
   {
    "duration": 25,
    "start_time": "2024-07-16T02:47:11.642Z"
   },
   {
    "duration": 30,
    "start_time": "2024-07-16T02:48:33.470Z"
   },
   {
    "duration": 9,
    "start_time": "2024-07-16T02:48:45.028Z"
   },
   {
    "duration": 28,
    "start_time": "2024-07-16T02:48:57.135Z"
   },
   {
    "duration": 103,
    "start_time": "2024-07-16T03:01:15.893Z"
   },
   {
    "duration": 19,
    "start_time": "2024-07-16T03:01:27.475Z"
   },
   {
    "duration": 28,
    "start_time": "2024-07-16T03:01:33.351Z"
   },
   {
    "duration": 31,
    "start_time": "2024-07-16T03:01:35.347Z"
   },
   {
    "duration": 9,
    "start_time": "2024-07-16T03:01:44.625Z"
   },
   {
    "duration": 646,
    "start_time": "2024-07-16T03:03:14.158Z"
   },
   {
    "duration": 1650,
    "start_time": "2024-07-16T03:03:14.808Z"
   },
   {
    "duration": 21,
    "start_time": "2024-07-16T03:03:16.461Z"
   },
   {
    "duration": 21,
    "start_time": "2024-07-16T03:03:16.502Z"
   },
   {
    "duration": 15,
    "start_time": "2024-07-16T03:03:16.528Z"
   },
   {
    "duration": 56,
    "start_time": "2024-07-16T03:03:16.546Z"
   },
   {
    "duration": 62,
    "start_time": "2024-07-16T03:03:16.607Z"
   },
   {
    "duration": 89,
    "start_time": "2024-07-16T03:03:16.673Z"
   },
   {
    "duration": 42,
    "start_time": "2024-07-16T03:03:16.765Z"
   },
   {
    "duration": 52,
    "start_time": "2024-07-16T03:03:16.811Z"
   },
   {
    "duration": 202,
    "start_time": "2024-07-16T03:03:16.866Z"
   },
   {
    "duration": 71,
    "start_time": "2024-07-16T03:03:17.071Z"
   },
   {
    "duration": 29,
    "start_time": "2024-07-16T03:03:17.145Z"
   },
   {
    "duration": 8,
    "start_time": "2024-07-16T03:03:17.203Z"
   },
   {
    "duration": 50,
    "start_time": "2024-07-16T03:03:17.214Z"
   },
   {
    "duration": 58,
    "start_time": "2024-07-16T03:03:17.267Z"
   },
   {
    "duration": 8,
    "start_time": "2024-07-16T03:03:17.328Z"
   },
   {
    "duration": 7,
    "start_time": "2024-07-16T03:03:17.339Z"
   },
   {
    "duration": 8,
    "start_time": "2024-07-16T03:03:17.349Z"
   },
   {
    "duration": 8,
    "start_time": "2024-07-16T03:03:17.403Z"
   },
   {
    "duration": 1458,
    "start_time": "2024-07-16T03:03:17.415Z"
   },
   {
    "duration": 1507,
    "start_time": "2024-07-16T03:03:18.877Z"
   },
   {
    "duration": 30,
    "start_time": "2024-07-16T03:03:20.387Z"
   },
   {
    "duration": 9,
    "start_time": "2024-07-16T03:03:20.421Z"
   },
   {
    "duration": 9,
    "start_time": "2024-07-16T03:03:20.433Z"
   },
   {
    "duration": 10,
    "start_time": "2024-07-16T03:03:20.445Z"
   },
   {
    "duration": 51,
    "start_time": "2024-07-16T03:03:20.458Z"
   },
   {
    "duration": 11,
    "start_time": "2024-07-16T03:03:20.512Z"
   },
   {
    "duration": 32,
    "start_time": "2024-07-16T03:03:20.527Z"
   },
   {
    "duration": 37,
    "start_time": "2024-07-16T03:03:20.601Z"
   },
   {
    "duration": 80,
    "start_time": "2024-07-16T03:03:20.642Z"
   },
   {
    "duration": 29,
    "start_time": "2024-07-16T03:03:20.725Z"
   },
   {
    "duration": 675,
    "start_time": "2024-07-16T03:03:20.757Z"
   },
   {
    "duration": 43,
    "start_time": "2024-07-16T03:03:21.435Z"
   },
   {
    "duration": 39,
    "start_time": "2024-07-16T03:03:21.482Z"
   },
   {
    "duration": 28,
    "start_time": "2024-07-16T03:03:21.524Z"
   },
   {
    "duration": 560,
    "start_time": "2024-07-16T03:03:21.555Z"
   },
   {
    "duration": 250,
    "start_time": "2024-07-16T03:03:22.119Z"
   },
   {
    "duration": 396,
    "start_time": "2024-07-16T03:03:22.372Z"
   },
   {
    "duration": 460,
    "start_time": "2024-07-16T03:03:22.771Z"
   },
   {
    "duration": 346,
    "start_time": "2024-07-16T03:03:23.240Z"
   },
   {
    "duration": 1971,
    "start_time": "2024-07-16T03:03:23.589Z"
   },
   {
    "duration": 749,
    "start_time": "2024-07-16T03:06:16.970Z"
   },
   {
    "duration": 1068,
    "start_time": "2024-07-16T03:08:54.361Z"
   },
   {
    "duration": 692,
    "start_time": "2024-07-16T03:09:07.649Z"
   },
   {
    "duration": 670,
    "start_time": "2024-07-16T03:09:24.266Z"
   },
   {
    "duration": 689,
    "start_time": "2024-07-16T03:09:36.554Z"
   },
   {
    "duration": 643,
    "start_time": "2024-07-16T03:09:50.544Z"
   },
   {
    "duration": 688,
    "start_time": "2024-07-16T03:09:55.539Z"
   },
   {
    "duration": 4466,
    "start_time": "2024-07-16T03:55:12.506Z"
   },
   {
    "duration": 1738,
    "start_time": "2024-07-16T03:55:21.179Z"
   },
   {
    "duration": 25,
    "start_time": "2024-07-16T03:55:22.920Z"
   },
   {
    "duration": 16,
    "start_time": "2024-07-16T03:55:27.201Z"
   },
   {
    "duration": 15,
    "start_time": "2024-07-16T03:55:29.175Z"
   },
   {
    "duration": 13,
    "start_time": "2024-07-16T03:55:29.881Z"
   },
   {
    "duration": 52,
    "start_time": "2024-07-16T03:58:00.833Z"
   },
   {
    "duration": 24,
    "start_time": "2024-07-16T03:58:18.206Z"
   },
   {
    "duration": 49,
    "start_time": "2024-07-16T03:58:30.481Z"
   },
   {
    "duration": 168,
    "start_time": "2024-07-16T03:58:32.691Z"
   },
   {
    "duration": 49,
    "start_time": "2024-07-16T03:58:37.493Z"
   },
   {
    "duration": 53,
    "start_time": "2024-07-16T03:58:41.276Z"
   },
   {
    "duration": 174,
    "start_time": "2024-07-16T03:58:42.293Z"
   },
   {
    "duration": 48,
    "start_time": "2024-07-16T03:58:43.197Z"
   },
   {
    "duration": 53,
    "start_time": "2024-07-16T03:59:06.522Z"
   },
   {
    "duration": 195,
    "start_time": "2024-07-16T03:59:07.290Z"
   },
   {
    "duration": 47,
    "start_time": "2024-07-16T03:59:08.062Z"
   },
   {
    "duration": 40,
    "start_time": "2024-07-16T03:59:44.468Z"
   },
   {
    "duration": 47,
    "start_time": "2024-07-16T03:59:49.163Z"
   },
   {
    "duration": 16,
    "start_time": "2024-07-16T03:59:50.284Z"
   },
   {
    "duration": 47,
    "start_time": "2024-07-16T03:59:51.271Z"
   },
   {
    "duration": 168,
    "start_time": "2024-07-16T03:59:51.683Z"
   },
   {
    "duration": 49,
    "start_time": "2024-07-16T03:59:52.347Z"
   },
   {
    "duration": 178,
    "start_time": "2024-07-16T04:00:15.681Z"
   },
   {
    "duration": 168,
    "start_time": "2024-07-16T04:00:16.082Z"
   },
   {
    "duration": 47,
    "start_time": "2024-07-16T04:00:16.841Z"
   },
   {
    "duration": 24,
    "start_time": "2024-07-16T04:00:41.501Z"
   },
   {
    "duration": 7,
    "start_time": "2024-07-16T04:00:44.893Z"
   },
   {
    "duration": 37,
    "start_time": "2024-07-16T04:00:48.224Z"
   },
   {
    "duration": 38,
    "start_time": "2024-07-16T04:02:23.091Z"
   },
   {
    "duration": 8,
    "start_time": "2024-07-16T04:05:45.730Z"
   },
   {
    "duration": 6,
    "start_time": "2024-07-16T04:05:50.717Z"
   },
   {
    "duration": 7,
    "start_time": "2024-07-16T04:06:17.558Z"
   },
   {
    "duration": 8,
    "start_time": "2024-07-16T04:06:20.720Z"
   },
   {
    "duration": 1352,
    "start_time": "2024-07-16T04:06:29.238Z"
   },
   {
    "duration": 1357,
    "start_time": "2024-07-16T04:06:33.827Z"
   },
   {
    "duration": 25,
    "start_time": "2024-07-16T04:07:34.925Z"
   },
   {
    "duration": 8,
    "start_time": "2024-07-16T04:08:08.544Z"
   },
   {
    "duration": 8,
    "start_time": "2024-07-16T04:08:17.598Z"
   },
   {
    "duration": 15,
    "start_time": "2024-07-16T04:08:29.222Z"
   },
   {
    "duration": 7,
    "start_time": "2024-07-16T04:08:47.186Z"
   },
   {
    "duration": 15,
    "start_time": "2024-07-16T04:09:25.458Z"
   },
   {
    "duration": 9,
    "start_time": "2024-07-16T04:09:30.921Z"
   },
   {
    "duration": 19,
    "start_time": "2024-07-16T04:10:04.586Z"
   },
   {
    "duration": 27,
    "start_time": "2024-07-16T04:14:38.485Z"
   },
   {
    "duration": 431,
    "start_time": "2024-07-16T04:15:03.173Z"
   },
   {
    "duration": 45,
    "start_time": "2024-07-16T04:15:13.716Z"
   },
   {
    "duration": 51,
    "start_time": "2024-07-16T04:15:23.005Z"
   },
   {
    "duration": 34,
    "start_time": "2024-07-16T04:15:28.682Z"
   },
   {
    "duration": 27,
    "start_time": "2024-07-16T04:15:44.618Z"
   },
   {
    "duration": 24,
    "start_time": "2024-07-16T04:18:32.310Z"
   },
   {
    "duration": 26,
    "start_time": "2024-07-16T04:19:00.358Z"
   },
   {
    "duration": 28,
    "start_time": "2024-07-16T04:20:13.723Z"
   },
   {
    "duration": 36,
    "start_time": "2024-07-16T04:20:40.264Z"
   },
   {
    "duration": 36,
    "start_time": "2024-07-16T04:20:55.572Z"
   },
   {
    "duration": 26,
    "start_time": "2024-07-16T04:21:15.122Z"
   },
   {
    "duration": 25,
    "start_time": "2024-07-16T04:21:31.203Z"
   },
   {
    "duration": 28,
    "start_time": "2024-07-16T04:22:27.956Z"
   },
   {
    "duration": 50,
    "start_time": "2024-07-16T04:22:31.522Z"
   },
   {
    "duration": 18,
    "start_time": "2024-07-16T04:27:03.132Z"
   },
   {
    "duration": 36,
    "start_time": "2024-07-16T04:46:59.398Z"
   },
   {
    "duration": 43,
    "start_time": "2024-07-16T04:47:22.775Z"
   },
   {
    "duration": 40,
    "start_time": "2024-07-16T04:48:33.998Z"
   },
   {
    "duration": 38,
    "start_time": "2024-07-16T04:57:11.018Z"
   },
   {
    "duration": 47,
    "start_time": "2024-07-16T04:57:27.867Z"
   },
   {
    "duration": 55,
    "start_time": "2024-07-16T05:00:05.629Z"
   },
   {
    "duration": 47,
    "start_time": "2024-07-16T05:00:23.397Z"
   },
   {
    "duration": 69,
    "start_time": "2024-07-16T05:01:30.684Z"
   },
   {
    "duration": 38,
    "start_time": "2024-07-16T05:01:35.590Z"
   },
   {
    "duration": 43,
    "start_time": "2024-07-16T05:01:44.412Z"
   },
   {
    "duration": 21,
    "start_time": "2024-07-16T05:01:56.941Z"
   },
   {
    "duration": 43,
    "start_time": "2024-07-16T05:01:59.534Z"
   },
   {
    "duration": 50,
    "start_time": "2024-07-16T05:02:12.125Z"
   },
   {
    "duration": 68,
    "start_time": "2024-07-16T05:02:27.970Z"
   },
   {
    "duration": 44,
    "start_time": "2024-07-16T05:02:46.289Z"
   },
   {
    "duration": 43,
    "start_time": "2024-07-16T05:02:52.584Z"
   },
   {
    "duration": 43,
    "start_time": "2024-07-16T05:03:07.166Z"
   },
   {
    "duration": 41,
    "start_time": "2024-07-16T05:03:12.872Z"
   },
   {
    "duration": 13,
    "start_time": "2024-07-16T05:05:19.025Z"
   },
   {
    "duration": 10,
    "start_time": "2024-07-16T05:05:33.214Z"
   },
   {
    "duration": 55,
    "start_time": "2024-07-16T05:14:47.664Z"
   },
   {
    "duration": 41,
    "start_time": "2024-07-16T05:14:57.658Z"
   },
   {
    "duration": 41,
    "start_time": "2024-07-16T05:15:18.359Z"
   },
   {
    "duration": 546,
    "start_time": "2024-07-16T05:16:12.419Z"
   },
   {
    "duration": 55,
    "start_time": "2024-07-16T05:16:21.663Z"
   },
   {
    "duration": 40,
    "start_time": "2024-07-16T05:16:26.184Z"
   },
   {
    "duration": 51,
    "start_time": "2024-07-16T05:28:40.828Z"
   },
   {
    "duration": 24,
    "start_time": "2024-07-16T05:28:56.108Z"
   },
   {
    "duration": 35,
    "start_time": "2024-07-16T05:28:56.653Z"
   },
   {
    "duration": 570,
    "start_time": "2024-07-16T05:28:58.126Z"
   },
   {
    "duration": 300,
    "start_time": "2024-07-16T05:29:01.916Z"
   },
   {
    "duration": 424,
    "start_time": "2024-07-16T05:29:05.324Z"
   },
   {
    "duration": 508,
    "start_time": "2024-07-16T05:29:10.287Z"
   },
   {
    "duration": 374,
    "start_time": "2024-07-16T05:29:15.194Z"
   },
   {
    "duration": 1914,
    "start_time": "2024-07-16T05:29:21.918Z"
   },
   {
    "duration": 492,
    "start_time": "2024-07-16T14:23:04.929Z"
   },
   {
    "duration": 75,
    "start_time": "2024-07-16T14:23:10.742Z"
   },
   {
    "duration": 8079,
    "start_time": "2024-07-16T14:23:23.522Z"
   },
   {
    "duration": 8027,
    "start_time": "2024-07-16T14:23:31.614Z"
   },
   {
    "duration": 27,
    "start_time": "2024-07-16T14:23:39.644Z"
   },
   {
    "duration": 21,
    "start_time": "2024-07-16T14:23:39.675Z"
   },
   {
    "duration": 27,
    "start_time": "2024-07-16T14:23:39.698Z"
   },
   {
    "duration": 22,
    "start_time": "2024-07-16T14:23:39.728Z"
   },
   {
    "duration": 86,
    "start_time": "2024-07-16T14:23:39.757Z"
   },
   {
    "duration": 100,
    "start_time": "2024-07-16T14:23:39.846Z"
   },
   {
    "duration": 164,
    "start_time": "2024-07-16T14:23:39.950Z"
   },
   {
    "duration": 303,
    "start_time": "2024-07-16T14:23:40.130Z"
   },
   {
    "duration": 273,
    "start_time": "2024-07-16T14:23:40.444Z"
   },
   {
    "duration": 83,
    "start_time": "2024-07-16T14:23:40.728Z"
   },
   {
    "duration": 48,
    "start_time": "2024-07-16T14:23:40.823Z"
   },
   {
    "duration": 14,
    "start_time": "2024-07-16T14:23:40.885Z"
   },
   {
    "duration": 69,
    "start_time": "2024-07-16T14:23:40.913Z"
   },
   {
    "duration": 51,
    "start_time": "2024-07-16T14:23:40.993Z"
   },
   {
    "duration": 14,
    "start_time": "2024-07-16T14:23:41.054Z"
   },
   {
    "duration": 11,
    "start_time": "2024-07-16T14:23:41.078Z"
   },
   {
    "duration": 10,
    "start_time": "2024-07-16T14:23:41.098Z"
   },
   {
    "duration": 15,
    "start_time": "2024-07-16T14:23:41.113Z"
   },
   {
    "duration": 2158,
    "start_time": "2024-07-16T14:23:41.132Z"
   },
   {
    "duration": 1700,
    "start_time": "2024-07-16T14:23:43.301Z"
   },
   {
    "duration": 32,
    "start_time": "2024-07-16T14:23:45.010Z"
   },
   {
    "duration": 16,
    "start_time": "2024-07-16T14:23:45.045Z"
   },
   {
    "duration": 12,
    "start_time": "2024-07-16T14:23:45.064Z"
   },
   {
    "duration": 34,
    "start_time": "2024-07-16T14:23:45.084Z"
   },
   {
    "duration": 16,
    "start_time": "2024-07-16T14:23:45.121Z"
   },
   {
    "duration": 29,
    "start_time": "2024-07-16T14:23:45.155Z"
   },
   {
    "duration": 54,
    "start_time": "2024-07-16T14:23:45.193Z"
   },
   {
    "duration": 47,
    "start_time": "2024-07-16T14:23:45.256Z"
   },
   {
    "duration": 77,
    "start_time": "2024-07-16T14:23:45.313Z"
   },
   {
    "duration": 27,
    "start_time": "2024-07-16T14:23:45.401Z"
   },
   {
    "duration": 80,
    "start_time": "2024-07-16T14:23:45.447Z"
   },
   {
    "duration": 53,
    "start_time": "2024-07-16T14:23:45.538Z"
   },
   {
    "duration": 28,
    "start_time": "2024-07-16T14:23:45.600Z"
   },
   {
    "duration": 36,
    "start_time": "2024-07-16T14:23:45.639Z"
   },
   {
    "duration": 720,
    "start_time": "2024-07-16T14:23:45.689Z"
   },
   {
    "duration": 334,
    "start_time": "2024-07-16T14:23:46.419Z"
   },
   {
    "duration": 517,
    "start_time": "2024-07-16T14:23:46.764Z"
   },
   {
    "duration": 699,
    "start_time": "2024-07-16T14:23:47.292Z"
   },
   {
    "duration": 462,
    "start_time": "2024-07-16T14:23:48.000Z"
   },
   {
    "duration": 2509,
    "start_time": "2024-07-16T14:23:48.472Z"
   },
   {
    "duration": 24,
    "start_time": "2024-07-16T14:28:34.891Z"
   },
   {
    "duration": 16,
    "start_time": "2024-07-16T14:28:58.358Z"
   },
   {
    "duration": 469,
    "start_time": "2024-07-16T14:34:14.112Z"
   },
   {
    "duration": 60,
    "start_time": "2024-07-16T14:34:19.672Z"
   },
   {
    "duration": 1943,
    "start_time": "2024-07-16T14:34:41.590Z"
   },
   {
    "duration": 1977,
    "start_time": "2024-07-16T14:35:07.636Z"
   },
   {
    "duration": 1923,
    "start_time": "2024-07-16T14:35:45.970Z"
   },
   {
    "duration": 1948,
    "start_time": "2024-07-16T14:35:59.462Z"
   },
   {
    "duration": 1922,
    "start_time": "2024-07-16T14:36:19.420Z"
   },
   {
    "duration": 1851,
    "start_time": "2024-07-16T14:36:25.503Z"
   },
   {
    "duration": 1905,
    "start_time": "2024-07-16T14:36:51.692Z"
   },
   {
    "duration": 1933,
    "start_time": "2024-07-16T14:37:01.955Z"
   },
   {
    "duration": 1889,
    "start_time": "2024-07-16T14:37:56.831Z"
   },
   {
    "duration": 2684,
    "start_time": "2024-07-16T14:38:51.113Z"
   },
   {
    "duration": 2183,
    "start_time": "2024-07-16T14:39:17.490Z"
   },
   {
    "duration": 2229,
    "start_time": "2024-07-16T14:42:46.697Z"
   },
   {
    "duration": 2218,
    "start_time": "2024-07-16T14:43:00.905Z"
   },
   {
    "duration": 2254,
    "start_time": "2024-07-16T14:43:51.166Z"
   },
   {
    "duration": 849,
    "start_time": "2024-07-16T14:44:17.366Z"
   },
   {
    "duration": 34,
    "start_time": "2024-07-16T14:44:24.312Z"
   },
   {
    "duration": 564,
    "start_time": "2024-07-16T14:44:42.097Z"
   },
   {
    "duration": 749,
    "start_time": "2024-07-16T14:44:51.166Z"
   },
   {
    "duration": 706,
    "start_time": "2024-07-16T14:47:20.053Z"
   },
   {
    "duration": 1779,
    "start_time": "2024-07-16T14:47:20.762Z"
   },
   {
    "duration": 25,
    "start_time": "2024-07-16T14:47:22.545Z"
   },
   {
    "duration": 46,
    "start_time": "2024-07-16T14:47:22.574Z"
   },
   {
    "duration": 16,
    "start_time": "2024-07-16T14:47:22.627Z"
   },
   {
    "duration": 16,
    "start_time": "2024-07-16T14:47:22.646Z"
   },
   {
    "duration": 86,
    "start_time": "2024-07-16T14:47:22.667Z"
   },
   {
    "duration": 67,
    "start_time": "2024-07-16T14:47:22.757Z"
   },
   {
    "duration": 20,
    "start_time": "2024-07-16T14:47:22.828Z"
   },
   {
    "duration": 225,
    "start_time": "2024-07-16T14:47:22.851Z"
   },
   {
    "duration": 187,
    "start_time": "2024-07-16T14:47:23.079Z"
   },
   {
    "duration": 72,
    "start_time": "2024-07-16T14:47:23.271Z"
   },
   {
    "duration": 31,
    "start_time": "2024-07-16T14:47:23.346Z"
   },
   {
    "duration": 27,
    "start_time": "2024-07-16T14:47:23.385Z"
   },
   {
    "duration": 43,
    "start_time": "2024-07-16T14:47:23.415Z"
   },
   {
    "duration": 63,
    "start_time": "2024-07-16T14:47:23.464Z"
   },
   {
    "duration": 6,
    "start_time": "2024-07-16T14:47:23.531Z"
   },
   {
    "duration": 7,
    "start_time": "2024-07-16T14:47:23.540Z"
   },
   {
    "duration": 8,
    "start_time": "2024-07-16T14:47:23.550Z"
   },
   {
    "duration": 8,
    "start_time": "2024-07-16T14:47:23.561Z"
   },
   {
    "duration": 1483,
    "start_time": "2024-07-16T14:47:23.611Z"
   },
   {
    "duration": 1451,
    "start_time": "2024-07-16T14:47:25.097Z"
   },
   {
    "duration": 26,
    "start_time": "2024-07-16T14:47:26.551Z"
   },
   {
    "duration": 31,
    "start_time": "2024-07-16T14:47:26.580Z"
   },
   {
    "duration": 10,
    "start_time": "2024-07-16T14:47:26.614Z"
   },
   {
    "duration": 12,
    "start_time": "2024-07-16T14:47:26.628Z"
   },
   {
    "duration": 9,
    "start_time": "2024-07-16T14:47:26.645Z"
   },
   {
    "duration": 53,
    "start_time": "2024-07-16T14:47:26.657Z"
   },
   {
    "duration": 26,
    "start_time": "2024-07-16T14:47:26.714Z"
   },
   {
    "duration": 66,
    "start_time": "2024-07-16T14:47:26.744Z"
   },
   {
    "duration": 56,
    "start_time": "2024-07-16T14:47:26.815Z"
   },
   {
    "duration": 39,
    "start_time": "2024-07-16T14:47:26.876Z"
   },
   {
    "duration": 44,
    "start_time": "2024-07-16T14:47:26.918Z"
   },
   {
    "duration": 65,
    "start_time": "2024-07-16T14:47:26.965Z"
   },
   {
    "duration": 22,
    "start_time": "2024-07-16T14:47:27.033Z"
   },
   {
    "duration": 56,
    "start_time": "2024-07-16T14:47:27.058Z"
   },
   {
    "duration": 571,
    "start_time": "2024-07-16T14:47:27.117Z"
   },
   {
    "duration": 243,
    "start_time": "2024-07-16T14:47:27.692Z"
   },
   {
    "duration": 433,
    "start_time": "2024-07-16T14:47:27.939Z"
   },
   {
    "duration": 482,
    "start_time": "2024-07-16T14:47:28.375Z"
   },
   {
    "duration": 395,
    "start_time": "2024-07-16T14:47:28.865Z"
   },
   {
    "duration": 1675,
    "start_time": "2024-07-16T14:47:29.264Z"
   },
   {
    "duration": 0,
    "start_time": "2024-07-16T14:47:30.942Z"
   },
   {
    "duration": 0,
    "start_time": "2024-07-16T14:47:30.945Z"
   },
   {
    "duration": 1912,
    "start_time": "2024-07-16T14:47:48.024Z"
   },
   {
    "duration": 1940,
    "start_time": "2024-07-16T14:47:57.428Z"
   },
   {
    "duration": 513,
    "start_time": "2024-07-16T14:53:12.026Z"
   },
   {
    "duration": 531,
    "start_time": "2024-07-16T14:58:08.833Z"
   },
   {
    "duration": 533,
    "start_time": "2024-07-16T14:58:16.705Z"
   },
   {
    "duration": 729,
    "start_time": "2024-07-16T14:58:26.779Z"
   },
   {
    "duration": 580,
    "start_time": "2024-07-16T14:58:43.309Z"
   },
   {
    "duration": 553,
    "start_time": "2024-07-16T14:59:36.124Z"
   },
   {
    "duration": 546,
    "start_time": "2024-07-16T15:01:59.679Z"
   },
   {
    "duration": 536,
    "start_time": "2024-07-16T15:02:11.017Z"
   },
   {
    "duration": 562,
    "start_time": "2024-07-16T15:02:15.784Z"
   },
   {
    "duration": 10,
    "start_time": "2024-07-16T15:02:51.040Z"
   },
   {
    "duration": 618,
    "start_time": "2024-07-16T15:04:09.086Z"
   },
   {
    "duration": 544,
    "start_time": "2024-07-16T15:04:19.360Z"
   },
   {
    "duration": 586,
    "start_time": "2024-07-16T15:04:36.705Z"
   },
   {
    "duration": 584,
    "start_time": "2024-07-16T15:04:43.486Z"
   },
   {
    "duration": 10,
    "start_time": "2024-07-16T15:05:37.576Z"
   },
   {
    "duration": 12,
    "start_time": "2024-07-16T15:06:38.106Z"
   },
   {
    "duration": 541,
    "start_time": "2024-07-16T15:06:46.433Z"
   },
   {
    "duration": 535,
    "start_time": "2024-07-16T15:06:52.084Z"
   },
   {
    "duration": 533,
    "start_time": "2024-07-16T15:06:56.094Z"
   },
   {
    "duration": 559,
    "start_time": "2024-07-16T15:07:40.763Z"
   },
   {
    "duration": 550,
    "start_time": "2024-07-16T15:07:57.676Z"
   },
   {
    "duration": 553,
    "start_time": "2024-07-16T15:08:03.029Z"
   },
   {
    "duration": 531,
    "start_time": "2024-07-16T15:08:07.835Z"
   },
   {
    "duration": 1082,
    "start_time": "2024-07-16T15:08:16.129Z"
   },
   {
    "duration": 894,
    "start_time": "2024-07-16T15:08:17.215Z"
   },
   {
    "duration": 1077,
    "start_time": "2024-07-16T15:08:32.640Z"
   },
   {
    "duration": 8,
    "start_time": "2024-07-16T15:09:03.276Z"
   },
   {
    "duration": 1056,
    "start_time": "2024-07-16T15:09:07.799Z"
   },
   {
    "duration": 691,
    "start_time": "2024-07-16T15:10:41.135Z"
   },
   {
    "duration": 1598,
    "start_time": "2024-07-16T15:10:41.829Z"
   },
   {
    "duration": 19,
    "start_time": "2024-07-16T15:10:43.430Z"
   },
   {
    "duration": 17,
    "start_time": "2024-07-16T15:10:43.452Z"
   },
   {
    "duration": 14,
    "start_time": "2024-07-16T15:10:43.508Z"
   },
   {
    "duration": 13,
    "start_time": "2024-07-16T15:10:43.525Z"
   },
   {
    "duration": 68,
    "start_time": "2024-07-16T15:10:43.541Z"
   },
   {
    "duration": 47,
    "start_time": "2024-07-16T15:10:43.612Z"
   },
   {
    "duration": 20,
    "start_time": "2024-07-16T15:10:43.662Z"
   },
   {
    "duration": 211,
    "start_time": "2024-07-16T15:10:43.710Z"
   },
   {
    "duration": 194,
    "start_time": "2024-07-16T15:10:43.928Z"
   },
   {
    "duration": 49,
    "start_time": "2024-07-16T15:10:44.128Z"
   },
   {
    "duration": 43,
    "start_time": "2024-07-16T15:10:44.180Z"
   },
   {
    "duration": 7,
    "start_time": "2024-07-16T15:10:44.230Z"
   },
   {
    "duration": 39,
    "start_time": "2024-07-16T15:10:44.239Z"
   },
   {
    "duration": 32,
    "start_time": "2024-07-16T15:10:44.310Z"
   },
   {
    "duration": 7,
    "start_time": "2024-07-16T15:10:44.345Z"
   },
   {
    "duration": 7,
    "start_time": "2024-07-16T15:10:44.355Z"
   },
   {
    "duration": 47,
    "start_time": "2024-07-16T15:10:44.366Z"
   },
   {
    "duration": 6,
    "start_time": "2024-07-16T15:10:44.417Z"
   },
   {
    "duration": 1415,
    "start_time": "2024-07-16T15:10:44.427Z"
   },
   {
    "duration": 1372,
    "start_time": "2024-07-16T15:10:45.845Z"
   },
   {
    "duration": 21,
    "start_time": "2024-07-16T15:10:47.220Z"
   },
   {
    "duration": 10,
    "start_time": "2024-07-16T15:10:47.244Z"
   },
   {
    "duration": 54,
    "start_time": "2024-07-16T15:10:47.257Z"
   },
   {
    "duration": 16,
    "start_time": "2024-07-16T15:10:47.314Z"
   },
   {
    "duration": 12,
    "start_time": "2024-07-16T15:10:47.336Z"
   },
   {
    "duration": 16,
    "start_time": "2024-07-16T15:10:47.351Z"
   },
   {
    "duration": 59,
    "start_time": "2024-07-16T15:10:47.372Z"
   },
   {
    "duration": 35,
    "start_time": "2024-07-16T15:10:47.434Z"
   },
   {
    "duration": 78,
    "start_time": "2024-07-16T15:10:47.472Z"
   },
   {
    "duration": 19,
    "start_time": "2024-07-16T15:10:47.553Z"
   },
   {
    "duration": 65,
    "start_time": "2024-07-16T15:10:47.575Z"
   },
   {
    "duration": 43,
    "start_time": "2024-07-16T15:10:47.642Z"
   },
   {
    "duration": 22,
    "start_time": "2024-07-16T15:10:47.709Z"
   },
   {
    "duration": 27,
    "start_time": "2024-07-16T15:10:47.734Z"
   },
   {
    "duration": 519,
    "start_time": "2024-07-16T15:10:47.763Z"
   },
   {
    "duration": 253,
    "start_time": "2024-07-16T15:10:48.286Z"
   },
   {
    "duration": 393,
    "start_time": "2024-07-16T15:10:48.542Z"
   },
   {
    "duration": 425,
    "start_time": "2024-07-16T15:10:48.938Z"
   },
   {
    "duration": 369,
    "start_time": "2024-07-16T15:10:49.372Z"
   },
   {
    "duration": 1495,
    "start_time": "2024-07-16T15:10:49.746Z"
   },
   {
    "duration": 0,
    "start_time": "2024-07-16T15:10:51.244Z"
   },
   {
    "duration": 1908,
    "start_time": "2024-07-16T15:11:08.924Z"
   },
   {
    "duration": 735,
    "start_time": "2024-07-16T15:12:10.425Z"
   },
   {
    "duration": 1582,
    "start_time": "2024-07-16T15:12:11.164Z"
   },
   {
    "duration": 23,
    "start_time": "2024-07-16T15:12:12.749Z"
   },
   {
    "duration": 37,
    "start_time": "2024-07-16T15:12:12.775Z"
   },
   {
    "duration": 14,
    "start_time": "2024-07-16T15:12:12.818Z"
   },
   {
    "duration": 15,
    "start_time": "2024-07-16T15:12:12.835Z"
   },
   {
    "duration": 94,
    "start_time": "2024-07-16T15:12:12.853Z"
   },
   {
    "duration": 59,
    "start_time": "2024-07-16T15:12:12.951Z"
   },
   {
    "duration": 19,
    "start_time": "2024-07-16T15:12:13.013Z"
   },
   {
    "duration": 251,
    "start_time": "2024-07-16T15:12:13.035Z"
   },
   {
    "duration": 195,
    "start_time": "2024-07-16T15:12:13.290Z"
   },
   {
    "duration": 67,
    "start_time": "2024-07-16T15:12:13.489Z"
   },
   {
    "duration": 23,
    "start_time": "2024-07-16T15:12:13.559Z"
   },
   {
    "duration": 7,
    "start_time": "2024-07-16T15:12:13.612Z"
   },
   {
    "duration": 39,
    "start_time": "2024-07-16T15:12:13.623Z"
   },
   {
    "duration": 65,
    "start_time": "2024-07-16T15:12:13.666Z"
   },
   {
    "duration": 8,
    "start_time": "2024-07-16T15:12:13.734Z"
   },
   {
    "duration": 6,
    "start_time": "2024-07-16T15:12:13.746Z"
   },
   {
    "duration": 11,
    "start_time": "2024-07-16T15:12:13.754Z"
   },
   {
    "duration": 42,
    "start_time": "2024-07-16T15:12:13.768Z"
   },
   {
    "duration": 1411,
    "start_time": "2024-07-16T15:12:13.812Z"
   },
   {
    "duration": 1374,
    "start_time": "2024-07-16T15:12:15.226Z"
   },
   {
    "duration": 22,
    "start_time": "2024-07-16T15:12:16.612Z"
   },
   {
    "duration": 10,
    "start_time": "2024-07-16T15:12:16.637Z"
   },
   {
    "duration": 10,
    "start_time": "2024-07-16T15:12:16.650Z"
   },
   {
    "duration": 10,
    "start_time": "2024-07-16T15:12:16.708Z"
   },
   {
    "duration": 8,
    "start_time": "2024-07-16T15:12:16.723Z"
   },
   {
    "duration": 11,
    "start_time": "2024-07-16T15:12:16.735Z"
   },
   {
    "duration": 65,
    "start_time": "2024-07-16T15:12:16.750Z"
   },
   {
    "duration": 30,
    "start_time": "2024-07-16T15:12:16.818Z"
   },
   {
    "duration": 79,
    "start_time": "2024-07-16T15:12:16.851Z"
   },
   {
    "duration": 19,
    "start_time": "2024-07-16T15:12:16.933Z"
   },
   {
    "duration": 60,
    "start_time": "2024-07-16T15:12:16.954Z"
   },
   {
    "duration": 41,
    "start_time": "2024-07-16T15:12:17.017Z"
   },
   {
    "duration": 48,
    "start_time": "2024-07-16T15:12:17.061Z"
   },
   {
    "duration": 26,
    "start_time": "2024-07-16T15:12:17.113Z"
   },
   {
    "duration": 535,
    "start_time": "2024-07-16T15:12:17.142Z"
   },
   {
    "duration": 254,
    "start_time": "2024-07-16T15:12:17.681Z"
   },
   {
    "duration": 391,
    "start_time": "2024-07-16T15:12:17.939Z"
   },
   {
    "duration": 443,
    "start_time": "2024-07-16T15:12:18.333Z"
   },
   {
    "duration": 369,
    "start_time": "2024-07-16T15:12:18.786Z"
   },
   {
    "duration": 1878,
    "start_time": "2024-07-16T15:12:19.158Z"
   },
   {
    "duration": 557,
    "start_time": "2024-07-16T15:12:21.039Z"
   },
   {
    "duration": 5,
    "start_time": "2024-07-16T15:12:33.096Z"
   },
   {
    "duration": 779,
    "start_time": "2024-07-16T15:16:19.341Z"
   },
   {
    "duration": 916,
    "start_time": "2024-07-16T15:18:01.624Z"
   },
   {
    "duration": 967,
    "start_time": "2024-07-16T15:20:12.481Z"
   },
   {
    "duration": 590,
    "start_time": "2024-07-16T15:20:19.370Z"
   },
   {
    "duration": 573,
    "start_time": "2024-07-16T15:20:34.499Z"
   },
   {
    "duration": 818,
    "start_time": "2024-07-16T15:21:25.272Z"
   },
   {
    "duration": 827,
    "start_time": "2024-07-16T15:23:22.997Z"
   },
   {
    "duration": 7,
    "start_time": "2024-07-16T15:28:24.496Z"
   },
   {
    "duration": 17,
    "start_time": "2024-07-16T15:29:24.215Z"
   },
   {
    "duration": 174,
    "start_time": "2024-07-16T15:30:29.324Z"
   },
   {
    "duration": 131,
    "start_time": "2024-07-16T15:30:35.705Z"
   },
   {
    "duration": 112,
    "start_time": "2024-07-16T15:30:39.845Z"
   },
   {
    "duration": 821,
    "start_time": "2024-07-16T15:31:17.826Z"
   },
   {
    "duration": 456,
    "start_time": "2024-07-16T15:32:18.590Z"
   },
   {
    "duration": 445,
    "start_time": "2024-07-16T15:32:26.492Z"
   },
   {
    "duration": 432,
    "start_time": "2024-07-16T15:32:33.071Z"
   },
   {
    "duration": 427,
    "start_time": "2024-07-16T15:32:38.910Z"
   },
   {
    "duration": 200,
    "start_time": "2024-07-16T15:34:25.009Z"
   },
   {
    "duration": 232,
    "start_time": "2024-07-16T15:34:43.736Z"
   },
   {
    "duration": 202,
    "start_time": "2024-07-16T15:35:06.908Z"
   },
   {
    "duration": 209,
    "start_time": "2024-07-16T15:35:39.345Z"
   },
   {
    "duration": 188,
    "start_time": "2024-07-16T15:39:09.769Z"
   },
   {
    "duration": 13,
    "start_time": "2024-07-16T15:40:13.392Z"
   },
   {
    "duration": 1617,
    "start_time": "2024-07-16T15:41:24.993Z"
   },
   {
    "duration": 1596,
    "start_time": "2024-07-16T15:41:36.463Z"
   },
   {
    "duration": 17,
    "start_time": "2024-07-16T15:41:45.677Z"
   },
   {
    "duration": 279,
    "start_time": "2024-07-16T15:42:38.296Z"
   },
   {
    "duration": 275,
    "start_time": "2024-07-16T15:43:17.388Z"
   },
   {
    "duration": 713,
    "start_time": "2024-07-16T15:43:46.470Z"
   },
   {
    "duration": 672,
    "start_time": "2024-07-16T15:44:02.764Z"
   },
   {
    "duration": 685,
    "start_time": "2024-07-16T15:44:10.501Z"
   },
   {
    "duration": 22,
    "start_time": "2024-07-16T15:53:14.911Z"
   },
   {
    "duration": 17,
    "start_time": "2024-07-16T15:55:00.129Z"
   },
   {
    "duration": 124,
    "start_time": "2024-07-16T15:56:31.109Z"
   },
   {
    "duration": 132,
    "start_time": "2024-07-16T15:56:40.127Z"
   },
   {
    "duration": 123,
    "start_time": "2024-07-16T15:58:21.114Z"
   },
   {
    "duration": 118,
    "start_time": "2024-07-16T15:58:51.531Z"
   },
   {
    "duration": 135,
    "start_time": "2024-07-16T15:59:09.174Z"
   },
   {
    "duration": 108,
    "start_time": "2024-07-16T15:59:16.206Z"
   },
   {
    "duration": 638,
    "start_time": "2024-07-16T16:00:10.751Z"
   },
   {
    "duration": 113,
    "start_time": "2024-07-16T16:00:55.866Z"
   },
   {
    "duration": 105,
    "start_time": "2024-07-16T16:01:45.731Z"
   },
   {
    "duration": 110,
    "start_time": "2024-07-16T16:01:52.645Z"
   },
   {
    "duration": 761,
    "start_time": "2024-07-16T16:02:21.511Z"
   },
   {
    "duration": 808,
    "start_time": "2024-07-16T16:02:34.130Z"
   },
   {
    "duration": 777,
    "start_time": "2024-07-16T16:02:47.555Z"
   },
   {
    "duration": 772,
    "start_time": "2024-07-16T16:02:53.174Z"
   },
   {
    "duration": 768,
    "start_time": "2024-07-16T16:02:58.791Z"
   },
   {
    "duration": 778,
    "start_time": "2024-07-16T16:04:30.832Z"
   },
   {
    "duration": 783,
    "start_time": "2024-07-16T16:06:20.111Z"
   },
   {
    "duration": 792,
    "start_time": "2024-07-16T16:06:27.218Z"
   },
   {
    "duration": 752,
    "start_time": "2024-07-16T16:06:39.929Z"
   },
   {
    "duration": 793,
    "start_time": "2024-07-16T16:10:26.470Z"
   },
   {
    "duration": 1808,
    "start_time": "2024-07-16T16:10:38.957Z"
   },
   {
    "duration": 883,
    "start_time": "2024-07-16T16:12:07.831Z"
   },
   {
    "duration": 780,
    "start_time": "2024-07-16T16:14:27.974Z"
   },
   {
    "duration": 768,
    "start_time": "2024-07-16T16:14:41.731Z"
   },
   {
    "duration": 994,
    "start_time": "2024-07-16T16:16:51.622Z"
   },
   {
    "duration": 986,
    "start_time": "2024-07-16T16:16:59.324Z"
   },
   {
    "duration": 895,
    "start_time": "2024-07-16T16:22:57.545Z"
   },
   {
    "duration": 4474,
    "start_time": "2024-07-16T16:51:51.096Z"
   },
   {
    "duration": 1800,
    "start_time": "2024-07-16T16:51:55.574Z"
   },
   {
    "duration": 32,
    "start_time": "2024-07-16T16:51:57.379Z"
   },
   {
    "duration": 21,
    "start_time": "2024-07-16T16:51:57.415Z"
   },
   {
    "duration": 18,
    "start_time": "2024-07-16T16:51:57.441Z"
   },
   {
    "duration": 51,
    "start_time": "2024-07-16T16:51:57.463Z"
   },
   {
    "duration": 47,
    "start_time": "2024-07-16T16:51:57.517Z"
   },
   {
    "duration": 92,
    "start_time": "2024-07-16T16:51:57.567Z"
   },
   {
    "duration": 24,
    "start_time": "2024-07-16T16:51:57.663Z"
   },
   {
    "duration": 211,
    "start_time": "2024-07-16T16:51:57.690Z"
   },
   {
    "duration": 177,
    "start_time": "2024-07-16T16:51:57.903Z"
   },
   {
    "duration": 67,
    "start_time": "2024-07-16T16:51:58.083Z"
   },
   {
    "duration": 26,
    "start_time": "2024-07-16T16:51:58.152Z"
   },
   {
    "duration": 28,
    "start_time": "2024-07-16T16:51:58.186Z"
   },
   {
    "duration": 41,
    "start_time": "2024-07-16T16:51:58.217Z"
   },
   {
    "duration": 63,
    "start_time": "2024-07-16T16:51:58.261Z"
   },
   {
    "duration": 7,
    "start_time": "2024-07-16T16:51:58.327Z"
   },
   {
    "duration": 7,
    "start_time": "2024-07-16T16:51:58.337Z"
   },
   {
    "duration": 7,
    "start_time": "2024-07-16T16:51:58.348Z"
   },
   {
    "duration": 8,
    "start_time": "2024-07-16T16:51:58.358Z"
   },
   {
    "duration": 1492,
    "start_time": "2024-07-16T16:51:58.411Z"
   },
   {
    "duration": 1430,
    "start_time": "2024-07-16T16:51:59.911Z"
   },
   {
    "duration": 20,
    "start_time": "2024-07-16T16:52:01.346Z"
   },
   {
    "duration": 10,
    "start_time": "2024-07-16T16:52:01.369Z"
   },
   {
    "duration": 10,
    "start_time": "2024-07-16T16:52:01.411Z"
   },
   {
    "duration": 11,
    "start_time": "2024-07-16T16:52:01.425Z"
   },
   {
    "duration": 8,
    "start_time": "2024-07-16T16:52:01.439Z"
   },
   {
    "duration": 11,
    "start_time": "2024-07-16T16:52:01.450Z"
   },
   {
    "duration": 73,
    "start_time": "2024-07-16T16:52:01.464Z"
   },
   {
    "duration": 28,
    "start_time": "2024-07-16T16:52:01.540Z"
   },
   {
    "duration": 85,
    "start_time": "2024-07-16T16:52:01.571Z"
   },
   {
    "duration": 19,
    "start_time": "2024-07-16T16:52:01.659Z"
   },
   {
    "duration": 66,
    "start_time": "2024-07-16T16:52:01.681Z"
   },
   {
    "duration": 43,
    "start_time": "2024-07-16T16:52:01.749Z"
   },
   {
    "duration": 21,
    "start_time": "2024-07-16T16:52:01.812Z"
   },
   {
    "duration": 29,
    "start_time": "2024-07-16T16:52:01.837Z"
   },
   {
    "duration": 526,
    "start_time": "2024-07-16T16:52:01.869Z"
   },
   {
    "duration": 290,
    "start_time": "2024-07-16T16:52:02.398Z"
   },
   {
    "duration": 413,
    "start_time": "2024-07-16T16:52:02.691Z"
   },
   {
    "duration": 454,
    "start_time": "2024-07-16T16:52:03.107Z"
   },
   {
    "duration": 358,
    "start_time": "2024-07-16T16:52:03.570Z"
   },
   {
    "duration": 1948,
    "start_time": "2024-07-16T16:52:03.931Z"
   },
   {
    "duration": 858,
    "start_time": "2024-07-16T16:52:05.882Z"
   },
   {
    "duration": 792,
    "start_time": "2024-07-16T16:52:06.743Z"
   },
   {
    "duration": 1020,
    "start_time": "2024-07-16T16:52:07.539Z"
   },
   {
    "duration": 1557,
    "start_time": "2024-07-16T17:01:05.137Z"
   },
   {
    "duration": 1641,
    "start_time": "2024-07-16T17:01:15.487Z"
   },
   {
    "duration": 2003,
    "start_time": "2024-07-16T17:07:23.009Z"
   },
   {
    "duration": 690,
    "start_time": "2024-07-16T17:07:53.172Z"
   },
   {
    "duration": 1763,
    "start_time": "2024-07-16T17:07:53.865Z"
   },
   {
    "duration": 19,
    "start_time": "2024-07-16T17:07:55.631Z"
   },
   {
    "duration": 17,
    "start_time": "2024-07-16T17:07:55.653Z"
   },
   {
    "duration": 42,
    "start_time": "2024-07-16T17:07:55.675Z"
   },
   {
    "duration": 14,
    "start_time": "2024-07-16T17:07:55.720Z"
   },
   {
    "duration": 40,
    "start_time": "2024-07-16T17:07:55.737Z"
   },
   {
    "duration": 77,
    "start_time": "2024-07-16T17:07:55.780Z"
   },
   {
    "duration": 19,
    "start_time": "2024-07-16T17:07:55.860Z"
   },
   {
    "duration": 209,
    "start_time": "2024-07-16T17:07:55.914Z"
   },
   {
    "duration": 180,
    "start_time": "2024-07-16T17:07:56.126Z"
   },
   {
    "duration": 62,
    "start_time": "2024-07-16T17:07:56.313Z"
   },
   {
    "duration": 46,
    "start_time": "2024-07-16T17:07:56.379Z"
   },
   {
    "duration": 7,
    "start_time": "2024-07-16T17:07:56.431Z"
   },
   {
    "duration": 39,
    "start_time": "2024-07-16T17:07:56.441Z"
   },
   {
    "duration": 54,
    "start_time": "2024-07-16T17:07:56.484Z"
   },
   {
    "duration": 8,
    "start_time": "2024-07-16T17:07:56.541Z"
   },
   {
    "duration": 10,
    "start_time": "2024-07-16T17:07:56.552Z"
   },
   {
    "duration": 49,
    "start_time": "2024-07-16T17:07:56.565Z"
   },
   {
    "duration": 9,
    "start_time": "2024-07-16T17:07:56.617Z"
   },
   {
    "duration": 1434,
    "start_time": "2024-07-16T17:07:56.629Z"
   },
   {
    "duration": 1469,
    "start_time": "2024-07-16T17:07:58.066Z"
   },
   {
    "duration": 20,
    "start_time": "2024-07-16T17:07:59.538Z"
   },
   {
    "duration": 11,
    "start_time": "2024-07-16T17:07:59.561Z"
   },
   {
    "duration": 41,
    "start_time": "2024-07-16T17:07:59.575Z"
   },
   {
    "duration": 13,
    "start_time": "2024-07-16T17:07:59.619Z"
   },
   {
    "duration": 8,
    "start_time": "2024-07-16T17:07:59.635Z"
   },
   {
    "duration": 14,
    "start_time": "2024-07-16T17:07:59.646Z"
   },
   {
    "duration": 70,
    "start_time": "2024-07-16T17:07:59.663Z"
   },
   {
    "duration": 30,
    "start_time": "2024-07-16T17:07:59.738Z"
   },
   {
    "duration": 80,
    "start_time": "2024-07-16T17:07:59.772Z"
   },
   {
    "duration": 19,
    "start_time": "2024-07-16T17:07:59.855Z"
   },
   {
    "duration": 67,
    "start_time": "2024-07-16T17:07:59.877Z"
   },
   {
    "duration": 43,
    "start_time": "2024-07-16T17:07:59.947Z"
   },
   {
    "duration": 39,
    "start_time": "2024-07-16T17:07:59.993Z"
   },
   {
    "duration": 25,
    "start_time": "2024-07-16T17:08:00.035Z"
   },
   {
    "duration": 513,
    "start_time": "2024-07-16T17:08:00.063Z"
   },
   {
    "duration": 251,
    "start_time": "2024-07-16T17:08:00.580Z"
   },
   {
    "duration": 398,
    "start_time": "2024-07-16T17:08:00.835Z"
   },
   {
    "duration": 446,
    "start_time": "2024-07-16T17:08:01.235Z"
   },
   {
    "duration": 372,
    "start_time": "2024-07-16T17:08:01.691Z"
   },
   {
    "duration": 1975,
    "start_time": "2024-07-16T17:08:02.066Z"
   },
   {
    "duration": 850,
    "start_time": "2024-07-16T17:08:04.044Z"
   },
   {
    "duration": 779,
    "start_time": "2024-07-16T17:08:04.897Z"
   },
   {
    "duration": 1025,
    "start_time": "2024-07-16T17:08:05.679Z"
   },
   {
    "duration": 3,
    "start_time": "2024-07-16T17:08:06.712Z"
   },
   {
    "duration": 1819,
    "start_time": "2024-07-16T17:08:06.718Z"
   },
   {
    "duration": 2166,
    "start_time": "2024-07-16T17:08:24.326Z"
   },
   {
    "duration": 1726,
    "start_time": "2024-07-16T17:08:29.651Z"
   },
   {
    "duration": 7,
    "start_time": "2024-07-16T17:08:50.790Z"
   },
   {
    "duration": 1811,
    "start_time": "2024-07-16T17:08:53.275Z"
   },
   {
    "duration": 8,
    "start_time": "2024-07-16T17:11:23.352Z"
   },
   {
    "duration": 2028,
    "start_time": "2024-07-16T17:12:12.566Z"
   },
   {
    "duration": 1814,
    "start_time": "2024-07-16T17:12:26.334Z"
   },
   {
    "duration": 2158,
    "start_time": "2024-07-16T17:12:36.691Z"
   },
   {
    "duration": 319,
    "start_time": "2024-07-16T17:15:45.779Z"
   },
   {
    "duration": 677,
    "start_time": "2024-07-16T17:15:59.578Z"
   },
   {
    "duration": 1743,
    "start_time": "2024-07-16T17:16:00.258Z"
   },
   {
    "duration": 27,
    "start_time": "2024-07-16T17:16:02.004Z"
   },
   {
    "duration": 17,
    "start_time": "2024-07-16T17:16:02.035Z"
   },
   {
    "duration": 14,
    "start_time": "2024-07-16T17:16:02.055Z"
   },
   {
    "duration": 50,
    "start_time": "2024-07-16T17:16:02.072Z"
   },
   {
    "duration": 39,
    "start_time": "2024-07-16T17:16:02.126Z"
   },
   {
    "duration": 78,
    "start_time": "2024-07-16T17:16:02.168Z"
   },
   {
    "duration": 24,
    "start_time": "2024-07-16T17:16:02.249Z"
   },
   {
    "duration": 203,
    "start_time": "2024-07-16T17:16:02.280Z"
   },
   {
    "duration": 172,
    "start_time": "2024-07-16T17:16:02.487Z"
   },
   {
    "duration": 76,
    "start_time": "2024-07-16T17:16:02.662Z"
   },
   {
    "duration": 26,
    "start_time": "2024-07-16T17:16:02.741Z"
   },
   {
    "duration": 7,
    "start_time": "2024-07-16T17:16:02.770Z"
   },
   {
    "duration": 70,
    "start_time": "2024-07-16T17:16:02.780Z"
   },
   {
    "duration": 58,
    "start_time": "2024-07-16T17:16:02.854Z"
   },
   {
    "duration": 7,
    "start_time": "2024-07-16T17:16:02.915Z"
   },
   {
    "duration": 7,
    "start_time": "2024-07-16T17:16:02.925Z"
   },
   {
    "duration": 7,
    "start_time": "2024-07-16T17:16:02.936Z"
   },
   {
    "duration": 7,
    "start_time": "2024-07-16T17:16:02.946Z"
   },
   {
    "duration": 1494,
    "start_time": "2024-07-16T17:16:02.959Z"
   },
   {
    "duration": 1440,
    "start_time": "2024-07-16T17:16:04.457Z"
   },
   {
    "duration": 29,
    "start_time": "2024-07-16T17:16:05.900Z"
   },
   {
    "duration": 9,
    "start_time": "2024-07-16T17:16:05.932Z"
   },
   {
    "duration": 9,
    "start_time": "2024-07-16T17:16:05.944Z"
   },
   {
    "duration": 10,
    "start_time": "2024-07-16T17:16:05.957Z"
   },
   {
    "duration": 7,
    "start_time": "2024-07-16T17:16:06.013Z"
   },
   {
    "duration": 11,
    "start_time": "2024-07-16T17:16:06.030Z"
   },
   {
    "duration": 25,
    "start_time": "2024-07-16T17:16:06.043Z"
   },
   {
    "duration": 67,
    "start_time": "2024-07-16T17:16:06.072Z"
   },
   {
    "duration": 76,
    "start_time": "2024-07-16T17:16:06.142Z"
   },
   {
    "duration": 20,
    "start_time": "2024-07-16T17:16:06.221Z"
   },
   {
    "duration": 41,
    "start_time": "2024-07-16T17:16:06.243Z"
   },
   {
    "duration": 44,
    "start_time": "2024-07-16T17:16:06.313Z"
   },
   {
    "duration": 22,
    "start_time": "2024-07-16T17:16:06.360Z"
   },
   {
    "duration": 54,
    "start_time": "2024-07-16T17:16:06.385Z"
   },
   {
    "duration": 499,
    "start_time": "2024-07-16T17:16:06.442Z"
   },
   {
    "duration": 233,
    "start_time": "2024-07-16T17:16:06.945Z"
   },
   {
    "duration": 399,
    "start_time": "2024-07-16T17:16:07.182Z"
   },
   {
    "duration": 439,
    "start_time": "2024-07-16T17:16:07.584Z"
   },
   {
    "duration": 345,
    "start_time": "2024-07-16T17:16:08.026Z"
   },
   {
    "duration": 1971,
    "start_time": "2024-07-16T17:16:08.374Z"
   },
   {
    "duration": 901,
    "start_time": "2024-07-16T17:16:10.348Z"
   },
   {
    "duration": 773,
    "start_time": "2024-07-16T17:16:11.252Z"
   },
   {
    "duration": 1041,
    "start_time": "2024-07-16T17:16:12.028Z"
   },
   {
    "duration": 4,
    "start_time": "2024-07-16T17:16:13.072Z"
   },
   {
    "duration": 2222,
    "start_time": "2024-07-16T17:16:13.079Z"
   },
   {
    "duration": 2196,
    "start_time": "2024-07-16T17:17:36.218Z"
   },
   {
    "duration": 318,
    "start_time": "2024-07-16T19:21:29.381Z"
   },
   {
    "duration": 24,
    "start_time": "2024-07-16T19:21:36.196Z"
   },
   {
    "duration": 4377,
    "start_time": "2024-07-16T19:21:42.797Z"
   },
   {
    "duration": 1649,
    "start_time": "2024-07-16T19:21:47.177Z"
   },
   {
    "duration": 19,
    "start_time": "2024-07-16T19:21:48.829Z"
   },
   {
    "duration": 16,
    "start_time": "2024-07-16T19:21:48.852Z"
   },
   {
    "duration": 14,
    "start_time": "2024-07-16T19:21:48.874Z"
   },
   {
    "duration": 14,
    "start_time": "2024-07-16T19:21:48.931Z"
   },
   {
    "duration": 39,
    "start_time": "2024-07-16T19:21:48.948Z"
   },
   {
    "duration": 70,
    "start_time": "2024-07-16T19:21:48.990Z"
   },
   {
    "duration": 19,
    "start_time": "2024-07-16T19:21:49.063Z"
   },
   {
    "duration": 201,
    "start_time": "2024-07-16T19:21:49.086Z"
   },
   {
    "duration": 163,
    "start_time": "2024-07-16T19:21:49.290Z"
   },
   {
    "duration": 46,
    "start_time": "2024-07-16T19:21:49.456Z"
   },
   {
    "duration": 46,
    "start_time": "2024-07-16T19:21:49.506Z"
   },
   {
    "duration": 11,
    "start_time": "2024-07-16T19:21:49.560Z"
   },
   {
    "duration": 66,
    "start_time": "2024-07-16T19:21:49.575Z"
   },
   {
    "duration": 34,
    "start_time": "2024-07-16T19:21:49.645Z"
   },
   {
    "duration": 7,
    "start_time": "2024-07-16T19:21:49.682Z"
   },
   {
    "duration": 40,
    "start_time": "2024-07-16T19:21:49.692Z"
   },
   {
    "duration": 6,
    "start_time": "2024-07-16T19:21:49.736Z"
   },
   {
    "duration": 7,
    "start_time": "2024-07-16T19:21:49.745Z"
   },
   {
    "duration": 1339,
    "start_time": "2024-07-16T19:21:49.755Z"
   },
   {
    "duration": 1363,
    "start_time": "2024-07-16T19:21:51.097Z"
   },
   {
    "duration": 21,
    "start_time": "2024-07-16T19:21:52.463Z"
   },
   {
    "duration": 9,
    "start_time": "2024-07-16T19:21:52.486Z"
   },
   {
    "duration": 42,
    "start_time": "2024-07-16T19:21:52.498Z"
   },
   {
    "duration": 9,
    "start_time": "2024-07-16T19:21:52.545Z"
   },
   {
    "duration": 7,
    "start_time": "2024-07-16T19:21:52.557Z"
   },
   {
    "duration": 12,
    "start_time": "2024-07-16T19:21:52.567Z"
   },
   {
    "duration": 64,
    "start_time": "2024-07-16T19:21:52.582Z"
   },
   {
    "duration": 28,
    "start_time": "2024-07-16T19:21:52.650Z"
   },
   {
    "duration": 75,
    "start_time": "2024-07-16T19:21:52.681Z"
   },
   {
    "duration": 19,
    "start_time": "2024-07-16T19:21:52.759Z"
   },
   {
    "duration": 67,
    "start_time": "2024-07-16T19:21:52.780Z"
   },
   {
    "duration": 40,
    "start_time": "2024-07-16T19:21:52.850Z"
   },
   {
    "duration": 46,
    "start_time": "2024-07-16T19:21:52.893Z"
   },
   {
    "duration": 29,
    "start_time": "2024-07-16T19:21:52.942Z"
   },
   {
    "duration": 551,
    "start_time": "2024-07-16T19:21:52.974Z"
   },
   {
    "duration": 232,
    "start_time": "2024-07-16T19:21:53.531Z"
   },
   {
    "duration": 396,
    "start_time": "2024-07-16T19:21:53.766Z"
   },
   {
    "duration": 435,
    "start_time": "2024-07-16T19:21:54.168Z"
   },
   {
    "duration": 345,
    "start_time": "2024-07-16T19:21:54.611Z"
   },
   {
    "duration": 1872,
    "start_time": "2024-07-16T19:21:54.958Z"
   },
   {
    "duration": 797,
    "start_time": "2024-07-16T19:21:56.833Z"
   },
   {
    "duration": 743,
    "start_time": "2024-07-16T19:21:57.634Z"
   },
   {
    "duration": 985,
    "start_time": "2024-07-16T19:21:58.380Z"
   },
   {
    "duration": 3,
    "start_time": "2024-07-16T19:21:59.368Z"
   },
   {
    "duration": 2029,
    "start_time": "2024-07-16T19:21:59.374Z"
   },
   {
    "duration": 32,
    "start_time": "2024-07-16T19:22:01.406Z"
   },
   {
    "duration": 78,
    "start_time": "2024-07-16T19:22:18.262Z"
   },
   {
    "duration": 20,
    "start_time": "2024-07-16T19:23:37.470Z"
   },
   {
    "duration": 11,
    "start_time": "2024-07-16T19:23:41.149Z"
   },
   {
    "duration": 347,
    "start_time": "2024-07-16T19:26:29.876Z"
   },
   {
    "duration": 60,
    "start_time": "2024-07-16T19:26:35.207Z"
   },
   {
    "duration": 76,
    "start_time": "2024-07-16T19:26:40.849Z"
   },
   {
    "duration": 68,
    "start_time": "2024-07-16T19:26:45.549Z"
   },
   {
    "duration": 121,
    "start_time": "2024-07-16T19:28:58.099Z"
   },
   {
    "duration": 129,
    "start_time": "2024-07-16T19:29:04.662Z"
   },
   {
    "duration": 110,
    "start_time": "2024-07-16T19:29:16.143Z"
   },
   {
    "duration": 790,
    "start_time": "2024-07-16T19:29:37.881Z"
   },
   {
    "duration": 133,
    "start_time": "2024-07-16T19:31:10.509Z"
   },
   {
    "duration": 133,
    "start_time": "2024-07-16T19:31:16.928Z"
   },
   {
    "duration": 113,
    "start_time": "2024-07-16T19:31:21.189Z"
   },
   {
    "duration": 139,
    "start_time": "2024-07-16T19:34:01.118Z"
   },
   {
    "duration": 145,
    "start_time": "2024-07-16T19:34:14.614Z"
   },
   {
    "duration": 150,
    "start_time": "2024-07-16T19:34:39.228Z"
   },
   {
    "duration": 152,
    "start_time": "2024-07-16T19:34:44.873Z"
   },
   {
    "duration": 157,
    "start_time": "2024-07-16T19:34:57.333Z"
   },
   {
    "duration": 174,
    "start_time": "2024-07-16T19:36:16.628Z"
   },
   {
    "duration": 152,
    "start_time": "2024-07-16T19:36:39.241Z"
   },
   {
    "duration": 143,
    "start_time": "2024-07-16T19:37:57.692Z"
   },
   {
    "duration": 151,
    "start_time": "2024-07-16T19:38:06.956Z"
   },
   {
    "duration": 144,
    "start_time": "2024-07-16T19:39:09.158Z"
   },
   {
    "duration": 676,
    "start_time": "2024-07-16T19:39:19.002Z"
   },
   {
    "duration": 1669,
    "start_time": "2024-07-16T19:39:19.682Z"
   },
   {
    "duration": 20,
    "start_time": "2024-07-16T19:39:21.354Z"
   },
   {
    "duration": 17,
    "start_time": "2024-07-16T19:39:21.377Z"
   },
   {
    "duration": 15,
    "start_time": "2024-07-16T19:39:21.434Z"
   },
   {
    "duration": 14,
    "start_time": "2024-07-16T19:39:21.451Z"
   },
   {
    "duration": 70,
    "start_time": "2024-07-16T19:39:21.468Z"
   },
   {
    "duration": 43,
    "start_time": "2024-07-16T19:39:21.541Z"
   },
   {
    "duration": 43,
    "start_time": "2024-07-16T19:39:21.589Z"
   },
   {
    "duration": 200,
    "start_time": "2024-07-16T19:39:21.635Z"
   },
   {
    "duration": 194,
    "start_time": "2024-07-16T19:39:21.839Z"
   },
   {
    "duration": 55,
    "start_time": "2024-07-16T19:39:22.037Z"
   },
   {
    "duration": 48,
    "start_time": "2024-07-16T19:39:22.095Z"
   },
   {
    "duration": 6,
    "start_time": "2024-07-16T19:39:22.150Z"
   },
   {
    "duration": 43,
    "start_time": "2024-07-16T19:39:22.159Z"
   },
   {
    "duration": 55,
    "start_time": "2024-07-16T19:39:22.205Z"
   },
   {
    "duration": 7,
    "start_time": "2024-07-16T19:39:22.264Z"
   },
   {
    "duration": 7,
    "start_time": "2024-07-16T19:39:22.275Z"
   },
   {
    "duration": 50,
    "start_time": "2024-07-16T19:39:22.285Z"
   },
   {
    "duration": 10,
    "start_time": "2024-07-16T19:39:22.340Z"
   },
   {
    "duration": 1366,
    "start_time": "2024-07-16T19:39:22.352Z"
   },
   {
    "duration": 1331,
    "start_time": "2024-07-16T19:39:23.721Z"
   },
   {
    "duration": 21,
    "start_time": "2024-07-16T19:39:25.055Z"
   },
   {
    "duration": 10,
    "start_time": "2024-07-16T19:39:25.079Z"
   },
   {
    "duration": 41,
    "start_time": "2024-07-16T19:39:25.092Z"
   },
   {
    "duration": 11,
    "start_time": "2024-07-16T19:39:25.136Z"
   },
   {
    "duration": 8,
    "start_time": "2024-07-16T19:39:25.149Z"
   },
   {
    "duration": 12,
    "start_time": "2024-07-16T19:39:25.160Z"
   },
   {
    "duration": 71,
    "start_time": "2024-07-16T19:39:25.174Z"
   },
   {
    "duration": 34,
    "start_time": "2024-07-16T19:39:25.248Z"
   },
   {
    "duration": 79,
    "start_time": "2024-07-16T19:39:25.285Z"
   },
   {
    "duration": 19,
    "start_time": "2024-07-16T19:39:25.367Z"
   },
   {
    "duration": 71,
    "start_time": "2024-07-16T19:39:25.389Z"
   },
   {
    "duration": 40,
    "start_time": "2024-07-16T19:39:25.463Z"
   },
   {
    "duration": 40,
    "start_time": "2024-07-16T19:39:25.506Z"
   },
   {
    "duration": 27,
    "start_time": "2024-07-16T19:39:25.549Z"
   },
   {
    "duration": 492,
    "start_time": "2024-07-16T19:39:25.581Z"
   },
   {
    "duration": 231,
    "start_time": "2024-07-16T19:39:26.076Z"
   },
   {
    "duration": 402,
    "start_time": "2024-07-16T19:39:26.310Z"
   },
   {
    "duration": 442,
    "start_time": "2024-07-16T19:39:26.715Z"
   },
   {
    "duration": 343,
    "start_time": "2024-07-16T19:39:27.165Z"
   },
   {
    "duration": 1846,
    "start_time": "2024-07-16T19:39:27.512Z"
   },
   {
    "duration": 819,
    "start_time": "2024-07-16T19:39:29.361Z"
   },
   {
    "duration": 749,
    "start_time": "2024-07-16T19:39:30.183Z"
   },
   {
    "duration": 970,
    "start_time": "2024-07-16T19:39:30.935Z"
   },
   {
    "duration": 4,
    "start_time": "2024-07-16T19:39:31.909Z"
   },
   {
    "duration": 2070,
    "start_time": "2024-07-16T19:39:31.916Z"
   },
   {
    "duration": 166,
    "start_time": "2024-07-16T19:39:33.989Z"
   },
   {
    "duration": 7,
    "start_time": "2024-07-16T19:42:03.664Z"
   },
   {
    "duration": 683,
    "start_time": "2024-07-16T19:44:05.309Z"
   },
   {
    "duration": 1743,
    "start_time": "2024-07-16T19:44:07.100Z"
   },
   {
    "duration": 20,
    "start_time": "2024-07-16T19:44:09.545Z"
   },
   {
    "duration": 20,
    "start_time": "2024-07-16T19:44:10.507Z"
   },
   {
    "duration": 17,
    "start_time": "2024-07-16T19:44:11.150Z"
   },
   {
    "duration": 14,
    "start_time": "2024-07-16T19:44:11.658Z"
   },
   {
    "duration": 41,
    "start_time": "2024-07-16T19:44:12.190Z"
   },
   {
    "duration": 43,
    "start_time": "2024-07-16T19:44:14.557Z"
   },
   {
    "duration": 19,
    "start_time": "2024-07-16T19:44:15.453Z"
   },
   {
    "duration": 179,
    "start_time": "2024-07-16T19:44:16.553Z"
   },
   {
    "duration": 156,
    "start_time": "2024-07-16T19:44:19.462Z"
   },
   {
    "duration": 46,
    "start_time": "2024-07-16T19:44:20.197Z"
   },
   {
    "duration": 23,
    "start_time": "2024-07-16T19:44:22.096Z"
   },
   {
    "duration": 7,
    "start_time": "2024-07-16T19:44:22.658Z"
   },
   {
    "duration": 38,
    "start_time": "2024-07-16T19:44:23.058Z"
   },
   {
    "duration": 31,
    "start_time": "2024-07-16T19:44:23.432Z"
   },
   {
    "duration": 7,
    "start_time": "2024-07-16T19:44:24.801Z"
   },
   {
    "duration": 9,
    "start_time": "2024-07-16T19:44:25.344Z"
   },
   {
    "duration": 9,
    "start_time": "2024-07-16T19:44:29.258Z"
   },
   {
    "duration": 6,
    "start_time": "2024-07-16T19:44:29.593Z"
   },
   {
    "duration": 1399,
    "start_time": "2024-07-16T19:44:31.343Z"
   },
   {
    "duration": 1312,
    "start_time": "2024-07-16T19:44:32.855Z"
   },
   {
    "duration": 21,
    "start_time": "2024-07-16T19:44:35.905Z"
   },
   {
    "duration": 8,
    "start_time": "2024-07-16T19:44:37.168Z"
   },
   {
    "duration": 10,
    "start_time": "2024-07-16T19:44:38.068Z"
   },
   {
    "duration": 12,
    "start_time": "2024-07-16T19:44:39.679Z"
   },
   {
    "duration": 7,
    "start_time": "2024-07-16T19:44:41.002Z"
   },
   {
    "duration": 14,
    "start_time": "2024-07-16T19:44:42.428Z"
   },
   {
    "duration": 24,
    "start_time": "2024-07-16T19:44:43.552Z"
   },
   {
    "duration": 28,
    "start_time": "2024-07-16T19:44:46.453Z"
   },
   {
    "duration": 48,
    "start_time": "2024-07-16T19:44:47.128Z"
   },
   {
    "duration": 19,
    "start_time": "2024-07-16T19:44:48.409Z"
   },
   {
    "duration": 41,
    "start_time": "2024-07-16T19:44:50.899Z"
   },
   {
    "duration": 41,
    "start_time": "2024-07-16T19:44:55.413Z"
   },
   {
    "duration": 26,
    "start_time": "2024-07-16T19:44:58.239Z"
   },
   {
    "duration": 24,
    "start_time": "2024-07-16T19:44:59.473Z"
   },
   {
    "duration": 471,
    "start_time": "2024-07-16T19:45:00.638Z"
   },
   {
    "duration": 220,
    "start_time": "2024-07-16T19:45:02.773Z"
   },
   {
    "duration": 370,
    "start_time": "2024-07-16T19:45:04.993Z"
   },
   {
    "duration": 411,
    "start_time": "2024-07-16T19:45:08.273Z"
   },
   {
    "duration": 327,
    "start_time": "2024-07-16T19:45:11.105Z"
   },
   {
    "duration": 1823,
    "start_time": "2024-07-16T19:45:13.114Z"
   },
   {
    "duration": 805,
    "start_time": "2024-07-16T19:45:20.708Z"
   },
   {
    "duration": 738,
    "start_time": "2024-07-16T19:45:22.465Z"
   },
   {
    "duration": 955,
    "start_time": "2024-07-16T19:45:25.595Z"
   },
   {
    "duration": 3,
    "start_time": "2024-07-16T19:45:28.537Z"
   },
   {
    "duration": 2012,
    "start_time": "2024-07-16T19:45:29.460Z"
   },
   {
    "duration": 154,
    "start_time": "2024-07-16T19:45:37.875Z"
   },
   {
    "duration": 14,
    "start_time": "2024-07-17T15:39:06.643Z"
   },
   {
    "duration": 4414,
    "start_time": "2024-07-17T15:39:34.136Z"
   },
   {
    "duration": 1699,
    "start_time": "2024-07-17T15:39:38.554Z"
   },
   {
    "duration": 29,
    "start_time": "2024-07-17T15:39:40.257Z"
   },
   {
    "duration": 19,
    "start_time": "2024-07-17T15:39:40.290Z"
   },
   {
    "duration": 14,
    "start_time": "2024-07-17T15:39:40.314Z"
   },
   {
    "duration": 48,
    "start_time": "2024-07-17T15:39:40.331Z"
   },
   {
    "duration": 39,
    "start_time": "2024-07-17T15:39:40.383Z"
   },
   {
    "duration": 75,
    "start_time": "2024-07-17T15:39:40.425Z"
   },
   {
    "duration": 19,
    "start_time": "2024-07-17T15:39:40.504Z"
   },
   {
    "duration": 199,
    "start_time": "2024-07-17T15:39:40.525Z"
   },
   {
    "duration": 175,
    "start_time": "2024-07-17T15:39:40.727Z"
   },
   {
    "duration": 61,
    "start_time": "2024-07-17T15:39:40.906Z"
   },
   {
    "duration": 25,
    "start_time": "2024-07-17T15:39:40.970Z"
   },
   {
    "duration": 7,
    "start_time": "2024-07-17T15:39:40.999Z"
   },
   {
    "duration": 67,
    "start_time": "2024-07-17T15:39:41.008Z"
   },
   {
    "duration": 39,
    "start_time": "2024-07-17T15:39:42.596Z"
   },
   {
    "duration": 4,
    "start_time": "2024-07-17T15:40:54.183Z"
   },
   {
    "duration": 1515,
    "start_time": "2024-07-17T15:40:54.191Z"
   },
   {
    "duration": 20,
    "start_time": "2024-07-17T15:40:55.709Z"
   },
   {
    "duration": 42,
    "start_time": "2024-07-17T15:40:55.734Z"
   },
   {
    "duration": 14,
    "start_time": "2024-07-17T15:40:55.781Z"
   },
   {
    "duration": 14,
    "start_time": "2024-07-17T15:40:55.798Z"
   },
   {
    "duration": 73,
    "start_time": "2024-07-17T15:40:55.815Z"
   },
   {
    "duration": 44,
    "start_time": "2024-07-17T15:40:55.891Z"
   },
   {
    "duration": 38,
    "start_time": "2024-07-17T15:40:55.938Z"
   },
   {
    "duration": 198,
    "start_time": "2024-07-17T15:40:55.979Z"
   },
   {
    "duration": 187,
    "start_time": "2024-07-17T15:40:56.180Z"
   },
   {
    "duration": 46,
    "start_time": "2024-07-17T15:40:56.370Z"
   },
   {
    "duration": 22,
    "start_time": "2024-07-17T15:40:56.419Z"
   },
   {
    "duration": 6,
    "start_time": "2024-07-17T15:40:56.474Z"
   },
   {
    "duration": 40,
    "start_time": "2024-07-17T15:40:56.483Z"
   },
   {
    "duration": 68,
    "start_time": "2024-07-17T15:40:56.526Z"
   },
   {
    "duration": 7,
    "start_time": "2024-07-17T15:40:56.597Z"
   },
   {
    "duration": 8,
    "start_time": "2024-07-17T15:40:56.607Z"
   },
   {
    "duration": 8,
    "start_time": "2024-07-17T15:40:56.617Z"
   },
   {
    "duration": 7,
    "start_time": "2024-07-17T15:40:56.667Z"
   },
   {
    "duration": 1411,
    "start_time": "2024-07-17T15:40:56.677Z"
   },
   {
    "duration": 1349,
    "start_time": "2024-07-17T15:40:58.092Z"
   },
   {
    "duration": 35,
    "start_time": "2024-07-17T15:40:59.444Z"
   },
   {
    "duration": 9,
    "start_time": "2024-07-17T15:40:59.482Z"
   },
   {
    "duration": 8,
    "start_time": "2024-07-17T15:40:59.494Z"
   },
   {
    "duration": 10,
    "start_time": "2024-07-17T15:40:59.505Z"
   },
   {
    "duration": 49,
    "start_time": "2024-07-17T15:40:59.519Z"
   },
   {
    "duration": 12,
    "start_time": "2024-07-17T15:40:59.571Z"
   },
   {
    "duration": 24,
    "start_time": "2024-07-17T15:40:59.586Z"
   },
   {
    "duration": 63,
    "start_time": "2024-07-17T15:40:59.613Z"
   },
   {
    "duration": 50,
    "start_time": "2024-07-17T15:40:59.679Z"
   },
   {
    "duration": 43,
    "start_time": "2024-07-17T15:40:59.731Z"
   },
   {
    "duration": 42,
    "start_time": "2024-07-17T15:40:59.777Z"
   },
   {
    "duration": 69,
    "start_time": "2024-07-17T15:40:59.822Z"
   },
   {
    "duration": 21,
    "start_time": "2024-07-17T15:40:59.894Z"
   },
   {
    "duration": 51,
    "start_time": "2024-07-17T15:40:59.917Z"
   },
   {
    "duration": 561,
    "start_time": "2024-07-17T15:40:59.970Z"
   },
   {
    "duration": 230,
    "start_time": "2024-07-17T15:41:00.533Z"
   },
   {
    "duration": 401,
    "start_time": "2024-07-17T15:41:00.769Z"
   },
   {
    "duration": 446,
    "start_time": "2024-07-17T15:41:01.175Z"
   },
   {
    "duration": 350,
    "start_time": "2024-07-17T15:41:01.629Z"
   },
   {
    "duration": 1837,
    "start_time": "2024-07-17T15:41:01.983Z"
   },
   {
    "duration": 847,
    "start_time": "2024-07-17T15:41:03.823Z"
   },
   {
    "duration": 766,
    "start_time": "2024-07-17T15:41:04.673Z"
   },
   {
    "duration": 999,
    "start_time": "2024-07-17T15:41:05.442Z"
   },
   {
    "duration": 4,
    "start_time": "2024-07-17T15:41:06.444Z"
   },
   {
    "duration": 2198,
    "start_time": "2024-07-17T15:41:06.451Z"
   },
   {
    "duration": 170,
    "start_time": "2024-07-17T15:41:29.017Z"
   },
   {
    "duration": 5,
    "start_time": "2024-07-17T15:41:32.787Z"
   },
   {
    "duration": 334,
    "start_time": "2024-07-17T16:54:29.123Z"
   },
   {
    "duration": 4719,
    "start_time": "2024-07-17T16:54:38.000Z"
   },
   {
    "duration": 1865,
    "start_time": "2024-07-17T16:54:42.723Z"
   },
   {
    "duration": 39,
    "start_time": "2024-07-17T16:54:44.592Z"
   },
   {
    "duration": 26,
    "start_time": "2024-07-17T16:54:44.636Z"
   },
   {
    "duration": 18,
    "start_time": "2024-07-17T16:54:44.669Z"
   },
   {
    "duration": 46,
    "start_time": "2024-07-17T16:54:44.692Z"
   },
   {
    "duration": 41,
    "start_time": "2024-07-17T16:54:44.742Z"
   },
   {
    "duration": 88,
    "start_time": "2024-07-17T16:54:44.786Z"
   },
   {
    "duration": 21,
    "start_time": "2024-07-17T16:54:44.878Z"
   },
   {
    "duration": 224,
    "start_time": "2024-07-17T16:54:44.907Z"
   },
   {
    "duration": 200,
    "start_time": "2024-07-17T16:54:45.135Z"
   },
   {
    "duration": 59,
    "start_time": "2024-07-17T16:54:45.338Z"
   },
   {
    "duration": 53,
    "start_time": "2024-07-17T16:54:45.399Z"
   },
   {
    "duration": 8,
    "start_time": "2024-07-17T16:54:45.455Z"
   },
   {
    "duration": 66,
    "start_time": "2024-07-17T16:54:45.467Z"
   },
   {
    "duration": 37,
    "start_time": "2024-07-17T16:54:45.536Z"
   },
   {
    "duration": 11,
    "start_time": "2024-07-17T16:54:45.576Z"
   },
   {
    "duration": 41,
    "start_time": "2024-07-17T16:54:45.590Z"
   },
   {
    "duration": 9,
    "start_time": "2024-07-17T16:54:45.634Z"
   },
   {
    "duration": 8,
    "start_time": "2024-07-17T16:54:45.646Z"
   },
   {
    "duration": 1525,
    "start_time": "2024-07-17T16:54:45.657Z"
   },
   {
    "duration": 1514,
    "start_time": "2024-07-17T16:54:47.186Z"
   },
   {
    "duration": 43,
    "start_time": "2024-07-17T16:54:48.706Z"
   },
   {
    "duration": 12,
    "start_time": "2024-07-17T16:54:48.753Z"
   },
   {
    "duration": 14,
    "start_time": "2024-07-17T16:54:48.770Z"
   },
   {
    "duration": 16,
    "start_time": "2024-07-17T16:54:48.786Z"
   },
   {
    "duration": 41,
    "start_time": "2024-07-17T16:54:48.806Z"
   },
   {
    "duration": 14,
    "start_time": "2024-07-17T16:54:48.858Z"
   },
   {
    "duration": 26,
    "start_time": "2024-07-17T16:54:48.875Z"
   },
   {
    "duration": 51,
    "start_time": "2024-07-17T16:54:48.905Z"
   },
   {
    "duration": 91,
    "start_time": "2024-07-17T16:54:48.961Z"
   },
   {
    "duration": 20,
    "start_time": "2024-07-17T16:54:49.057Z"
   },
   {
    "duration": 61,
    "start_time": "2024-07-17T16:54:49.081Z"
   },
   {
    "duration": 44,
    "start_time": "2024-07-17T16:54:49.145Z"
   },
   {
    "duration": 52,
    "start_time": "2024-07-17T16:54:49.194Z"
   },
   {
    "duration": 33,
    "start_time": "2024-07-17T16:54:49.250Z"
   },
   {
    "duration": 570,
    "start_time": "2024-07-17T16:54:49.288Z"
   },
   {
    "duration": 300,
    "start_time": "2024-07-17T16:54:49.861Z"
   },
   {
    "duration": 440,
    "start_time": "2024-07-17T16:54:50.165Z"
   },
   {
    "duration": 466,
    "start_time": "2024-07-17T16:54:50.608Z"
   },
   {
    "duration": 366,
    "start_time": "2024-07-17T16:54:51.078Z"
   },
   {
    "duration": 2095,
    "start_time": "2024-07-17T16:54:51.447Z"
   },
   {
    "duration": 916,
    "start_time": "2024-07-17T16:54:53.545Z"
   },
   {
    "duration": 802,
    "start_time": "2024-07-17T16:54:54.464Z"
   },
   {
    "duration": 1141,
    "start_time": "2024-07-17T16:54:55.269Z"
   },
   {
    "duration": 7,
    "start_time": "2024-07-17T16:54:56.413Z"
   },
   {
    "duration": 2268,
    "start_time": "2024-07-17T16:54:56.432Z"
   },
   {
    "duration": 229,
    "start_time": "2024-07-17T16:54:58.705Z"
   },
   {
    "duration": 469,
    "start_time": "2024-07-17T16:55:16.499Z"
   },
   {
    "duration": 334,
    "start_time": "2024-07-17T16:55:20.820Z"
   },
   {
    "duration": 628,
    "start_time": "2024-07-17T16:55:27.795Z"
   },
   {
    "duration": 374,
    "start_time": "2024-07-17T16:55:32.522Z"
   },
   {
    "duration": 374,
    "start_time": "2024-07-17T16:55:38.650Z"
   },
   {
    "duration": 448,
    "start_time": "2024-07-17T16:55:48.161Z"
   },
   {
    "duration": 4310,
    "start_time": "2024-07-19T20:55:59.747Z"
   },
   {
    "duration": 1645,
    "start_time": "2024-07-19T20:56:04.061Z"
   },
   {
    "duration": 28,
    "start_time": "2024-07-19T20:56:05.708Z"
   },
   {
    "duration": 18,
    "start_time": "2024-07-19T20:56:05.740Z"
   },
   {
    "duration": 13,
    "start_time": "2024-07-19T20:56:05.761Z"
   },
   {
    "duration": 17,
    "start_time": "2024-07-19T20:56:05.777Z"
   },
   {
    "duration": 39,
    "start_time": "2024-07-19T20:56:05.834Z"
   },
   {
    "duration": 82,
    "start_time": "2024-07-19T20:56:05.876Z"
   },
   {
    "duration": 20,
    "start_time": "2024-07-19T20:56:05.961Z"
   },
   {
    "duration": 193,
    "start_time": "2024-07-19T20:56:05.988Z"
   },
   {
    "duration": 168,
    "start_time": "2024-07-19T20:56:06.184Z"
   },
   {
    "duration": 48,
    "start_time": "2024-07-19T20:56:06.355Z"
   },
   {
    "duration": 45,
    "start_time": "2024-07-19T20:56:06.407Z"
   },
   {
    "duration": 8,
    "start_time": "2024-07-19T20:56:06.455Z"
   },
   {
    "duration": 76,
    "start_time": "2024-07-19T20:56:06.465Z"
   },
   {
    "duration": 31,
    "start_time": "2024-07-19T20:56:06.544Z"
   },
   {
    "duration": 12,
    "start_time": "2024-07-19T20:56:06.581Z"
   },
   {
    "duration": 14,
    "start_time": "2024-07-19T20:56:06.596Z"
   },
   {
    "duration": 23,
    "start_time": "2024-07-19T20:56:06.614Z"
   },
   {
    "duration": 6,
    "start_time": "2024-07-19T20:56:06.640Z"
   },
   {
    "duration": 1385,
    "start_time": "2024-07-19T20:56:06.649Z"
   },
   {
    "duration": 1319,
    "start_time": "2024-07-19T20:56:08.036Z"
   },
   {
    "duration": 21,
    "start_time": "2024-07-19T20:56:09.357Z"
   },
   {
    "duration": 11,
    "start_time": "2024-07-19T20:56:09.381Z"
   },
   {
    "duration": 41,
    "start_time": "2024-07-19T20:56:09.394Z"
   },
   {
    "duration": 10,
    "start_time": "2024-07-19T20:56:09.438Z"
   },
   {
    "duration": 7,
    "start_time": "2024-07-19T20:56:09.451Z"
   },
   {
    "duration": 10,
    "start_time": "2024-07-19T20:56:09.466Z"
   },
   {
    "duration": 66,
    "start_time": "2024-07-19T20:56:09.479Z"
   },
   {
    "duration": 29,
    "start_time": "2024-07-19T20:56:09.548Z"
   },
   {
    "duration": 80,
    "start_time": "2024-07-19T20:56:09.579Z"
   },
   {
    "duration": 19,
    "start_time": "2024-07-19T20:56:09.662Z"
   },
   {
    "duration": 65,
    "start_time": "2024-07-19T20:56:09.683Z"
   },
   {
    "duration": 40,
    "start_time": "2024-07-19T20:56:09.751Z"
   },
   {
    "duration": 44,
    "start_time": "2024-07-19T20:56:09.794Z"
   },
   {
    "duration": 26,
    "start_time": "2024-07-19T20:56:09.841Z"
   },
   {
    "duration": 488,
    "start_time": "2024-07-19T20:56:09.870Z"
   },
   {
    "duration": 247,
    "start_time": "2024-07-19T20:56:10.362Z"
   },
   {
    "duration": 435,
    "start_time": "2024-07-19T20:56:10.612Z"
   },
   {
    "duration": 450,
    "start_time": "2024-07-19T20:56:11.050Z"
   },
   {
    "duration": 356,
    "start_time": "2024-07-19T20:56:11.503Z"
   },
   {
    "duration": 1848,
    "start_time": "2024-07-19T20:56:11.863Z"
   },
   {
    "duration": 840,
    "start_time": "2024-07-19T20:56:13.714Z"
   },
   {
    "duration": 758,
    "start_time": "2024-07-19T20:56:14.557Z"
   },
   {
    "duration": 970,
    "start_time": "2024-07-19T20:56:15.318Z"
   },
   {
    "duration": 3,
    "start_time": "2024-07-19T20:56:16.292Z"
   },
   {
    "duration": 2058,
    "start_time": "2024-07-19T20:56:16.298Z"
   },
   {
    "duration": 175,
    "start_time": "2024-07-19T20:56:18.359Z"
   },
   {
    "duration": 436,
    "start_time": "2024-07-19T20:57:30.007Z"
   },
   {
    "duration": 420,
    "start_time": "2024-07-19T20:57:56.673Z"
   },
   {
    "duration": 423,
    "start_time": "2024-07-19T20:58:09.940Z"
   },
   {
    "duration": 427,
    "start_time": "2024-07-19T20:58:17.875Z"
   },
   {
    "duration": 14,
    "start_time": "2024-07-30T00:24:21.088Z"
   },
   {
    "duration": 331,
    "start_time": "2024-07-30T00:24:26.970Z"
   },
   {
    "duration": 4556,
    "start_time": "2024-07-30T00:24:34.952Z"
   },
   {
    "duration": 1693,
    "start_time": "2024-07-30T00:24:39.512Z"
   },
   {
    "duration": 21,
    "start_time": "2024-07-30T00:24:41.208Z"
   },
   {
    "duration": 18,
    "start_time": "2024-07-30T00:24:41.232Z"
   },
   {
    "duration": 51,
    "start_time": "2024-07-30T00:24:41.256Z"
   },
   {
    "duration": 15,
    "start_time": "2024-07-30T00:24:41.310Z"
   },
   {
    "duration": 74,
    "start_time": "2024-07-30T00:24:41.328Z"
   },
   {
    "duration": 52,
    "start_time": "2024-07-30T00:24:41.406Z"
   },
   {
    "duration": 43,
    "start_time": "2024-07-30T00:24:41.461Z"
   },
   {
    "duration": 227,
    "start_time": "2024-07-30T00:24:41.508Z"
   },
   {
    "duration": 186,
    "start_time": "2024-07-30T00:24:41.738Z"
   },
   {
    "duration": 54,
    "start_time": "2024-07-30T00:24:41.926Z"
   },
   {
    "duration": 23,
    "start_time": "2024-07-30T00:24:42.003Z"
   },
   {
    "duration": 8,
    "start_time": "2024-07-30T00:24:42.032Z"
   },
   {
    "duration": 68,
    "start_time": "2024-07-30T00:24:42.042Z"
   },
   {
    "duration": 33,
    "start_time": "2024-07-30T00:24:42.113Z"
   },
   {
    "duration": 8,
    "start_time": "2024-07-30T00:24:42.149Z"
   },
   {
    "duration": 43,
    "start_time": "2024-07-30T00:24:42.160Z"
   },
   {
    "duration": 7,
    "start_time": "2024-07-30T00:24:42.206Z"
   },
   {
    "duration": 7,
    "start_time": "2024-07-30T00:24:42.217Z"
   },
   {
    "duration": 1459,
    "start_time": "2024-07-30T00:24:42.227Z"
   },
   {
    "duration": 1417,
    "start_time": "2024-07-30T00:24:43.690Z"
   },
   {
    "duration": 25,
    "start_time": "2024-07-30T00:24:45.111Z"
   },
   {
    "duration": 10,
    "start_time": "2024-07-30T00:24:45.139Z"
   },
   {
    "duration": 50,
    "start_time": "2024-07-30T00:24:45.153Z"
   },
   {
    "duration": 11,
    "start_time": "2024-07-30T00:24:45.206Z"
   },
   {
    "duration": 8,
    "start_time": "2024-07-30T00:24:45.220Z"
   },
   {
    "duration": 12,
    "start_time": "2024-07-30T00:24:45.231Z"
   },
   {
    "duration": 61,
    "start_time": "2024-07-30T00:24:45.246Z"
   },
   {
    "duration": 29,
    "start_time": "2024-07-30T00:24:45.310Z"
   },
   {
    "duration": 81,
    "start_time": "2024-07-30T00:24:45.342Z"
   },
   {
    "duration": 21,
    "start_time": "2024-07-30T00:24:45.427Z"
   },
   {
    "duration": 69,
    "start_time": "2024-07-30T00:24:45.450Z"
   },
   {
    "duration": 41,
    "start_time": "2024-07-30T00:24:45.522Z"
   },
   {
    "duration": 40,
    "start_time": "2024-07-30T00:24:45.567Z"
   },
   {
    "duration": 26,
    "start_time": "2024-07-30T00:24:45.610Z"
   },
   {
    "duration": 596,
    "start_time": "2024-07-30T00:24:45.638Z"
   },
   {
    "duration": 241,
    "start_time": "2024-07-30T00:24:46.238Z"
   },
   {
    "duration": 406,
    "start_time": "2024-07-30T00:24:46.482Z"
   },
   {
    "duration": 460,
    "start_time": "2024-07-30T00:24:46.892Z"
   },
   {
    "duration": 374,
    "start_time": "2024-07-30T00:24:47.360Z"
   },
   {
    "duration": 1980,
    "start_time": "2024-07-30T00:24:47.738Z"
   },
   {
    "duration": 848,
    "start_time": "2024-07-30T00:24:49.721Z"
   },
   {
    "duration": 791,
    "start_time": "2024-07-30T00:24:50.573Z"
   },
   {
    "duration": 1016,
    "start_time": "2024-07-30T00:24:51.367Z"
   },
   {
    "duration": 15,
    "start_time": "2024-07-30T00:24:52.386Z"
   },
   {
    "duration": 2285,
    "start_time": "2024-07-30T00:24:52.404Z"
   },
   {
    "duration": 167,
    "start_time": "2024-07-30T00:24:54.701Z"
   },
   {
    "duration": 28,
    "start_time": "2024-07-30T00:33:50.918Z"
   },
   {
    "duration": 12,
    "start_time": "2024-07-30T00:34:04.325Z"
   },
   {
    "duration": 26,
    "start_time": "2024-07-30T00:34:46.787Z"
   },
   {
    "duration": 42,
    "start_time": "2024-07-30T00:37:18.632Z"
   },
   {
    "duration": 36,
    "start_time": "2024-07-30T00:37:23.517Z"
   },
   {
    "duration": 28,
    "start_time": "2024-07-30T00:37:28.708Z"
   },
   {
    "duration": 27,
    "start_time": "2024-07-30T00:37:44.837Z"
   },
   {
    "duration": 35,
    "start_time": "2024-07-30T00:40:34.421Z"
   },
   {
    "duration": 34,
    "start_time": "2024-07-30T00:40:37.873Z"
   },
   {
    "duration": 28,
    "start_time": "2024-07-30T00:40:59.055Z"
   },
   {
    "duration": 75,
    "start_time": "2024-07-30T00:42:42.954Z"
   },
   {
    "duration": 9,
    "start_time": "2024-07-30T00:42:49.793Z"
   },
   {
    "duration": 10,
    "start_time": "2024-07-30T00:46:17.203Z"
   },
   {
    "duration": 10,
    "start_time": "2024-07-30T00:46:20.699Z"
   },
   {
    "duration": 11,
    "start_time": "2024-07-30T00:46:26.126Z"
   },
   {
    "duration": 5,
    "start_time": "2024-07-30T00:46:30.316Z"
   },
   {
    "duration": 10,
    "start_time": "2024-07-30T00:46:31.808Z"
   },
   {
    "duration": 747,
    "start_time": "2024-07-30T00:46:37.687Z"
   },
   {
    "duration": 1621,
    "start_time": "2024-07-30T00:46:38.437Z"
   },
   {
    "duration": 22,
    "start_time": "2024-07-30T00:46:40.061Z"
   },
   {
    "duration": 17,
    "start_time": "2024-07-30T00:46:40.102Z"
   },
   {
    "duration": 15,
    "start_time": "2024-07-30T00:46:40.125Z"
   },
   {
    "duration": 14,
    "start_time": "2024-07-30T00:46:40.143Z"
   },
   {
    "duration": 41,
    "start_time": "2024-07-30T00:46:40.201Z"
   },
   {
    "duration": 72,
    "start_time": "2024-07-30T00:46:40.245Z"
   },
   {
    "duration": 22,
    "start_time": "2024-07-30T00:46:40.320Z"
   },
   {
    "duration": 231,
    "start_time": "2024-07-30T00:46:40.346Z"
   },
   {
    "duration": 204,
    "start_time": "2024-07-30T00:46:40.580Z"
   },
   {
    "duration": 56,
    "start_time": "2024-07-30T00:46:40.787Z"
   },
   {
    "duration": 22,
    "start_time": "2024-07-30T00:46:40.846Z"
   },
   {
    "duration": 6,
    "start_time": "2024-07-30T00:46:40.904Z"
   },
   {
    "duration": 39,
    "start_time": "2024-07-30T00:46:40.913Z"
   },
   {
    "duration": 60,
    "start_time": "2024-07-30T00:46:40.955Z"
   },
   {
    "duration": 7,
    "start_time": "2024-07-30T00:46:41.018Z"
   },
   {
    "duration": 7,
    "start_time": "2024-07-30T00:46:41.028Z"
   },
   {
    "duration": 8,
    "start_time": "2024-07-30T00:46:41.038Z"
   },
   {
    "duration": 7,
    "start_time": "2024-07-30T00:46:41.049Z"
   },
   {
    "duration": 1442,
    "start_time": "2024-07-30T00:46:41.103Z"
   },
   {
    "duration": 1444,
    "start_time": "2024-07-30T00:46:42.548Z"
   },
   {
    "duration": 22,
    "start_time": "2024-07-30T00:46:44.002Z"
   },
   {
    "duration": 8,
    "start_time": "2024-07-30T00:46:44.027Z"
   },
   {
    "duration": 9,
    "start_time": "2024-07-30T00:46:44.038Z"
   },
   {
    "duration": 51,
    "start_time": "2024-07-30T00:46:44.051Z"
   },
   {
    "duration": 7,
    "start_time": "2024-07-30T00:46:44.106Z"
   },
   {
    "duration": 11,
    "start_time": "2024-07-30T00:46:44.117Z"
   },
   {
    "duration": 28,
    "start_time": "2024-07-30T00:46:44.131Z"
   },
   {
    "duration": 29,
    "start_time": "2024-07-30T00:46:44.202Z"
   },
   {
    "duration": 76,
    "start_time": "2024-07-30T00:46:44.235Z"
   },
   {
    "duration": 20,
    "start_time": "2024-07-30T00:46:44.315Z"
   },
   {
    "duration": 66,
    "start_time": "2024-07-30T00:46:44.338Z"
   },
   {
    "duration": 44,
    "start_time": "2024-07-30T00:46:44.409Z"
   },
   {
    "duration": 49,
    "start_time": "2024-07-30T00:46:44.457Z"
   },
   {
    "duration": 27,
    "start_time": "2024-07-30T00:46:44.509Z"
   },
   {
    "duration": 511,
    "start_time": "2024-07-30T00:46:44.539Z"
   },
   {
    "duration": 242,
    "start_time": "2024-07-30T00:46:45.053Z"
   },
   {
    "duration": 399,
    "start_time": "2024-07-30T00:46:45.302Z"
   },
   {
    "duration": 471,
    "start_time": "2024-07-30T00:46:45.705Z"
   },
   {
    "duration": 363,
    "start_time": "2024-07-30T00:46:46.185Z"
   },
   {
    "duration": 1951,
    "start_time": "2024-07-30T00:46:46.551Z"
   },
   {
    "duration": 904,
    "start_time": "2024-07-30T00:46:48.505Z"
   },
   {
    "duration": 788,
    "start_time": "2024-07-30T00:46:49.413Z"
   },
   {
    "duration": 1045,
    "start_time": "2024-07-30T00:46:50.204Z"
   },
   {
    "duration": 3,
    "start_time": "2024-07-30T00:46:51.252Z"
   },
   {
    "duration": 2403,
    "start_time": "2024-07-30T00:46:51.259Z"
   },
   {
    "duration": 182,
    "start_time": "2024-07-30T00:46:53.668Z"
   },
   {
    "duration": 4296,
    "start_time": "2024-08-13T05:46:25.930Z"
   },
   {
    "duration": 1684,
    "start_time": "2024-08-13T05:46:30.229Z"
   },
   {
    "duration": 25,
    "start_time": "2024-08-13T05:46:31.916Z"
   },
   {
    "duration": 17,
    "start_time": "2024-08-13T05:46:31.946Z"
   },
   {
    "duration": 14,
    "start_time": "2024-08-13T05:46:31.966Z"
   },
   {
    "duration": 55,
    "start_time": "2024-08-13T05:46:31.983Z"
   },
   {
    "duration": 38,
    "start_time": "2024-08-13T05:46:32.041Z"
   },
   {
    "duration": 70,
    "start_time": "2024-08-13T05:46:32.083Z"
   },
   {
    "duration": 18,
    "start_time": "2024-08-13T05:46:32.155Z"
   },
   {
    "duration": 192,
    "start_time": "2024-08-13T05:46:32.180Z"
   },
   {
    "duration": 168,
    "start_time": "2024-08-13T05:46:32.375Z"
   },
   {
    "duration": 47,
    "start_time": "2024-08-13T05:46:32.546Z"
   },
   {
    "duration": 53,
    "start_time": "2024-08-13T05:46:32.595Z"
   },
   {
    "duration": 9,
    "start_time": "2024-08-13T05:46:32.653Z"
   },
   {
    "duration": 59,
    "start_time": "2024-08-13T05:46:32.666Z"
   },
   {
    "duration": 30,
    "start_time": "2024-08-13T05:46:32.727Z"
   },
   {
    "duration": 7,
    "start_time": "2024-08-13T05:46:32.760Z"
   },
   {
    "duration": 6,
    "start_time": "2024-08-13T05:46:32.770Z"
   },
   {
    "duration": 48,
    "start_time": "2024-08-13T05:46:32.779Z"
   },
   {
    "duration": 9,
    "start_time": "2024-08-13T05:46:32.829Z"
   },
   {
    "duration": 1348,
    "start_time": "2024-08-13T05:46:32.841Z"
   },
   {
    "duration": 1329,
    "start_time": "2024-08-13T05:46:34.192Z"
   },
   {
    "duration": 21,
    "start_time": "2024-08-13T05:46:35.524Z"
   },
   {
    "duration": 10,
    "start_time": "2024-08-13T05:46:35.548Z"
   },
   {
    "duration": 9,
    "start_time": "2024-08-13T05:46:35.561Z"
   },
   {
    "duration": 9,
    "start_time": "2024-08-13T05:46:35.573Z"
   },
   {
    "duration": 8,
    "start_time": "2024-08-13T05:46:35.627Z"
   },
   {
    "duration": 10,
    "start_time": "2024-08-13T05:46:35.645Z"
   },
   {
    "duration": 24,
    "start_time": "2024-08-13T05:46:35.658Z"
   },
   {
    "duration": 28,
    "start_time": "2024-08-13T05:46:35.728Z"
   },
   {
    "duration": 71,
    "start_time": "2024-08-13T05:46:35.760Z"
   },
   {
    "duration": 19,
    "start_time": "2024-08-13T05:46:35.834Z"
   },
   {
    "duration": 41,
    "start_time": "2024-08-13T05:46:35.856Z"
   },
   {
    "duration": 39,
    "start_time": "2024-08-13T05:46:35.926Z"
   },
   {
    "duration": 21,
    "start_time": "2024-08-13T05:46:35.968Z"
   },
   {
    "duration": 58,
    "start_time": "2024-08-13T05:46:35.992Z"
   },
   {
    "duration": 484,
    "start_time": "2024-08-13T05:46:36.052Z"
   },
   {
    "duration": 233,
    "start_time": "2024-08-13T05:46:36.539Z"
   },
   {
    "duration": 385,
    "start_time": "2024-08-13T05:46:36.776Z"
   },
   {
    "duration": 496,
    "start_time": "2024-08-13T05:46:37.164Z"
   },
   {
    "duration": 353,
    "start_time": "2024-08-13T05:46:37.663Z"
   },
   {
    "duration": 1870,
    "start_time": "2024-08-13T05:46:38.019Z"
   },
   {
    "duration": 805,
    "start_time": "2024-08-13T05:46:39.892Z"
   },
   {
    "duration": 763,
    "start_time": "2024-08-13T05:46:40.699Z"
   },
   {
    "duration": 978,
    "start_time": "2024-08-13T05:46:41.466Z"
   },
   {
    "duration": 3,
    "start_time": "2024-08-13T05:46:42.447Z"
   },
   {
    "duration": 2036,
    "start_time": "2024-08-13T05:46:42.454Z"
   },
   {
    "duration": 168,
    "start_time": "2024-08-13T05:46:44.494Z"
   },
   {
    "duration": 425,
    "start_time": "2024-08-13T05:47:36.520Z"
   },
   {
    "duration": 363,
    "start_time": "2024-08-13T05:49:40.705Z"
   },
   {
    "duration": 130,
    "start_time": "2024-08-13T05:49:49.421Z"
   },
   {
    "duration": 462,
    "start_time": "2024-08-13T05:51:03.395Z"
   },
   {
    "duration": 444,
    "start_time": "2024-08-13T05:51:54.591Z"
   },
   {
    "duration": 308,
    "start_time": "2024-08-14T05:11:42.831Z"
   }
  ],
  "colab": {
   "provenance": []
  },
  "kernelspec": {
   "display_name": "Python 3 (ipykernel)",
   "language": "python",
   "name": "python3"
  },
  "language_info": {
   "codemirror_mode": {
    "name": "ipython",
    "version": 3
   },
   "file_extension": ".py",
   "mimetype": "text/x-python",
   "name": "python",
   "nbconvert_exporter": "python",
   "pygments_lexer": "ipython3",
   "version": "3.12.4"
  },
  "toc": {
   "base_numbering": 1,
   "nav_menu": {},
   "number_sections": true,
   "sideBar": true,
   "skip_h1_title": true,
   "title_cell": "Table of Contents",
   "title_sidebar": "Contents",
   "toc_cell": false,
   "toc_position": {},
   "toc_section_display": true,
   "toc_window_display": false
  },
  "vscode": {
   "interpreter": {
    "hash": "01a7be9ec63e704a62cefc5fe7a4756944464ee731be31632bdf42a4cb4688cf"
   }
  }
 },
 "nbformat": 4,
 "nbformat_minor": 5
}
